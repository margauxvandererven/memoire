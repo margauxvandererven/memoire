{
 "cells": [
  {
   "cell_type": "code",
   "execution_count": 1,
   "metadata": {},
   "outputs": [
    {
     "name": "stdout",
     "output_type": "stream",
     "text": [
      "Dispersion is linear\n",
      "Dispersion is linear\n",
      "Dispersion is linear\n",
      "Dispersion is linear\n"
     ]
    }
   ],
   "source": [
    "%matplotlib qt\n",
    "# %matplotlib\n",
    "import numpy as np\n",
    "# import matplotlib as mpl\n",
    "import matplotlib.pyplot as plt\n",
    "# from pathlib import Path\n",
    "from tueplots import fonts\n",
    "from pprint import pprint\n",
    "# from mpl_toolkits.mplot3d import Axes3D\n",
    "from scipy.interpolate import griddata\n",
    "from scipy.optimize import minimize\n",
    "# import json\n",
    "# import importlib\n",
    "# import pyperclip\n",
    "# import os\n",
    "# import re\n",
    "\n",
    "# from matplotlib.ticker import MultipleLocator\n",
    "# from scipy.interpolate import interp1d\n",
    "from stardata_BD22 import *\n",
    "# from readmultispec import * #permet de lire les fichiers fits de spectre à échelle\n",
    "# from wavelen_work import * #permet de traiter les spectres synthétiques et de zoomer sur différentes parties du spectres\n",
    "from zoom_raies import * #permet de zoomer sur les raies demandées avec les spectres synthétiques demandés\n",
    "from minimisation_chi_2 import *\n",
    " \n",
    "import pot_exc\n",
    "\n",
    "# import minimisation_chi_2\n",
    "repertory_memoire=\"/Users/margauxvandererven/Library/CloudStorage/OneDrive-UniversitéLibredeBruxelles/memoire/\"\n",
    "plt.rcParams.update(fonts.neurips2021())"
   ]
  }
 ],
 "metadata": {
  "kernelspec": {
   "display_name": "mon_env",
   "language": "python",
   "name": "python3"
  },
  "language_info": {
   "codemirror_mode": {
    "name": "ipython",
    "version": 3
   },
   "file_extension": ".py",
   "mimetype": "text/x-python",
   "name": "python",
   "nbconvert_exporter": "python",
   "pygments_lexer": "ipython3",
   "version": "3.13.0"
  }
 },
 "nbformat": 4,
 "nbformat_minor": 2
}
