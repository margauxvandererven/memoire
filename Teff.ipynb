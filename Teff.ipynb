version https://git-lfs.github.com/spec/v1
oid sha256:cca5118723d78ba96a5ef51486649734487e1c5d7c33bba2cd15911b5b9edaff
size 44920
