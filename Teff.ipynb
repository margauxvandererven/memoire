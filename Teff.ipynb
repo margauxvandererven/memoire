version https://git-lfs.github.com/spec/v1
oid sha256:9d9b410daadd1ca021c61f54c5ef159fe4750b8f8fda2aff3d0e0109cdb5f7c0
size 67441
