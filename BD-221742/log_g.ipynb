{
 "cells": [
  {
   "cell_type": "code",
   "execution_count": 1,
   "metadata": {},
   "outputs": [
    {
     "ename": "ModuleNotFoundError",
     "evalue": "No module named 'stardata_BD22'",
     "output_type": "error",
     "traceback": [
      "\u001b[0;31m---------------------------------------------------------------------------\u001b[0m",
      "\u001b[0;31mModuleNotFoundError\u001b[0m                       Traceback (most recent call last)",
      "Cell \u001b[0;32mIn[1], line 20\u001b[0m\n\u001b[1;32m     11\u001b[0m \u001b[38;5;28;01mfrom\u001b[39;00m \u001b[38;5;21;01mscipy\u001b[39;00m\u001b[38;5;21;01m.\u001b[39;00m\u001b[38;5;21;01moptimize\u001b[39;00m \u001b[38;5;28;01mimport\u001b[39;00m minimize\n\u001b[1;32m     12\u001b[0m \u001b[38;5;66;03m# import json\u001b[39;00m\n\u001b[1;32m     13\u001b[0m \u001b[38;5;66;03m# import importlib\u001b[39;00m\n\u001b[1;32m     14\u001b[0m \n\u001b[0;32m   (...)\u001b[0m\n\u001b[1;32m     18\u001b[0m \u001b[38;5;66;03m# from matplotlib.ticker import MultipleLocator\u001b[39;00m\n\u001b[1;32m     19\u001b[0m \u001b[38;5;66;03m# from scipy.interpolate import interp1d\u001b[39;00m\n\u001b[0;32m---> 20\u001b[0m \u001b[38;5;28;01mfrom\u001b[39;00m \u001b[38;5;21;01mstardata_BD22\u001b[39;00m \u001b[38;5;28;01mimport\u001b[39;00m \u001b[38;5;241m*\u001b[39m\n\u001b[1;32m     21\u001b[0m \u001b[38;5;66;03m# from readmultispec import * #permet de lire les fichiers fits de spectre à échelle\u001b[39;00m\n\u001b[1;32m     22\u001b[0m \u001b[38;5;66;03m# from wavelen_work import * #permet de traiter les spectres synthétiques et de zoomer sur différentes parties du spectres\u001b[39;00m\n\u001b[1;32m     23\u001b[0m \u001b[38;5;28;01mfrom\u001b[39;00m \u001b[38;5;21;01mzoom_raies\u001b[39;00m \u001b[38;5;28;01mimport\u001b[39;00m \u001b[38;5;241m*\u001b[39m \u001b[38;5;66;03m#permet de zoomer sur les raies demandées avec les spectres synthétiques demandés\u001b[39;00m\n",
      "\u001b[0;31mModuleNotFoundError\u001b[0m: No module named 'stardata_BD22'"
     ]
    },
    {
     "ename": "",
     "evalue": "",
     "output_type": "error",
     "traceback": [
      "\u001b[1;31mLe noyau s’est bloqué lors de l’exécution du code dans une cellule active ou une cellule précédente. \n",
      "\u001b[1;31mVeuillez vérifier le code dans la ou les cellules pour identifier une cause possible de l’échec. \n",
      "\u001b[1;31mCliquez <a href='https://aka.ms/vscodeJupyterKernelCrash'>ici</a> pour plus d’informations. \n",
      "\u001b[1;31mPour plus d’informations, consultez Jupyter <a href='command:jupyter.viewOutput'>log</a>."
     ]
    }
   ],
   "source": [
    "%matplotlib qt\n",
    "# %matplotlib\n",
    "import numpy as np\n",
    "# import matplotlib as mpl\n",
    "import matplotlib.pyplot as plt\n",
    "# from pathlib import Path\n",
    "from tueplots import fonts\n",
    "from pprint import pprint\n",
    "# from mpl_toolkits.mplot3d import Axes3D\n",
    "from scipy.interpolate import griddata\n",
    "from scipy.optimize import minimize\n",
    "# import json\n",
    "# import importlib\n",
    "\n",
    "# import os\n",
    "# import re\n",
    "\n",
    "# from matplotlib.ticker import MultipleLocator\n",
    "# from scipy.interpolate import interp1d\n",
    "from stardata_BD22 import *\n",
    "# from readmultispec import * #permet de lire les fichiers fits de spectre à échelle\n",
    "# from wavelen_work import * #permet de traiter les spectres synthétiques et de zoomer sur différentes parties du spectres\n",
    "from zoom_raies import * #permet de zoomer sur les raies demandées avec les spectres synthétiques demandés\n",
    "from minimisation_chi_2 import *\n",
    " \n",
    "import pot_exc\n",
    "\n",
    "# import minimisation_chi_2\n",
    "repertory_memoire=\"/Users/margauxvandererven/Library/CloudStorage/OneDrive-UniversitéLibredeBruxelles/memoire/\"\n",
    "plt.rcParams.update(fonts.neurips2021())"
   ]
  },
  {
   "cell_type": "code",
   "execution_count": null,
   "metadata": {},
   "outputs": [],
   "source": [
    "%%notify_on_finish\n",
    "with open(\"iso.txt\",\"r\",encoding=\"utf8\") as file :\n",
    "        lines = file.readlines()\n",
    "\n",
    "# print(lines[16].split)\n",
    "logg = []\n",
    "logTeff = []\n",
    "\n",
    "for i in lines[14:-1]:\n",
    "        logg.append(float(i.split()[8]))\n",
    "        logTeff.append(float(i.split()[7]))\n",
    "\n",
    "# print(logg[0], logg[-1], logTeff[0], logTeff[-1])\n",
    "\n",
    "\n",
    "f = plt.figure(figsize=(8, 8))\n",
    "gs = f.add_gridspec(1)\n",
    "ax = gs.subplots(sharex=False, sharey=True)\n",
    "\n",
    "ax.plot(logTeff, logg, color='indianred')\n",
    "ax.set_xlabel(\"log T$_{eff}$\", fontsize=14)\n",
    "ax.set_ylabel(\"log g\", fontsize=14)\n",
    "ax.tick_params(axis = 'both', labelsize = 10)\n",
    "ax.xaxis.set_tick_params(direction = 'in', length = 5, which = 'major', top=True, bottom=True)\n",
    "ax.xaxis.set_tick_params(direction = 'in', length = 2, which = 'minor', top=True, bottom=True)\n",
    "ax.yaxis.set_tick_params(direction = 'in', length = 5, which = 'major',top=True, bottom=True)\n",
    "ax.yaxis.set_tick_params(direction = 'in', length = 2, which = 'minor',top=True, bottom=True)\n",
    "\n",
    "ax.xaxis.set_major_locator(MultipleLocator(0.1))\n",
    "ax.xaxis.set_minor_locator(MultipleLocator(0.05))\n",
    "ax.yaxis.set_major_locator(MultipleLocator(1))\n",
    "ax.yaxis.set_minor_locator(MultipleLocator(0.5))\n",
    "\n",
    "ax.invert_xaxis()\n",
    "ax.invert_yaxis()\n",
    "plt.show()"
   ]
  },
  {
   "cell_type": "code",
   "execution_count": null,
   "metadata": {},
   "outputs": [],
   "source": [
    "from sympy import symbols, Eq, solve\n",
    "with open(\"../VAR_ROT0.00_SH_Z0.01_Y0.267/Z0.01Y0.267O_IN0.00OUTA1.74_F7_M2.00.TAB\",\"r\",encoding=\"utf8\") as file :\n",
    "        lines = file.readlines()\n",
    "\n",
    "# print(lines[16].split)\n",
    "logL = []\n",
    "logTeff = []\n",
    "Mass=[]\n",
    "\n",
    "for i in lines[5:-1]:\n",
    "        logL.append(float(i.split()[4]))\n",
    "        logTeff.append(float(i.split()[5]))\n",
    "        Mass.append(float(i.split()[1]))\n",
    "\n",
    "# print(logL[0], logL[-1], logTeff[0], logTeff[-1])\n",
    "logg=[]\n",
    "for i in range(len(logL)):\n",
    "        logR=1/2*(logL[i]-4*logTeff[i])\n",
    "        logg_ = np.log10(Mass[i])-2*logR\n",
    "        logg.append(logg_)\n",
    "\n",
    "f = plt.figure(figsize=(8, 8))\n",
    "gs = f.add_gridspec(1)\n",
    "ax = gs.subplots(sharex=False, sharey=True)\n",
    "\n",
    "ax.plot(logTeff, logL, color='indianred')\n",
    "ax.set_xlabel(\"log T$_{eff}$\", fontsize=14)\n",
    "ax.set_ylabel(\"log L\", fontsize=14)\n",
    "ax.tick_params(axis = 'both', labelsize = 10)\n",
    "ax.xaxis.set_tick_params(direction = 'in', length = 5, which = 'major', top=True, bottom=True)\n",
    "ax.xaxis.set_tick_params(direction = 'in', length = 2, which = 'minor', top=True, bottom=True)\n",
    "ax.yaxis.set_tick_params(direction = 'in', length = 5, which = 'major',top=True, bottom=True)\n",
    "ax.yaxis.set_tick_params(direction = 'in', length = 2, which = 'minor',top=True, bottom=True)\n",
    "\n",
    "ax.invert_xaxis()\n",
    "# ax.invert_yaxis()\n",
    "plt.show()"
   ]
  }
 ],
 "metadata": {
  "kernelspec": {
   "display_name": "base",
   "language": "python",
   "name": "python3"
  },
  "language_info": {
   "codemirror_mode": {
    "name": "ipython",
    "version": 3
   },
   "file_extension": ".py",
   "mimetype": "text/x-python",
   "name": "python",
   "nbconvert_exporter": "python",
   "pygments_lexer": "ipython3",
   "version": "3.11.7"
  }
 },
 "nbformat": 4,
 "nbformat_minor": 2
}
