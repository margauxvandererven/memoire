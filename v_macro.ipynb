{
 "cells": [
  {
   "cell_type": "code",
   "execution_count": 1,
   "metadata": {},
   "outputs": [
    {
     "name": "stdout",
     "output_type": "stream",
     "text": [
      "Dispersion is linear\n",
      "Dispersion is linear\n",
      "Dispersion is linear\n",
      "Dispersion is linear\n"
     ]
    }
   ],
   "source": [
    "%matplotlib qt\n",
    "# %matplotlib\n",
    "import numpy as np\n",
    "# import matplotlib as mpl\n",
    "import matplotlib.pyplot as plt\n",
    "# from pathlib import Path\n",
    "from tueplots import fonts\n",
    "from pprint import pprint\n",
    "# from mpl_toolkits.mplot3d import Axes3D\n",
    "from scipy.interpolate import griddata\n",
    "from scipy.optimize import minimize\n",
    "# import json\n",
    "# import importlib\n",
    "\n",
    "# import os\n",
    "# import re\n",
    "\n",
    "# from matplotlib.ticker import MultipleLocator\n",
    "# from scipy.interpolate import interp1d\n",
    "from stardata_BD22 import *\n",
    "# from readmultispec import * #permet de lire les fichiers fits de spectre à échelle\n",
    "# from wavelen_work import * #permet de traiter les spectres synthétiques et de zoomer sur différentes parties du spectres\n",
    "from zoom_raies import * #permet de zoomer sur les raies demandées avec les spectres synthétiques demandés\n",
    "from minimisation_chi_2 import *\n",
    " \n",
    "import pot_exc\n",
    "\n",
    "# import minimisation_chi_2\n",
    "repertory_memoire=\"/Users/margauxvandererven/Library/CloudStorage/OneDrive-UniversitéLibredeBruxelles/memoire/\"\n",
    "plt.rcParams.update(fonts.neurips2021())"
   ]
  },
  {
   "cell_type": "markdown",
   "metadata": {},
   "source": [
    "# MACROTURBULENCE"
   ]
  },
  {
   "cell_type": "markdown",
   "metadata": {},
   "source": [
    "## Bande K"
   ]
  },
  {
   "cell_type": "code",
   "execution_count": 2,
   "metadata": {},
   "outputs": [
    {
     "name": "stdout",
     "output_type": "stream",
     "text": [
      "Meilleure abondance estimée : 4.879508186238487\n",
      "Meilleure macroturbulence estimée : 8.895974460019419\n",
      "Valeur minimale de χ² estimée : 0.00042589228420308097\n"
     ]
    },
    {
     "name": "stderr",
     "output_type": "stream",
     "text": [
      "2025-02-02 18:16:27.354 python[26219:22239163] +[IMKClient subclass]: chose IMKClient_Modern\n",
      "2025-02-02 18:16:27.354 python[26219:22239163] +[IMKInputSession subclass]: chose IMKInputSession_Modern\n"
     ]
    }
   ],
   "source": [
    "#raie propre bande K\n",
    "raie_propre = {\n",
    "    \"Ti I\" : [\n",
    "          22211.219, \n",
    "            # 22232.844\n",
    "            ], \n",
    "}\n",
    "chi_final={}\n",
    "plot_chi_squared_MAC(path+\"v_macro/\",stardata,lines_BD22, raie_propre, \"Ti\", chi_final)\n",
    "plot_chi2_simple_MAC(path+\"v_macro/\", \"Ti\", stardata, raie_propre, lines_BD22,chi_final, [(4.9,8.5)])\n",
    "\n",
    "# for raie in list(raie_propre.keys()):\n",
    "#         for k in raie_propre.get(raie):\n",
    "#             chi_2(path, {\n",
    "#                 #   \"sans_Ti\": \" log $\\epsilon_{Ti\\,I}$ = -20 \", \n",
    "#                         #  \"Ti_4.8_MAC10\":\" log $\\epsilon_{Ti\\,I}$ = 4.8 & $v_{macro}$ = 10.00 $km s^{-1}$\", \n",
    "#                         #  \"Ti_5_MAC10\":\" log $\\epsilon_{Ti\\,I}$ = 5.0 & $v_{macro}$ = 10.00 $km s^{-1}$\",\n",
    "#                         #  \"Ti_5_MAC9.5\":\" log $\\epsilon_{Ti\\,I}$ = 5.0 & $v_{macro}$ = 9.5 $km s^{-1}$\", \n",
    "#                         \"Ti_5_MAC9\":\" log $\\epsilon_{Ti\\,I}$ = 5.0 & $v_{macro}$ = 9.0 $km s^{-1}$\", \n",
    "#                         #  \"Ti_5_MAC9.25\":\" log $\\epsilon_{Ti\\,I}$ = 5.0 & $v_{macro}$ = 9.25 $km s^{-1}$\",\n",
    "#                         #  \"Ti5_MAC9.2\":\" log $\\epsilon_{Ti\\,I}$ = 5.0 & $v_{macro}$ = 9.2 $km s^{-1}$\",\n",
    "#                         #  \"Ti5_MAC11\":\" log $\\epsilon_{Ti\\,I}$ = 5.0 & $v_{macro}$ = 11 $km s^{-1}$\",\n",
    "#                         # \"Ti5_MAC8.5\":\" log $\\epsilon_{Ti\\,I}$ = 5.0 & $v_{macro}$ = 8.5 $km s^{-1}$\",\n",
    "#                         # \"Ti5_MAC7.5\":\" log $\\epsilon_{Ti\\,I}$ = 5.0 & $v_{macro}$ = 7.5 $km s^{-1}$\",\n",
    "#                         # \"Ti5_MAC8\":\" log $\\epsilon_{Ti\\,I}$ = 5.0 & $v_{macro}$ = 8.0 $km s^{-1}$\",\n",
    "#                         \"Ti4.8_MAC8.5\":\" log $\\epsilon_{Ti\\,I}$ = 4.8 & $v_{macro}$ = 8.5 $km s^{-1}$\",\n",
    "#                         # \"atomic2\":\"atomic\"\n",
    "#                         # \"sans_Na\":\"sans Na\", \"K_9.52\":\"mac\"\n",
    "#                          }, stardata, k, lines_BD22, plot=True)"
   ]
  },
  {
   "cell_type": "code",
   "execution_count": 3,
   "metadata": {},
   "outputs": [
    {
     "name": "stdout",
     "output_type": "stream",
     "text": [
      "{22211.219: [22210.522431222184, 22211.90677627709]}\n"
     ]
    }
   ],
   "source": [
    "print(chi_final)"
   ]
  },
  {
   "cell_type": "code",
   "execution_count": null,
   "metadata": {},
   "outputs": [
    {
     "name": "stdout",
     "output_type": "stream",
     "text": [
      "Meilleure abondance estimée : 6.212738052719374\n",
      "Meilleure macroturbulence estimée : 8.413163010014179\n",
      "Valeur minimale de χ² estimée : 0.003337581976181847\n"
     ]
    }
   ],
   "source": [
    "#raie très/trop profonde ??\n",
    "#raie propre bande K\n",
    "raie_propre = {\n",
    "    \"Ca I\" : [\n",
    "        # 19853.092, \n",
    "              19933.727\n",
    "            ], \n",
    "}\n",
    "\n",
    "plot_chi_squared_MAC(path+\"v_macro/\",stardata,lines_BD22, raie_propre,\"Ca\", chi_final)\n",
    "plot_chi2_simple_MAC(path+\"v_macro/\", \"Ca\",stardata, raie_propre,lines_BD22, chi_final,[(6.3,8.5)])\n",
    "\n",
    "# macroturbulences2 = [8.5,8.5,8.5,8.5,8.5,8.0,9.5,9.0,7.5,11,10]\n",
    "# abondances2 = [4, 6, 6.5, 6.2, 6.3,6.3,6.3,6.3,6.3,6.3, 6.3]\n",
    "\n",
    "# for raie in list(raie_propre.keys()):\n",
    "#         for k in raie_propre.get(raie):\n",
    "#             chi_squared_values2 = chi_2(path, {\n",
    "#                         # \"sans_Ca\":\"sans Ca\",\n",
    "#                         \"Ca4_MAC8.5\":\" log $\\epsilon_{Ca\\,I}$ = 4.0 & $v_{macro}$ = 8.5 $km s^{-1}$\",\n",
    "#                         \"Ca6_MAC8.5\":\" log $\\epsilon_{Ca\\,I}$ = 6.0 & $v_{macro}$ = 8.5 $km s^{-1}$\",\n",
    "#                         \"Ca6.5_MAC8.5\":\" log $\\epsilon_{Ca\\,I}$ = 6.5 & $v_{macro}$ = 8.5 $km s^{-1}$\",\n",
    "#                         \"Ca6.2_MAC8.5\":\" log $\\epsilon_{Ca\\,I}$ = 6.5 & $v_{macro}$ = 8.5 $km s^{-1}$\",\n",
    "#                         \"Ca6.3_MAC8.5\":\" log $\\epsilon_{Ca\\,I}$ = 6.3 & $v_{macro}$ = 8.5 $km s^{-1}$\",\n",
    "#                         \"Ca6.3_MAC8\":\" log $\\epsilon_{Ca\\,I}$ = 6.3 & $v_{macro}$ = 8.0 $km s^{-1}$\",\n",
    "#                         \"Ca6.3_MAC9.5\":\" log $\\epsilon_{Ca\\,I}$ = 6.3 & $v_{macro}$ = 9.5 $km s^{-1}$\",\n",
    "#                         \"Ca6.3_MAC9\":\" log $\\epsilon_{Ca\\,I}$ = 6.3 & $v_{macro}$ = 9.0 $km s^{-1}$\",\n",
    "#                         \"Ca6.3_MAC7.5\":\" log $\\epsilon_{Ca\\,I}$ = 6.3 & $v_{macro}$ = 7.5 $km s^{-1}$\",\n",
    "#                         \"Ca6.3_MAC11\":\" log $\\epsilon_{Ca\\,I}$ = 6.3 & $v_{macro}$ = 11 $km s^{-1}$\",\n",
    "#                         \"Ca6.3_MAC10\":\" log $\\epsilon_{Ca\\,I}$ = 6.3 & $v_{macro}$ = 10 $km s^{-1}$\",\n",
    "#                          }, stardata, k, lines_BD22,raie)[\"chi_squared_values\"]"
   ]
  },
  {
   "cell_type": "code",
   "execution_count": null,
   "metadata": {},
   "outputs": [
    {
     "name": "stdout",
     "output_type": "stream",
     "text": [
      "Meilleure abondance estimée : 7.0959523262668\n",
      "Meilleure macroturbulence estimée : 8.652270669827564\n",
      "Valeur minimale de χ² estimée : 0.027037651690615803\n"
     ]
    }
   ],
   "source": [
    "#raie propre bande K\n",
    "raie_propre = {\n",
    "    \"Fe I\" : [\n",
    "        22257.107, \n",
    "            #   22260.18\n",
    "              ], \n",
    "}\n",
    "\n",
    "plot_chi_squared_MAC(path+\"v_macro/\",stardata,lines_BD22, raie_propre,\"Fe_bis\", chi_final)\n",
    "plot_chi2_simple_MAC(path+\"v_macro/\", \"Fe_bis\",stardata, raie_propre,lines_BD22,chi_final,[(7.1,8.55)])"
   ]
  },
  {
   "cell_type": "code",
   "execution_count": 10,
   "metadata": {},
   "outputs": [
    {
     "name": "stdout",
     "output_type": "stream",
     "text": [
      "{19853.092: [19852.429064691274, 19853.81340974618],\n",
      " 19933.727: [19932.99794688694, 19934.38229194185],\n",
      " 22211.219: [22210.522431222184, 22211.90677627709],\n",
      " 22257.107: [22256.48268704514, 22257.86703210005],\n",
      " 22260.18: [22259.66668067143, 22260.774156715357]}\n"
     ]
    }
   ],
   "source": [
    "pprint(chi_final)"
   ]
  },
  {
   "cell_type": "markdown",
   "metadata": {},
   "source": [
    "## Bande H"
   ]
  },
  {
   "cell_type": "code",
   "execution_count": 12,
   "metadata": {},
   "outputs": [
    {
     "name": "stdout",
     "output_type": "stream",
     "text": [
      "Meilleure abondance estimée : 7.068929478712688\n",
      "Meilleure macroturbulence estimée : 7.889618097896059\n",
      "Valeur minimale de χ² estimée : -4.415557333726716e-05\n"
     ]
    }
   ],
   "source": [
    "# raie propre bande H\n",
    "raie_propre = {\n",
    "    \"Fe I\":[\n",
    "        #   15194.490, #bon\n",
    "        #   15207.526\n",
    "            # 15244.974\n",
    "            15964.865 #bien propre\n",
    "            ]\n",
    "}\n",
    "plot_chi_squared_MAC(path+\"v_macro/\",stardata,lines_BD22, raie_propre,\"Fe\", chi_final)\n",
    "plot_chi2_simple_MAC(path+\"v_macro/\",\"Fe\",stardata, raie_propre, lines_BD22,chi_final,[(7.2,8.5), (7.2,9.5), (7.2,7.5)])"
   ]
  },
  {
   "cell_type": "code",
   "execution_count": null,
   "metadata": {},
   "outputs": [],
   "source": [
    "# raie propre bande H\n",
    "raie_propre = {\n",
    "    \"Fe I\":[\n",
    "17420.824\n",
    "# 14988.778\n",
    "            ]\n",
    "}\n",
    "plot_chi_squared_MAC(path,stardata,lines_BD22, raie_propre,\"Fe_ter\")\n",
    "plot_chi2_simple_MAC(path,\"Fe_ter\",stardata, raie_propre, lines_BD22,[(6.5,8.5)])"
   ]
  },
  {
   "cell_type": "code",
   "execution_count": null,
   "metadata": {},
   "outputs": [],
   "source": [
    "# raie propre bande H\n",
    "raie_propre = {\n",
    "    \"Co I\":[\n",
    "        16757.703500000003\n",
    "            ]}\n",
    "plot_chi_squared_MAC(path,stardata,lines_BD22,raie_propre,\"Co\")            \n",
    "plot_chi2_simple_MAC(path, \"Co\", stardata, raie_propre,lines_BD22,[(4.6,8.5)])\n",
    "# macroturbulences2 = [8.5,8.5,8.5,9,11,7,8]\n",
    "# abondances2 = [4.5,4.9,4.6,4.6,4.6,4.6,4.6]\n",
    "\n",
    "# for raie in list(raie_propre.keys()):\n",
    "#         for k in raie_propre.get(raie):\n",
    "#             chi_squared_values2 = chi_2(path, {\n",
    "#                         # \"sans_Co\":\"sans co\",\n",
    "#                         \"Co4.5_MAC8.5\" : \"log $\\epsilon_{Co\\, I}$ = 4.5 & $v_{macro}$ = 8.5 $km s^{-1}$\",\n",
    "#                         \"Co4.9_MAC8.5\" : \"log $\\epsilon_{Co\\, I}$ = 4.9 & $v_{macro}$ = 8.5 $km s^{-1}$\",\n",
    "#                         \"Co4.6_MAC8.5\" : \"log $\\epsilon_{Co\\, I}$ = 4.6 & $v_{macro}$ = 8.5 $km s^{-1}$\",\n",
    "#                         \"Co4.6_MAC9\" : \"log $\\epsilon_{Co\\, I}$ = 4.6 & $v_{macro}$ = 9 $km s^{-1}$\",\n",
    "#                         \"Co4.6_MAC11\" : \"log $\\epsilon_{Co\\, I}$ = 4.6 & $v_{macro}$ = 11 $km s^{-1}$\",\n",
    "#                         \"Co4.6_MAC7\" : \"log $\\epsilon_{Co\\, I}$ = 4.6 & $v_{macro}$ = 7 $km s^{-1}$\",\n",
    "#                         \"Co4.6_MAC8\" : \"log $\\epsilon_{Co\\, I}$ = 4.6 & $v_{macro}$ = 8 $km s^{-1}$\",\n",
    "\n",
    "#                          }, stardata, k, lines_BD22,raie, plot=True)[\"chi_squared_values\"]"
   ]
  }
 ],
 "metadata": {
  "kernelspec": {
   "display_name": "base",
   "language": "python",
   "name": "python3"
  },
  "language_info": {
   "codemirror_mode": {
    "name": "ipython",
    "version": 3
   },
   "file_extension": ".py",
   "mimetype": "text/x-python",
   "name": "python",
   "nbconvert_exporter": "python",
   "pygments_lexer": "ipython3",
   "version": "3.11.7"
  }
 },
 "nbformat": 4,
 "nbformat_minor": 2
}
