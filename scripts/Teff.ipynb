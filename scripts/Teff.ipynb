version https://git-lfs.github.com/spec/v1
oid sha256:99daeadff5be26a8a4f5dc9749938e92dfda783fb0df07ba44ad1bbb72fd308c
size 201124
