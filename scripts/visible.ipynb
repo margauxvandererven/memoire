{
 "cells": [
  {
   "cell_type": "code",
   "execution_count": 1,
   "metadata": {},
   "outputs": [
    {
     "name": "stdout",
     "output_type": "stream",
     "text": [
      "Dispersion is linear\n",
      "Dispersion is linear\n",
      "Dispersion is linear\n",
      "Dispersion is linear\n"
     ]
    }
   ],
   "source": [
    "%matplotlib qt\n",
    "%load_ext autoreload\n",
    "%autoreload 2\n",
    "# %reload_ext autoreload\n",
    "from imports import *\n",
    "repertory_memoire=\"/Users/margauxvandererven/Library/CloudStorage/OneDrive-UniversitéLibredeBruxelles/memoire/\""
   ]
  },
  {
   "cell_type": "code",
   "execution_count": 17,
   "metadata": {},
   "outputs": [],
   "source": [
    "plt.figure(figsize=(20, 6))\n",
    "# plt.plot(wavelen_visible, flux_visible, color='black', label='observé')\n",
    "\n",
    "synthetic = syntspec(\"/Users/margauxvandererven/Unif/memoire_local/Turbospectrum_NLTE-master/COM/syntspec/synth_margaux/4000g1.0z-0.50m1.0t02a+0.20c+0.346n+0.00o+0.20r+0.00s+0.00.mod_4500-4700_vis.conv\")\n",
    "synthetic_norm = normalisation(wavelen_visible, flux_visible, 4600, 100)\n",
    "# synthetic_norm2 = normalisation(synthetic_norm[\"z_wavelen\"], synthetic_norm[\"flux_normalised\"], 4600, 20)\n",
    "plt.plot(synthetic_norm[\"z_wavelen\"], synthetic_norm[\"flux_normalised\"], color='black', label='observé')\n",
    "# plt.plot(synthetic_norm[\"z_wavelen\"], synthetic_norm[\"flux_normalised\"], color='green', label='observé')\n",
    "plt.plot(synthetic[\"wavelen\"], synthetic[\"flux\"], color='red', label='synthétique')\n",
    "plt.hlines(1, 4500, 4700, color='lightgray', linestyle='--')\n",
    "plt.xlim(4575, 4625)\n",
    "plt.xlabel(\"Longueur d'onde (Å)\")\n",
    "plt.ylabel(\"Flux normalisé\")\n",
    "# plt.ylim(0.8, 200)\n",
    "plt.legend()\n",
    "plt.show()"
   ]
  },
  {
   "cell_type": "code",
   "execution_count": 18,
   "metadata": {},
   "outputs": [],
   "source": [
    "# import numpy as np\n",
    "# import scipy.interpolate as interp\n",
    "# import matplotlib.pyplot as plt\n",
    "\n",
    "def normalize_spectrum(wavelengths, flux, band_width=20):\n",
    "    \"\"\"\n",
    "    Normalise le spectre en divisant par la médiane des 5 % plus grandes valeurs \n",
    "    dans une bande de 'band_width' Å autour de chaque point.\n",
    "    \"\"\"\n",
    "    normalized_flux = np.zeros_like(flux)\n",
    "    half_band = band_width / 2\n",
    "\n",
    "    for i, wl in enumerate(wavelengths):\n",
    "        mask = (wavelengths >= wl - half_band) & (wavelengths <= wl + half_band)\n",
    "        if np.sum(mask) > 0:\n",
    "            top_5_percent = np.percentile(flux[mask], 95)  # Seuil des 5% plus grands\n",
    "            median_top_values = np.median(flux[mask][flux[mask] >= top_5_percent])  # Médiane des 5% plus grands\n",
    "            normalized_flux[i] = flux[i] / median_top_values if median_top_values > 0 else flux[i]\n",
    "        else:\n",
    "            normalized_flux[i] = flux[i]\n",
    "\n",
    "    return normalized_flux\n",
    "\n",
    "def align_spectra(wl_obs, flux_obs, wl_syn, flux_syn, wl_ref, interp_kind=\"linear\", align_band=20):\n",
    "    \"\"\"\n",
    "    Aligne le spectre observé sur le spectre synthétique autour d'une longueur d'onde de référence `wl_ref`.\n",
    "    1. Interpole le spectre observé sur la grille fine du synthétique.\n",
    "    2. Normalise autour de `wl_ref` dans une bande de `align_band` Å.\n",
    "    3. Ajuste verticalement le spectre observé pour l'aligner au synthétique.\n",
    "    \"\"\"\n",
    "    wl_obs = np.array(wl_obs)\n",
    "    flux_obs = np.array(flux_obs)\n",
    "    wl_syn = np.array(wl_syn)\n",
    "    flux_syn = np.array(flux_syn)\n",
    "    obs_norm = normalisation(wl_obs,flux_obs, 4600, 100)\n",
    "\n",
    "    interp_obs = interp.interp1d(obs_norm['z_wavelen'], obs_norm['flux_normalised'], kind=interp_kind, fill_value=\"extrapolate\")\n",
    "    flux_obs_interp_norm = interp_obs(wl_syn)\n",
    "\n",
    "    half_band = align_band / 2\n",
    "    mask = (wl_syn >= wl_ref - half_band) & (wl_syn <= wl_ref + half_band)\n",
    "\n",
    "    if np.sum(mask) == 0:\n",
    "        raise ValueError(f\"Aucune donnée trouvée pour l'alignement dans [{wl_ref - half_band}, {wl_ref + half_band}] Å\")\n",
    "\n",
    "    diff_median = np.median(flux_obs_interp_norm[mask] - flux_syn[mask])  # Différence médiane\n",
    "    aligned_flux = flux_obs_interp_norm - diff_median  # Correction\n",
    "\n",
    "    return wl_syn, aligned_flux\n",
    "\n",
    "\n",
    "synthetic = syntspec(\"/Users/margauxvandererven/Unif/memoire_local/Turbospectrum_NLTE-master/COM/syntspec/synth_margaux/4000g1.0z-0.50m1.0t02a+0.20c+0.346n+0.00o+0.20r+0.00s+0.00.mod_4500-4700_vis.conv\")\n",
    "synthetic_sansCH = syntspec(\"/Users/margauxvandererven/Unif/memoire_local/Turbospectrum_NLTE-master/COM/syntspec/synth_margaux/4000g1.0z-0.50m1.0t02a+0.20c+0.346n+0.00o+0.20r+0.00s+0.00.mod_4500-4700_vis_sans12CH.conv\")\n",
    "norm = normalisation(wavelen_visible, flux_visible, 4600, 100)\n",
    "\n",
    "wl_obs = wavelen_visible\n",
    "flux_obs = flux_visible\n",
    "wl_syn = synthetic[\"wavelen\"]  # Longueurs d'onde synthétiques\n",
    "flux_syn = synthetic[\"flux\"]  # Spectre synthétique\n",
    "\n",
    "wl_syn_CH = synthetic_sansCH[\"wavelen\"]  # Longueurs d'onde synthétiques\n",
    "flux_syn_CH = synthetic_sansCH[\"flux\"]  # Spectre synthétique\n",
    "wl_syn_CH=np.array(wl_syn_CH)\n",
    "flux_syn_CH=np.array(flux_syn_CH)\n",
    "# Alignement du spectre observé sur la grille fine du synthétique\n",
    "wl_aligned, flux_obs_aligned = align_spectra(wl_obs, flux_obs, wl_syn, flux_syn, wl_ref=4600)\n",
    "\n",
    "# Affichage des résultats\n",
    "plt.figure(figsize=(10, 5))\n",
    "plt.hlines(1, 4500, 4700, color='gray', linestyle='--')\n",
    "\n",
    "plt.plot(wl_syn, flux_obs_aligned, label=\"Observé normalisé et aligné\", linewidth=1, color='black')\n",
    "\n",
    "plt.plot(wl_syn, flux_syn, label=\"Synth avec 12CH\", linewidth=1)\n",
    "plt.plot(wl_syn_CH, flux_syn_CH, label=\"Synth sans 12CH\", linewidth=1)\n",
    "plt.plot(wl_syn, 1-np.abs(flux_syn-flux_syn_CH), label=\"Différence\", linewidth=1)\n",
    "# plt.plot(norm[\"z_wavelen\"], norm[\"flux_normalised\"], label=\"Observé normalisé\", color='black', alpha=0.5)\n",
    "plt.xlim(4500, 4700)\n",
    "plt.ylim(0.0, 1.2)\n",
    "# plt.scatter(wl_obs, flux_obs, label=\"Observé (original)\", color=\"red\", s=5, alpha=0.5)\n",
    "plt.legend()\n",
    "plt.xlabel(\"Longueur d'onde (Å)\")\n",
    "plt.ylabel(\"Flux\")\n",
    "\n",
    "plt.show()\n"
   ]
  },
  {
   "cell_type": "code",
   "execution_count": null,
   "metadata": {},
   "outputs": [
    {
     "name": "stderr",
     "output_type": "stream",
     "text": [
      "/Users/margauxvandererven/Unif/memoire_local/scripts/zoom_raies.py:263: RuntimeWarning: More than 20 figures have been opened. Figures created through the pyplot interface (`matplotlib.pyplot.figure`) are retained until explicitly closed and may consume too much memory. (To control this warning, see the rcParam `figure.max_open_warning`). Consider using `matplotlib.pyplot.close()`.\n",
      "  f = plt.figure(figsize=(10,y_size))\n"
     ]
    },
    {
     "ename": "KeyboardInterrupt",
     "evalue": "",
     "output_type": "error",
     "traceback": [
      "\u001b[31m---------------------------------------------------------------------------\u001b[39m",
      "\u001b[31mKeyboardInterrupt\u001b[39m                         Traceback (most recent call last)",
      "\u001b[36mFile \u001b[39m\u001b[32m~/Unif/memoire_local/mon_env/lib/python3.13/site-packages/matplotlib/backends/backend_qt.py:395\u001b[39m, in \u001b[36mFigureCanvasQT.sizeHint\u001b[39m\u001b[34m(self)\u001b[39m\n\u001b[32m    392\u001b[39m     \u001b[38;5;28;01mfinally\u001b[39;00m:\n\u001b[32m    393\u001b[39m         \u001b[38;5;28mself\u001b[39m._in_resize_event = \u001b[38;5;28;01mFalse\u001b[39;00m\n\u001b[32m--> \u001b[39m\u001b[32m395\u001b[39m \u001b[38;5;28;01mdef\u001b[39;00m\u001b[38;5;250m \u001b[39m\u001b[34msizeHint\u001b[39m(\u001b[38;5;28mself\u001b[39m):\n\u001b[32m    396\u001b[39m     w, h = \u001b[38;5;28mself\u001b[39m.get_width_height()\n\u001b[32m    397\u001b[39m     \u001b[38;5;28;01mreturn\u001b[39;00m QtCore.QSize(w, h)\n",
      "\u001b[31mKeyboardInterrupt\u001b[39m: "
     ]
    }
   ],
   "source": [
    "minimum = find_peaks_element(\"/Users/margauxvandererven/Library/CloudStorage/OneDrive-UniversitéLibredeBruxelles/memoire/BD-221742/synth_margaux/\",\n",
    "                   \"4000g1.0z-0.50m1.0t02a+0.20c+0.346n+0.00o+0.20r+0.00s+0.00.mod_4000-6000_vis_Feabu_7.2.conv\",\n",
    "                   \"4000g1.0z-0.50m1.0t02a+0.20c+0.346n+0.00o+0.20r+0.00s+0.00.mod_4000-6000_vis_sans12CH.conv\")[\"minima\"]\n",
    "for i in minimum:\n",
    "    if i < 5000:\n",
    "        path_to_synth = \"/Users/margauxvandererven/Library/CloudStorage/OneDrive-UniversitéLibredeBruxelles/memoire/BD-221742/synth_margaux/\"\n",
    "        synth={\"4000g1.0z-0.50m1.0t02a+0.20c+0.346n+0.00o+0.20r+0.00s+0.00.mod_4000-6000_vis_Feabu_7.2.conv\":\"avec 12CH\",\n",
    "                    \"4000g1.0z-0.50m1.0t02a+0.20c+0.346n+0.00o+0.20r+0.00s+0.00.mod_4000-6000_vis_sans12CH.conv\": \"sans 12CH\"}\n",
    "        zoom_lines({\"\":[i]}, path_to_synth, synth,stardata,2,lines_BD22_vis,gamme=\"visible\")"
   ]
  },
  {
   "cell_type": "code",
   "execution_count": null,
   "metadata": {},
   "outputs": [],
   "source": [
    "lines_BD22_vis = {\"Fe I\" : get_ew_atom(1e-4, 4000, gamme=\"visible\", particular_element=\"Fe I\")[\"wavelength\"]}\n",
    "# with open(\"../data_lines/lines_BD22_vis.json\", \"w\") as f:\n",
    "#     json.dump(lines_BD22_vis, f)"
   ]
  },
  {
   "cell_type": "code",
   "execution_count": null,
   "metadata": {},
   "outputs": [
    {
     "data": {
      "text/plain": [
       "[4122.668,\n",
       " 4128.748,\n",
       " 4173.461,\n",
       " 4177.692,\n",
       " 4178.862,\n",
       " 4233.172,\n",
       " 4258.154,\n",
       " 4273.326,\n",
       " 4296.572,\n",
       " 4303.176,\n",
       " 4314.31,\n",
       " 4351.768,\n",
       " 4385.387,\n",
       " 4416.83,\n",
       " 4489.183,\n",
       " 4491.405,\n",
       " 4508.288,\n",
       " 4515.339,\n",
       " 4520.224,\n",
       " 4522.634,\n",
       " 4534.168,\n",
       " 4541.524,\n",
       " 4549.474,\n",
       " 4555.893,\n",
       " 4576.34,\n",
       " 4582.835,\n",
       " 4583.837,\n",
       " 4620.521,\n",
       " 4629.339,\n",
       " 4666.758,\n",
       " 4731.453,\n",
       " 4923.927,\n",
       " 5018.44,\n",
       " 5169.033,\n",
       " 5197.577,\n",
       " 5234.625,\n",
       " 5276.002,\n",
       " 5284.109,\n",
       " 5316.615,\n",
       " 5316.784,\n",
       " 5362.869,\n",
       " 5534.847,\n",
       " 6516.08]"
      ]
     },
     "execution_count": 13,
     "metadata": {},
     "output_type": "execute_result"
    }
   ],
   "source": [
    "get_ew_atom(1e-7, 4000, gamme=\"visible\", particular_element=\"Fe II\")[\"wavelength\"]"
   ]
  }
 ],
 "metadata": {
  "kernelspec": {
   "display_name": "mon_env",
   "language": "python",
   "name": "python3"
  },
  "language_info": {
   "codemirror_mode": {
    "name": "ipython",
    "version": 3
   },
   "file_extension": ".py",
   "mimetype": "text/x-python",
   "name": "python",
   "nbconvert_exporter": "python",
   "pygments_lexer": "ipython3",
   "version": "3.13.2"
  }
 },
 "nbformat": 4,
 "nbformat_minor": 2
}
