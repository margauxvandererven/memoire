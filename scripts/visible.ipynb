{
 "cells": [
  {
   "cell_type": "code",
   "execution_count": 2,
   "metadata": {},
   "outputs": [
    {
     "name": "stdout",
     "output_type": "stream",
     "text": [
      "Dispersion is linear\n",
      "Dispersion is linear\n",
      "Dispersion is linear\n",
      "Dispersion is linear\n"
     ]
    }
   ],
   "source": [
    "%matplotlib qt\n",
    "%load_ext autoreload\n",
    "%autoreload 2\n",
    "# %reload_ext autoreload\n",
    "from imports import *\n",
    "repertory_memoire=\"/Users/margauxvandererven/Library/CloudStorage/OneDrive-UniversitéLibredeBruxelles/memoire/\""
   ]
  },
  {
   "cell_type": "code",
   "execution_count": 21,
   "metadata": {},
   "outputs": [],
   "source": [
    "plt.figure(figsize=(20, 6))\n",
    "# plt.plot(wavelen_visible, flux_visible, color='black', label='observé')\n",
    "\n",
    "synthetic = syntspec(\"/Users/margauxvandererven/Unif/memoire_local/Turbospectrum_NLTE-master/COM/syntspec/synth_margaux/4000g1.0z-0.50m1.0t02a+0.20c+0.346n+0.00o+0.20r+0.00s+0.00.mod_4500-4700_vis.conv\")\n",
    "synthetic_norm = normalisation(wavelen_visible, flux_visible, 4600, 100)\n",
    "# synthetic_norm2 = normalisation(synthetic_norm[\"z_wavelen\"], synthetic_norm[\"flux_normalised\"], 4600, 20)\n",
    "plt.plot(synthetic_norm[\"z_wavelen\"], synthetic_norm[\"flux_normalised\"], color='black', label='observé')\n",
    "# plt.plot(synthetic_norm[\"z_wavelen\"], synthetic_norm[\"flux_normalised\"], color='green', label='observé')\n",
    "plt.plot(synthetic[\"wavelen\"], synthetic[\"flux\"], color='red', label='synthétique')\n",
    "plt.hlines(1, 4500, 4700, color='lightgray', linestyle='--')\n",
    "plt.xlim(4575, 4625)\n",
    "plt.xlabel(\"Longueur d'onde (Å)\")\n",
    "plt.ylabel(\"Flux normalisé\")\n",
    "# plt.ylim(0.8, 200)\n",
    "plt.legend()\n",
    "plt.show()"
   ]
  },
  {
   "cell_type": "code",
   "execution_count": 5,
   "metadata": {},
   "outputs": [],
   "source": [
    "# import numpy as np\n",
    "# import scipy.interpolate as interp\n",
    "# import matplotlib.pyplot as plt\n",
    "\n",
    "def normalize_spectrum(wavelengths, flux, band_width=20):\n",
    "    \"\"\"\n",
    "    Normalise le spectre en divisant par la médiane des 5 % plus grandes valeurs \n",
    "    dans une bande de 'band_width' Å autour de chaque point.\n",
    "    \"\"\"\n",
    "    normalized_flux = np.zeros_like(flux)\n",
    "    half_band = band_width / 2\n",
    "\n",
    "    for i, wl in enumerate(wavelengths):\n",
    "        mask = (wavelengths >= wl - half_band) & (wavelengths <= wl + half_band)\n",
    "        if np.sum(mask) > 0:\n",
    "            top_5_percent = np.percentile(flux[mask], 95)  # Seuil des 5% plus grands\n",
    "            median_top_values = np.median(flux[mask][flux[mask] >= top_5_percent])  # Médiane des 5% plus grands\n",
    "            normalized_flux[i] = flux[i] / median_top_values if median_top_values > 0 else flux[i]\n",
    "        else:\n",
    "            normalized_flux[i] = flux[i]\n",
    "\n",
    "    return normalized_flux\n",
    "\n",
    "def align_spectra(wl_obs, flux_obs, wl_syn, flux_syn, wl_ref, interp_kind=\"linear\", align_band=20):\n",
    "    \"\"\"\n",
    "    Aligne le spectre observé sur le spectre synthétique autour d'une longueur d'onde de référence `wl_ref`.\n",
    "    1. Interpole le spectre observé sur la grille fine du synthétique.\n",
    "    2. Normalise autour de `wl_ref` dans une bande de `align_band` Å.\n",
    "    3. Ajuste verticalement le spectre observé pour l'aligner au synthétique.\n",
    "    \"\"\"\n",
    "    wl_obs = np.array(wl_obs)\n",
    "    flux_obs = np.array(flux_obs)\n",
    "    wl_syn = np.array(wl_syn)\n",
    "    flux_syn = np.array(flux_syn)\n",
    "    obs_norm = normalisation(wl_obs,flux_obs, 4600, 100)\n",
    "\n",
    "    interp_obs = interp.interp1d(obs_norm['z_wavelen'], obs_norm['flux_normalised'], kind=interp_kind, fill_value=\"extrapolate\")\n",
    "    flux_obs_interp_norm = interp_obs(wl_syn)\n",
    "\n",
    "    half_band = align_band / 2\n",
    "    mask = (wl_syn >= wl_ref - half_band) & (wl_syn <= wl_ref + half_band)\n",
    "\n",
    "    if np.sum(mask) == 0:\n",
    "        raise ValueError(f\"Aucune donnée trouvée pour l'alignement dans [{wl_ref - half_band}, {wl_ref + half_band}] Å\")\n",
    "\n",
    "    diff_median = np.median(flux_obs_interp_norm[mask] - flux_syn[mask])  # Différence médiane\n",
    "    aligned_flux = flux_obs_interp_norm - diff_median  # Correction\n",
    "\n",
    "    return wl_syn, aligned_flux\n",
    "\n",
    "\n",
    "synthetic = syntspec(\"/Users/margauxvandererven/Unif/memoire_local/Turbospectrum_NLTE-master/COM/syntspec/synth_margaux/4000g1.0z-0.50m1.0t02a+0.20c+0.346n+0.00o+0.20r+0.00s+0.00.mod_4500-4700_vis.conv\")\n",
    "synthetic_sansCH = syntspec(\"/Users/margauxvandererven/Unif/memoire_local/Turbospectrum_NLTE-master/COM/syntspec/synth_margaux/4000g1.0z-0.50m1.0t02a+0.20c+0.346n+0.00o+0.20r+0.00s+0.00.mod_4500-4700_vis_sans12CH.conv\")\n",
    "norm = normalisation(wavelen_visible, flux_visible, 4600, 100)\n",
    "\n",
    "wl_obs = wavelen_visible\n",
    "flux_obs = flux_visible\n",
    "wl_syn = synthetic[\"wavelen\"]  # Longueurs d'onde synthétiques\n",
    "flux_syn = synthetic[\"flux\"]  # Spectre synthétique\n",
    "\n",
    "wl_syn_CH = synthetic_sansCH[\"wavelen\"]  # Longueurs d'onde synthétiques\n",
    "flux_syn_CH = synthetic_sansCH[\"flux\"]  # Spectre synthétique\n",
    "wl_syn_CH=np.array(wl_syn_CH)\n",
    "flux_syn_CH=np.array(flux_syn_CH)\n",
    "# Alignement du spectre observé sur la grille fine du synthétique\n",
    "wl_aligned, flux_obs_aligned = align_spectra(wl_obs, flux_obs, wl_syn, flux_syn, wl_ref=4600)\n",
    "\n",
    "# Affichage des résultats\n",
    "plt.figure(figsize=(10, 5))\n",
    "plt.hlines(1, 4500, 4700, color='gray', linestyle='--')\n",
    "\n",
    "plt.plot(wl_syn, flux_obs_aligned, label=\"Observé normalisé et aligné\", linewidth=1, color='black')\n",
    "\n",
    "plt.plot(wl_syn, flux_syn, label=\"Synthétique\", linewidth=1)\n",
    "plt.plot(wl_syn_CH, flux_syn_CH, label=\"sans CH\", linewidth=1)\n",
    "plt.plot(wl_syn, 1-np.abs(flux_syn-flux_syn_CH), label=\"Différence\", linewidth=1)\n",
    "# plt.plot(norm[\"z_wavelen\"], norm[\"flux_normalised\"], label=\"Observé normalisé\", color='black', alpha=0.5)\n",
    "plt.xlim(4500, 4700)\n",
    "plt.ylim(0.0, 1.2)\n",
    "# plt.scatter(wl_obs, flux_obs, label=\"Observé (original)\", color=\"red\", s=5, alpha=0.5)\n",
    "plt.legend()\n",
    "plt.xlabel(\"Longueur d'onde (Å)\")\n",
    "plt.ylabel(\"Flux\")\n",
    "\n",
    "plt.show()\n"
   ]
  },
  {
   "cell_type": "code",
   "execution_count": 7,
   "metadata": {},
   "outputs": [],
   "source": [
    "lines_BD22_vis = {\"Fe I\" : get_ew_atom(1e-3, 4000, gamme=\"visible\", particular_element=\"Fe I\")[\"wavelength\"]}\n",
    "with open(\"../data_lines/lines_BD22_vis.json\", \"w\") as f:\n",
    "    json.dump(lines_BD22_vis, f)"
   ]
  }
 ],
 "metadata": {
  "kernelspec": {
   "display_name": "mon_env",
   "language": "python",
   "name": "python3"
  },
  "language_info": {
   "codemirror_mode": {
    "name": "ipython",
    "version": 3
   },
   "file_extension": ".py",
   "mimetype": "text/x-python",
   "name": "python",
   "nbconvert_exporter": "python",
   "pygments_lexer": "ipython3",
   "version": "3.13.2"
  }
 },
 "nbformat": 4,
 "nbformat_minor": 2
}
