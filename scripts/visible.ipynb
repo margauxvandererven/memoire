{
 "cells": [
  {
   "cell_type": "code",
   "execution_count": 1,
   "metadata": {},
   "outputs": [
    {
     "name": "stdout",
     "output_type": "stream",
     "text": [
      "Dispersion is linear\n",
      "Dispersion is linear\n"
     ]
    }
   ],
   "source": [
    "%matplotlib qt\n",
    "%load_ext autoreload\n",
    "%autoreload 2\n",
    "# %reload_ext autoreload\n",
    "from imports import *\n",
    "repertory_memoire=\"/Users/margauxvandererven/Library/CloudStorage/OneDrive-UniversitéLibredeBruxelles/memoire/\""
   ]
  },
  {
   "cell_type": "code",
   "execution_count": 17,
   "metadata": {},
   "outputs": [],
   "source": [
    "plt.figure(figsize=(20, 6))\n",
    "# plt.plot(wavelen_visible, flux_visible, color='black', label='observé')\n",
    "\n",
    "synthetic = syntspec(\"/Users/margauxvandererven/Unif/memoire_local/Turbospectrum_NLTE-master/COM/syntspec/synth_margaux/4000g1.0z-0.50m1.0t02a+0.20c+0.346n+0.00o+0.20r+0.00s+0.00.mod_4500-4700_vis.conv\")\n",
    "synthetic_norm = normalisation(wavelen_visible, flux_visible, 4600, 100)\n",
    "# synthetic_norm2 = normalisation(synthetic_norm[\"z_wavelen\"], synthetic_norm[\"flux_normalised\"], 4600, 20)\n",
    "plt.plot(synthetic_norm[\"z_wavelen\"], synthetic_norm[\"flux_normalised\"], color='black', label='observé')\n",
    "# plt.plot(synthetic_norm[\"z_wavelen\"], synthetic_norm[\"flux_normalised\"], color='green', label='observé')\n",
    "plt.plot(synthetic[\"wavelen\"], synthetic[\"flux\"], color='red', label='synthétique')\n",
    "plt.hlines(1, 4500, 4700, color='lightgray', linestyle='--')\n",
    "plt.xlim(4575, 4625)\n",
    "plt.xlabel(\"Longueur d'onde (Å)\")\n",
    "plt.ylabel(\"Flux normalisé\")\n",
    "# plt.ylim(0.8, 200)\n",
    "plt.legend()\n",
    "plt.show()"
   ]
  },
  {
   "cell_type": "code",
   "execution_count": 3,
   "metadata": {},
   "outputs": [
    {
     "ename": "FileNotFoundError",
     "evalue": "[Errno 2] No such file or directory: '/Users/margauxvandererven/Unif/memoire_local/Turbospectrum_NLTE-master/COM/syntspec/synth_margaux/4000g1.0z-0.50m1.0t02a+0.20c+0.346n+0.00o+0.20r+0.00s+0.00.mod_4500-4700_vis.conv'",
     "output_type": "error",
     "traceback": [
      "\u001b[31m---------------------------------------------------------------------------\u001b[39m",
      "\u001b[31mFileNotFoundError\u001b[39m                         Traceback (most recent call last)",
      "\u001b[36mCell\u001b[39m\u001b[36m \u001b[39m\u001b[32mIn[3]\u001b[39m\u001b[32m, line 52\u001b[39m\n\u001b[32m     47\u001b[39m     aligned_flux = flux_obs_interp_norm - diff_median  \u001b[38;5;66;03m# Correction\u001b[39;00m\n\u001b[32m     49\u001b[39m     \u001b[38;5;28;01mreturn\u001b[39;00m wl_syn, aligned_flux\n\u001b[32m---> \u001b[39m\u001b[32m52\u001b[39m synthetic = \u001b[43msyntspec\u001b[49m\u001b[43m(\u001b[49m\u001b[33;43m\"\u001b[39;49m\u001b[33;43m/Users/margauxvandererven/Unif/memoire_local/Turbospectrum_NLTE-master/COM/syntspec/synth_margaux/4000g1.0z-0.50m1.0t02a+0.20c+0.346n+0.00o+0.20r+0.00s+0.00.mod_4500-4700_vis.conv\u001b[39;49m\u001b[33;43m\"\u001b[39;49m\u001b[43m)\u001b[49m\n\u001b[32m     53\u001b[39m synthetic_sansCH = syntspec(\u001b[33m\"\u001b[39m\u001b[33m/Users/margauxvandererven/Unif/memoire_local/Turbospectrum_NLTE-master/COM/syntspec/synth_margaux/4000g1.0z-0.50m1.0t02a+0.20c+0.346n+0.00o+0.20r+0.00s+0.00.mod_4500-4700_vis_sans12CH.conv\u001b[39m\u001b[33m\"\u001b[39m)\n\u001b[32m     54\u001b[39m norm = normalisation(wavelen_visible, flux_visible, \u001b[32m4600\u001b[39m, \u001b[32m100\u001b[39m)\n",
      "\u001b[36mFile \u001b[39m\u001b[32m~/Unif/memoire_local/scripts/wavelen_work.py:16\u001b[39m, in \u001b[36msyntspec\u001b[39m\u001b[34m(pathtofile)\u001b[39m\n\u001b[32m     14\u001b[39m flux = []\n\u001b[32m     15\u001b[39m header = []\n\u001b[32m---> \u001b[39m\u001b[32m16\u001b[39m \u001b[38;5;28;01mwith\u001b[39;00m \u001b[38;5;28;43mopen\u001b[39;49m\u001b[43m(\u001b[49m\u001b[43mpathtofile\u001b[49m\u001b[43m)\u001b[49m \u001b[38;5;28;01mas\u001b[39;00m file:\n\u001b[32m     17\u001b[39m     \u001b[38;5;28;01mfor\u001b[39;00m line \u001b[38;5;129;01min\u001b[39;00m file:\n\u001b[32m     18\u001b[39m         line = line.strip()\n",
      "\u001b[31mFileNotFoundError\u001b[39m: [Errno 2] No such file or directory: '/Users/margauxvandererven/Unif/memoire_local/Turbospectrum_NLTE-master/COM/syntspec/synth_margaux/4000g1.0z-0.50m1.0t02a+0.20c+0.346n+0.00o+0.20r+0.00s+0.00.mod_4500-4700_vis.conv'"
     ]
    }
   ],
   "source": [
    "# import numpy as np\n",
    "# import scipy.interpolate as interp\n",
    "# import matplotlib.pyplot as plt\n",
    "\n",
    "def normalize_spectrum(wavelengths, flux, band_width=20):\n",
    "    \"\"\"\n",
    "    Normalise le spectre en divisant par la médiane des 5 % plus grandes valeurs \n",
    "    dans une bande de 'band_width' Å autour de chaque point.\n",
    "    \"\"\"\n",
    "    normalized_flux = np.zeros_like(flux)\n",
    "    half_band = band_width / 2\n",
    "\n",
    "    for i, wl in enumerate(wavelengths):\n",
    "        mask = (wavelengths >= wl - half_band) & (wavelengths <= wl + half_band)\n",
    "        if np.sum(mask) > 0:\n",
    "            top_5_percent = np.percentile(flux[mask], 95)  # Seuil des 5% plus grands\n",
    "            median_top_values = np.median(flux[mask][flux[mask] >= top_5_percent])  # Médiane des 5% plus grands\n",
    "            normalized_flux[i] = flux[i] / median_top_values if median_top_values > 0 else flux[i]\n",
    "        else:\n",
    "            normalized_flux[i] = flux[i]\n",
    "\n",
    "    return normalized_flux\n",
    "\n",
    "def align_spectra(wl_obs, flux_obs, wl_syn, flux_syn, wl_ref, interp_kind=\"linear\", align_band=20):\n",
    "    \"\"\"\n",
    "    Aligne le spectre observé sur le spectre synthétique autour d'une longueur d'onde de référence `wl_ref`.\n",
    "    1. Interpole le spectre observé sur la grille fine du synthétique.\n",
    "    2. Normalise autour de `wl_ref` dans une bande de `align_band` Å.\n",
    "    3. Ajuste verticalement le spectre observé pour l'aligner au synthétique.\n",
    "    \"\"\"\n",
    "    wl_obs = np.array(wl_obs)\n",
    "    flux_obs = np.array(flux_obs)\n",
    "    wl_syn = np.array(wl_syn)\n",
    "    flux_syn = np.array(flux_syn)\n",
    "    obs_norm = normalisation(wl_obs,flux_obs, 4600, 100)\n",
    "\n",
    "    interp_obs = interp.interp1d(obs_norm['z_wavelen'], obs_norm['flux_normalised'], kind=interp_kind, fill_value=\"extrapolate\")\n",
    "    flux_obs_interp_norm = interp_obs(wl_syn)\n",
    "\n",
    "    half_band = align_band / 2\n",
    "    mask = (wl_syn >= wl_ref - half_band) & (wl_syn <= wl_ref + half_band)\n",
    "\n",
    "    if np.sum(mask) == 0:\n",
    "        raise ValueError(f\"Aucune donnée trouvée pour l'alignement dans [{wl_ref - half_band}, {wl_ref + half_band}] Å\")\n",
    "\n",
    "    diff_median = np.median(flux_obs_interp_norm[mask] - flux_syn[mask])  # Différence médiane\n",
    "    aligned_flux = flux_obs_interp_norm - diff_median  # Correction\n",
    "\n",
    "    return wl_syn, aligned_flux\n",
    "\n",
    "\n",
    "synthetic = syntspec(\"/Users/margauxvandererven/Unif/memoire_local/Turbospectrum_NLTE-master/COM/syntspec/synth_margaux/4000g1.0z-0.50m1.0t02a+0.20c+0.346n+0.00o+0.20r+0.00s+0.00.mod_4500-4700_vis.conv\")\n",
    "synthetic_sansCH = syntspec(\"/Users/margauxvandererven/Unif/memoire_local/Turbospectrum_NLTE-master/COM/syntspec/synth_margaux/4000g1.0z-0.50m1.0t02a+0.20c+0.346n+0.00o+0.20r+0.00s+0.00.mod_4500-4700_vis_sans12CH.conv\")\n",
    "norm = normalisation(wavelen_visible, flux_visible, 4600, 100)\n",
    "\n",
    "wl_obs = wavelen_visible\n",
    "flux_obs = flux_visible\n",
    "wl_syn = synthetic[\"wavelen\"]  # Longueurs d'onde synthétiques\n",
    "flux_syn = synthetic[\"flux\"]  # Spectre synthétique\n",
    "\n",
    "wl_syn_CH = synthetic_sansCH[\"wavelen\"]  # Longueurs d'onde synthétiques\n",
    "flux_syn_CH = synthetic_sansCH[\"flux\"]  # Spectre synthétique\n",
    "wl_syn_CH=np.array(wl_syn_CH)\n",
    "flux_syn_CH=np.array(flux_syn_CH)\n",
    "# Alignement du spectre observé sur la grille fine du synthétique\n",
    "wl_aligned, flux_obs_aligned = align_spectra(wl_obs, flux_obs, wl_syn, flux_syn, wl_ref=4600)\n",
    "\n",
    "# Affichage des résultats\n",
    "plt.figure(figsize=(10, 5))\n",
    "plt.hlines(1, 4500, 4700, color='gray', linestyle='--')\n",
    "\n",
    "plt.plot(wl_syn, flux_obs_aligned, label=\"Observé normalisé et aligné\", linewidth=1, color='black')\n",
    "\n",
    "plt.plot(wl_syn, flux_syn, label=\"Synth avec 12CH\", linewidth=1)\n",
    "plt.plot(wl_syn_CH, flux_syn_CH, label=\"Synth sans 12CH\", linewidth=1)\n",
    "plt.plot(wl_syn, 1-np.abs(flux_syn-flux_syn_CH), label=\"Différence\", linewidth=1)\n",
    "# plt.plot(norm[\"z_wavelen\"], norm[\"flux_normalised\"], label=\"Observé normalisé\", color='black', alpha=0.5)\n",
    "plt.xlim(4500, 4700)\n",
    "plt.ylim(0.0, 1.2)\n",
    "# plt.scatter(wl_obs, flux_obs, label=\"Observé (original)\", color=\"red\", s=5, alpha=0.5)\n",
    "plt.legend()\n",
    "plt.xlabel(\"Longueur d'onde (Å)\")\n",
    "plt.ylabel(\"Flux\")\n",
    "\n",
    "plt.show()\n"
   ]
  },
  {
   "cell_type": "code",
   "execution_count": 2,
   "metadata": {},
   "outputs": [
    {
     "ename": "KeyboardInterrupt",
     "evalue": "",
     "output_type": "error",
     "traceback": [
      "\u001b[31m---------------------------------------------------------------------------\u001b[39m",
      "\u001b[31mKeyboardInterrupt\u001b[39m                         Traceback (most recent call last)",
      "\u001b[36mCell\u001b[39m\u001b[36m \u001b[39m\u001b[32mIn[2]\u001b[39m\u001b[32m, line 9\u001b[39m\n\u001b[32m      6\u001b[39m path_to_synth = \u001b[33m\"\u001b[39m\u001b[33m/Users/margauxvandererven/Library/CloudStorage/OneDrive-UniversitéLibredeBruxelles/memoire/BD-221742/synth_margaux/\u001b[39m\u001b[33m\"\u001b[39m\n\u001b[32m      7\u001b[39m synth={\u001b[33m\"\u001b[39m\u001b[33m4000g1.0z-0.50m1.0t02a+0.20c+0.346n+0.00o+0.20r+0.00s+0.00.mod_4000-6000_vis_Feabu_7.2.conv\u001b[39m\u001b[33m\"\u001b[39m:\u001b[33m\"\u001b[39m\u001b[33mavec 12CH\u001b[39m\u001b[33m\"\u001b[39m,\n\u001b[32m      8\u001b[39m             \u001b[33m\"\u001b[39m\u001b[33m4000g1.0z-0.50m1.0t02a+0.20c+0.346n+0.00o+0.20r+0.00s+0.00.mod_4000-6000_vis_sans12CH.conv\u001b[39m\u001b[33m\"\u001b[39m: \u001b[33m\"\u001b[39m\u001b[33msans 12CH\u001b[39m\u001b[33m\"\u001b[39m}\n\u001b[32m----> \u001b[39m\u001b[32m9\u001b[39m \u001b[43mzoom_lines\u001b[49m\u001b[43m(\u001b[49m\u001b[43m{\u001b[49m\u001b[33;43m\"\u001b[39;49m\u001b[33;43m\"\u001b[39;49m\u001b[43m:\u001b[49m\u001b[43m[\u001b[49m\u001b[43mi\u001b[49m\u001b[43m]\u001b[49m\u001b[43m}\u001b[49m\u001b[43m,\u001b[49m\u001b[43m \u001b[49m\u001b[43mpath_to_synth\u001b[49m\u001b[43m,\u001b[49m\u001b[43m \u001b[49m\u001b[43msynth\u001b[49m\u001b[43m,\u001b[49m\u001b[43mstardata\u001b[49m\u001b[43m,\u001b[49m\u001b[32;43m2\u001b[39;49m\u001b[43m,\u001b[49m\u001b[43mlines_BD22_vis\u001b[49m\u001b[43m,\u001b[49m\u001b[43mgamme\u001b[49m\u001b[43m=\u001b[49m\u001b[33;43m\"\u001b[39;49m\u001b[33;43mvisible\u001b[39;49m\u001b[33;43m\"\u001b[39;49m\u001b[43m)\u001b[49m\n",
      "\u001b[36mFile \u001b[39m\u001b[32m~/Unif/memoire_local/scripts/zoom_raies.py:332\u001b[39m, in \u001b[36mzoom_lines\u001b[39m\u001b[34m(lines, path, synthetics, stardata, taille_zoom, spectral_lines, gamme, save, interactive, raies_validees, range, plot)\u001b[39m\n\u001b[32m    330\u001b[39m n = \u001b[38;5;28mlen\u001b[39m(lines.get(i))\n\u001b[32m    331\u001b[39m y_size = n*\u001b[32m3\u001b[39m\n\u001b[32m--> \u001b[39m\u001b[32m332\u001b[39m f = \u001b[43mplt\u001b[49m\u001b[43m.\u001b[49m\u001b[43mfigure\u001b[49m\u001b[43m(\u001b[49m\u001b[43mfigsize\u001b[49m\u001b[43m=\u001b[49m\u001b[43m(\u001b[49m\u001b[32;43m10\u001b[39;49m\u001b[43m,\u001b[49m\u001b[43my_size\u001b[49m\u001b[43m)\u001b[49m\u001b[43m)\u001b[49m\n\u001b[32m    333\u001b[39m gs = f.add_gridspec(n, hspace=\u001b[32m0.2\u001b[39m)\n\u001b[32m    334\u001b[39m ax = gs.subplots(sharex=\u001b[38;5;28;01mFalse\u001b[39;00m, sharey=\u001b[38;5;28;01mTrue\u001b[39;00m)\n",
      "\u001b[36mFile \u001b[39m\u001b[32m~/Unif/memoire_local/mon_env/lib/python3.13/site-packages/matplotlib/pyplot.py:1042\u001b[39m, in \u001b[36mfigure\u001b[39m\u001b[34m(num, figsize, dpi, facecolor, edgecolor, frameon, FigureClass, clear, **kwargs)\u001b[39m\n\u001b[32m   1032\u001b[39m \u001b[38;5;28;01mif\u001b[39;00m \u001b[38;5;28mlen\u001b[39m(allnums) == max_open_warning >= \u001b[32m1\u001b[39m:\n\u001b[32m   1033\u001b[39m     _api.warn_external(\n\u001b[32m   1034\u001b[39m         \u001b[33mf\u001b[39m\u001b[33m\"\u001b[39m\u001b[33mMore than \u001b[39m\u001b[38;5;132;01m{\u001b[39;00mmax_open_warning\u001b[38;5;132;01m}\u001b[39;00m\u001b[33m figures have been opened. \u001b[39m\u001b[33m\"\u001b[39m\n\u001b[32m   1035\u001b[39m         \u001b[33mf\u001b[39m\u001b[33m\"\u001b[39m\u001b[33mFigures created through the pyplot interface \u001b[39m\u001b[33m\"\u001b[39m\n\u001b[32m   (...)\u001b[39m\u001b[32m   1039\u001b[39m         \u001b[33mf\u001b[39m\u001b[33m\"\u001b[39m\u001b[33mConsider using `matplotlib.pyplot.close()`.\u001b[39m\u001b[33m\"\u001b[39m,\n\u001b[32m   1040\u001b[39m         \u001b[38;5;167;01mRuntimeWarning\u001b[39;00m)\n\u001b[32m-> \u001b[39m\u001b[32m1042\u001b[39m manager = \u001b[43mnew_figure_manager\u001b[49m\u001b[43m(\u001b[49m\n\u001b[32m   1043\u001b[39m \u001b[43m    \u001b[49m\u001b[43mnum\u001b[49m\u001b[43m,\u001b[49m\u001b[43m \u001b[49m\u001b[43mfigsize\u001b[49m\u001b[43m=\u001b[49m\u001b[43mfigsize\u001b[49m\u001b[43m,\u001b[49m\u001b[43m \u001b[49m\u001b[43mdpi\u001b[49m\u001b[43m=\u001b[49m\u001b[43mdpi\u001b[49m\u001b[43m,\u001b[49m\n\u001b[32m   1044\u001b[39m \u001b[43m    \u001b[49m\u001b[43mfacecolor\u001b[49m\u001b[43m=\u001b[49m\u001b[43mfacecolor\u001b[49m\u001b[43m,\u001b[49m\u001b[43m \u001b[49m\u001b[43medgecolor\u001b[49m\u001b[43m=\u001b[49m\u001b[43medgecolor\u001b[49m\u001b[43m,\u001b[49m\u001b[43m \u001b[49m\u001b[43mframeon\u001b[49m\u001b[43m=\u001b[49m\u001b[43mframeon\u001b[49m\u001b[43m,\u001b[49m\n\u001b[32m   1045\u001b[39m \u001b[43m    \u001b[49m\u001b[43mFigureClass\u001b[49m\u001b[43m=\u001b[49m\u001b[43mFigureClass\u001b[49m\u001b[43m,\u001b[49m\u001b[43m \u001b[49m\u001b[43m*\u001b[49m\u001b[43m*\u001b[49m\u001b[43mkwargs\u001b[49m\u001b[43m)\u001b[49m\n\u001b[32m   1046\u001b[39m fig = manager.canvas.figure\n\u001b[32m   1047\u001b[39m \u001b[38;5;28;01mif\u001b[39;00m fig_label:\n",
      "\u001b[36mFile \u001b[39m\u001b[32m~/Unif/memoire_local/mon_env/lib/python3.13/site-packages/matplotlib/pyplot.py:552\u001b[39m, in \u001b[36mnew_figure_manager\u001b[39m\u001b[34m(*args, **kwargs)\u001b[39m\n\u001b[32m    550\u001b[39m \u001b[38;5;250m\u001b[39m\u001b[33;03m\"\"\"Create a new figure manager instance.\"\"\"\u001b[39;00m\n\u001b[32m    551\u001b[39m _warn_if_gui_out_of_main_thread()\n\u001b[32m--> \u001b[39m\u001b[32m552\u001b[39m \u001b[38;5;28;01mreturn\u001b[39;00m \u001b[43m_get_backend_mod\u001b[49m\u001b[43m(\u001b[49m\u001b[43m)\u001b[49m\u001b[43m.\u001b[49m\u001b[43mnew_figure_manager\u001b[49m\u001b[43m(\u001b[49m\u001b[43m*\u001b[49m\u001b[43margs\u001b[49m\u001b[43m,\u001b[49m\u001b[43m \u001b[49m\u001b[43m*\u001b[49m\u001b[43m*\u001b[49m\u001b[43mkwargs\u001b[49m\u001b[43m)\u001b[49m\n",
      "\u001b[36mFile \u001b[39m\u001b[32m~/Unif/memoire_local/mon_env/lib/python3.13/site-packages/matplotlib/backend_bases.py:3501\u001b[39m, in \u001b[36m_Backend.new_figure_manager\u001b[39m\u001b[34m(cls, num, *args, **kwargs)\u001b[39m\n\u001b[32m   3499\u001b[39m fig_cls = kwargs.pop(\u001b[33m'\u001b[39m\u001b[33mFigureClass\u001b[39m\u001b[33m'\u001b[39m, Figure)\n\u001b[32m   3500\u001b[39m fig = fig_cls(*args, **kwargs)\n\u001b[32m-> \u001b[39m\u001b[32m3501\u001b[39m \u001b[38;5;28;01mreturn\u001b[39;00m \u001b[38;5;28;43mcls\u001b[39;49m\u001b[43m.\u001b[49m\u001b[43mnew_figure_manager_given_figure\u001b[49m\u001b[43m(\u001b[49m\u001b[43mnum\u001b[49m\u001b[43m,\u001b[49m\u001b[43m \u001b[49m\u001b[43mfig\u001b[49m\u001b[43m)\u001b[49m\n",
      "\u001b[36mFile \u001b[39m\u001b[32m~/Unif/memoire_local/mon_env/lib/python3.13/site-packages/matplotlib/backend_bases.py:3506\u001b[39m, in \u001b[36m_Backend.new_figure_manager_given_figure\u001b[39m\u001b[34m(cls, num, figure)\u001b[39m\n\u001b[32m   3503\u001b[39m \u001b[38;5;129m@classmethod\u001b[39m\n\u001b[32m   3504\u001b[39m \u001b[38;5;28;01mdef\u001b[39;00m\u001b[38;5;250m \u001b[39m\u001b[34mnew_figure_manager_given_figure\u001b[39m(\u001b[38;5;28mcls\u001b[39m, num, figure):\n\u001b[32m   3505\u001b[39m \u001b[38;5;250m    \u001b[39m\u001b[33;03m\"\"\"Create a new figure manager instance for the given figure.\"\"\"\u001b[39;00m\n\u001b[32m-> \u001b[39m\u001b[32m3506\u001b[39m     \u001b[38;5;28;01mreturn\u001b[39;00m \u001b[38;5;28;43mcls\u001b[39;49m\u001b[43m.\u001b[49m\u001b[43mFigureCanvas\u001b[49m\u001b[43m.\u001b[49m\u001b[43mnew_manager\u001b[49m\u001b[43m(\u001b[49m\u001b[43mfigure\u001b[49m\u001b[43m,\u001b[49m\u001b[43m \u001b[49m\u001b[43mnum\u001b[49m\u001b[43m)\u001b[49m\n",
      "\u001b[36mFile \u001b[39m\u001b[32m~/Unif/memoire_local/mon_env/lib/python3.13/site-packages/matplotlib/backend_bases.py:1783\u001b[39m, in \u001b[36mFigureCanvasBase.new_manager\u001b[39m\u001b[34m(cls, figure, num)\u001b[39m\n\u001b[32m   1772\u001b[39m \u001b[38;5;129m@classmethod\u001b[39m\n\u001b[32m   1773\u001b[39m \u001b[38;5;28;01mdef\u001b[39;00m\u001b[38;5;250m \u001b[39m\u001b[34mnew_manager\u001b[39m(\u001b[38;5;28mcls\u001b[39m, figure, num):\n\u001b[32m   1774\u001b[39m \u001b[38;5;250m    \u001b[39m\u001b[33;03m\"\"\"\u001b[39;00m\n\u001b[32m   1775\u001b[39m \u001b[33;03m    Create a new figure manager for *figure*, using this canvas class.\u001b[39;00m\n\u001b[32m   1776\u001b[39m \n\u001b[32m   (...)\u001b[39m\u001b[32m   1781\u001b[39m \u001b[33;03m    ``FigureManager.create_with_canvas``.\u001b[39;00m\n\u001b[32m   1782\u001b[39m \u001b[33;03m    \"\"\"\u001b[39;00m\n\u001b[32m-> \u001b[39m\u001b[32m1783\u001b[39m     \u001b[38;5;28;01mreturn\u001b[39;00m \u001b[38;5;28;43mcls\u001b[39;49m\u001b[43m.\u001b[49m\u001b[43mmanager_class\u001b[49m\u001b[43m.\u001b[49m\u001b[43mcreate_with_canvas\u001b[49m\u001b[43m(\u001b[49m\u001b[38;5;28;43mcls\u001b[39;49m\u001b[43m,\u001b[49m\u001b[43m \u001b[49m\u001b[43mfigure\u001b[49m\u001b[43m,\u001b[49m\u001b[43m \u001b[49m\u001b[43mnum\u001b[49m\u001b[43m)\u001b[49m\n",
      "\u001b[36mFile \u001b[39m\u001b[32m~/Unif/memoire_local/mon_env/lib/python3.13/site-packages/matplotlib/backend_bases.py:2654\u001b[39m, in \u001b[36mFigureManagerBase.create_with_canvas\u001b[39m\u001b[34m(cls, canvas_class, figure, num)\u001b[39m\n\u001b[32m   2646\u001b[39m \u001b[38;5;129m@classmethod\u001b[39m\n\u001b[32m   2647\u001b[39m \u001b[38;5;28;01mdef\u001b[39;00m\u001b[38;5;250m \u001b[39m\u001b[34mcreate_with_canvas\u001b[39m(\u001b[38;5;28mcls\u001b[39m, canvas_class, figure, num):\n\u001b[32m   2648\u001b[39m \u001b[38;5;250m    \u001b[39m\u001b[33;03m\"\"\"\u001b[39;00m\n\u001b[32m   2649\u001b[39m \u001b[33;03m    Create a manager for a given *figure* using a specific *canvas_class*.\u001b[39;00m\n\u001b[32m   2650\u001b[39m \n\u001b[32m   2651\u001b[39m \u001b[33;03m    Backends should override this method if they have specific needs for\u001b[39;00m\n\u001b[32m   2652\u001b[39m \u001b[33;03m    setting up the canvas or the manager.\u001b[39;00m\n\u001b[32m   2653\u001b[39m \u001b[33;03m    \"\"\"\u001b[39;00m\n\u001b[32m-> \u001b[39m\u001b[32m2654\u001b[39m     \u001b[38;5;28;01mreturn\u001b[39;00m \u001b[38;5;28;43mcls\u001b[39;49m\u001b[43m(\u001b[49m\u001b[43mcanvas_class\u001b[49m\u001b[43m(\u001b[49m\u001b[43mfigure\u001b[49m\u001b[43m)\u001b[49m\u001b[43m,\u001b[49m\u001b[43m \u001b[49m\u001b[43mnum\u001b[49m\u001b[43m)\u001b[49m\n",
      "\u001b[36mFile \u001b[39m\u001b[32m~/Unif/memoire_local/mon_env/lib/python3.13/site-packages/matplotlib/backends/backend_qt.py:571\u001b[39m, in \u001b[36mFigureManagerQT.__init__\u001b[39m\u001b[34m(self, canvas, num)\u001b[39m\n\u001b[32m    569\u001b[39m \u001b[38;5;28;01mdef\u001b[39;00m\u001b[38;5;250m \u001b[39m\u001b[34m__init__\u001b[39m(\u001b[38;5;28mself\u001b[39m, canvas, num):\n\u001b[32m    570\u001b[39m     \u001b[38;5;28mself\u001b[39m.window = MainWindow()\n\u001b[32m--> \u001b[39m\u001b[32m571\u001b[39m     \u001b[38;5;28;43msuper\u001b[39;49m\u001b[43m(\u001b[49m\u001b[43m)\u001b[49m\u001b[43m.\u001b[49m\u001b[34;43m__init__\u001b[39;49m\u001b[43m(\u001b[49m\u001b[43mcanvas\u001b[49m\u001b[43m,\u001b[49m\u001b[43m \u001b[49m\u001b[43mnum\u001b[49m\u001b[43m)\u001b[49m\n\u001b[32m    572\u001b[39m     \u001b[38;5;28mself\u001b[39m.window.closing.connect(\u001b[38;5;28mself\u001b[39m._widgetclosed)\n\u001b[32m    574\u001b[39m     \u001b[38;5;28;01mif\u001b[39;00m sys.platform != \u001b[33m\"\u001b[39m\u001b[33mdarwin\u001b[39m\u001b[33m\"\u001b[39m:\n",
      "\u001b[36mFile \u001b[39m\u001b[32m~/Unif/memoire_local/mon_env/lib/python3.13/site-packages/matplotlib/backend_bases.py:2628\u001b[39m, in \u001b[36mFigureManagerBase.__init__\u001b[39m\u001b[34m(self, canvas, num)\u001b[39m\n\u001b[32m   2623\u001b[39m \u001b[38;5;28mself\u001b[39m.toolmanager = (ToolManager(canvas.figure)\n\u001b[32m   2624\u001b[39m                     \u001b[38;5;28;01mif\u001b[39;00m mpl.rcParams[\u001b[33m'\u001b[39m\u001b[33mtoolbar\u001b[39m\u001b[33m'\u001b[39m] == \u001b[33m'\u001b[39m\u001b[33mtoolmanager\u001b[39m\u001b[33m'\u001b[39m\n\u001b[32m   2625\u001b[39m                     \u001b[38;5;28;01melse\u001b[39;00m \u001b[38;5;28;01mNone\u001b[39;00m)\n\u001b[32m   2626\u001b[39m \u001b[38;5;28;01mif\u001b[39;00m (mpl.rcParams[\u001b[33m\"\u001b[39m\u001b[33mtoolbar\u001b[39m\u001b[33m\"\u001b[39m] == \u001b[33m\"\u001b[39m\u001b[33mtoolbar2\u001b[39m\u001b[33m\"\u001b[39m\n\u001b[32m   2627\u001b[39m         \u001b[38;5;129;01mand\u001b[39;00m \u001b[38;5;28mself\u001b[39m._toolbar2_class):\n\u001b[32m-> \u001b[39m\u001b[32m2628\u001b[39m     \u001b[38;5;28mself\u001b[39m.toolbar = \u001b[38;5;28;43mself\u001b[39;49m\u001b[43m.\u001b[49m\u001b[43m_toolbar2_class\u001b[49m\u001b[43m(\u001b[49m\u001b[38;5;28;43mself\u001b[39;49m\u001b[43m.\u001b[49m\u001b[43mcanvas\u001b[49m\u001b[43m)\u001b[49m\n\u001b[32m   2629\u001b[39m \u001b[38;5;28;01melif\u001b[39;00m (mpl.rcParams[\u001b[33m\"\u001b[39m\u001b[33mtoolbar\u001b[39m\u001b[33m\"\u001b[39m] == \u001b[33m\"\u001b[39m\u001b[33mtoolmanager\u001b[39m\u001b[33m\"\u001b[39m\n\u001b[32m   2630\u001b[39m         \u001b[38;5;129;01mand\u001b[39;00m \u001b[38;5;28mself\u001b[39m._toolmanager_toolbar_class):\n\u001b[32m   2631\u001b[39m     \u001b[38;5;28mself\u001b[39m.toolbar = \u001b[38;5;28mself\u001b[39m._toolmanager_toolbar_class(\u001b[38;5;28mself\u001b[39m.toolmanager)\n",
      "\u001b[36mFile \u001b[39m\u001b[32m~/Unif/memoire_local/mon_env/lib/python3.13/site-packages/matplotlib/backends/backend_qt.py:680\u001b[39m, in \u001b[36mNavigationToolbar2QT.__init__\u001b[39m\u001b[34m(self, canvas, parent, coordinates)\u001b[39m\n\u001b[32m    678\u001b[39m \u001b[38;5;28;01mdef\u001b[39;00m\u001b[38;5;250m \u001b[39m\u001b[34m__init__\u001b[39m(\u001b[38;5;28mself\u001b[39m, canvas, parent=\u001b[38;5;28;01mNone\u001b[39;00m, coordinates=\u001b[38;5;28;01mTrue\u001b[39;00m):\n\u001b[32m    679\u001b[39m \u001b[38;5;250m    \u001b[39m\u001b[33;03m\"\"\"coordinates: should we show the coordinates on the right?\"\"\"\u001b[39;00m\n\u001b[32m--> \u001b[39m\u001b[32m680\u001b[39m     \u001b[43mQtWidgets\u001b[49m\u001b[43m.\u001b[49m\u001b[43mQToolBar\u001b[49m\u001b[43m.\u001b[49m\u001b[34;43m__init__\u001b[39;49m\u001b[43m(\u001b[49m\u001b[38;5;28;43mself\u001b[39;49m\u001b[43m,\u001b[49m\u001b[43m \u001b[49m\u001b[43mparent\u001b[49m\u001b[43m)\u001b[49m\n\u001b[32m    681\u001b[39m     \u001b[38;5;28mself\u001b[39m.setAllowedAreas(QtCore.Qt.ToolBarArea(\n\u001b[32m    682\u001b[39m         _to_int(QtCore.Qt.ToolBarArea.TopToolBarArea) |\n\u001b[32m    683\u001b[39m         _to_int(QtCore.Qt.ToolBarArea.BottomToolBarArea)))\n\u001b[32m    684\u001b[39m     \u001b[38;5;28mself\u001b[39m.coordinates = coordinates\n",
      "\u001b[31mKeyboardInterrupt\u001b[39m: "
     ]
    }
   ],
   "source": [
    "minimum = find_peaks_element(\"/Users/margauxvandererven/Library/CloudStorage/OneDrive-UniversitéLibredeBruxelles/memoire/BD-221742/synth_margaux/\",\n",
    "                   \"4000g1.0z-0.50m1.0t02a+0.20c+0.346n+0.00o+0.20r+0.00s+0.00.mod_4000-6000_vis_Feabu_7.2.conv\",\n",
    "                   \"4000g1.0z-0.50m1.0t02a+0.20c+0.346n+0.00o+0.20r+0.00s+0.00.mod_4000-6000_vis_sans12CH.conv\")[\"minima\"]\n",
    "for i in minimum:\n",
    "    if i < 5000:\n",
    "        path_to_synth = \"/Users/margauxvandererven/Library/CloudStorage/OneDrive-UniversitéLibredeBruxelles/memoire/BD-221742/synth_margaux/\"\n",
    "        synth={\"4000g1.0z-0.50m1.0t02a+0.20c+0.346n+0.00o+0.20r+0.00s+0.00.mod_4000-6000_vis_Feabu_7.2.conv\":\"avec 12CH\",\n",
    "                    \"4000g1.0z-0.50m1.0t02a+0.20c+0.346n+0.00o+0.20r+0.00s+0.00.mod_4000-6000_vis_sans12CH.conv\": \"sans 12CH\"}\n",
    "        zoom_lines({\"\":[i]}, path_to_synth, synth,stardata,2,lines_BD22_vis,gamme=\"visible\")"
   ]
  },
  {
   "cell_type": "code",
   "execution_count": null,
   "metadata": {},
   "outputs": [],
   "source": [
    "lines_BD22_vis = {\"Fe I\" : get_ew_atom(1e-4, 4000, gamme=\"visible\", particular_element=\"Fe I\")[\"wavelength\"]}\n",
    "# with open(\"../data_lines/lines_BD22_vis.json\", \"w\") as f:\n",
    "#     json.dump(lines_BD22_vis, f)"
   ]
  },
  {
   "cell_type": "code",
   "execution_count": null,
   "metadata": {},
   "outputs": [
    {
     "data": {
      "text/plain": [
       "[4122.668,\n",
       " 4128.748,\n",
       " 4173.461,\n",
       " 4177.692,\n",
       " 4178.862,\n",
       " 4233.172,\n",
       " 4258.154,\n",
       " 4273.326,\n",
       " 4296.572,\n",
       " 4303.176,\n",
       " 4314.31,\n",
       " 4351.768,\n",
       " 4385.387,\n",
       " 4416.83,\n",
       " 4489.183,\n",
       " 4491.405,\n",
       " 4508.288,\n",
       " 4515.339,\n",
       " 4520.224,\n",
       " 4522.634,\n",
       " 4534.168,\n",
       " 4541.524,\n",
       " 4549.474,\n",
       " 4555.893,\n",
       " 4576.34,\n",
       " 4582.835,\n",
       " 4583.837,\n",
       " 4620.521,\n",
       " 4629.339,\n",
       " 4666.758,\n",
       " 4731.453,\n",
       " 4923.927,\n",
       " 5018.44,\n",
       " 5169.033,\n",
       " 5197.577,\n",
       " 5234.625,\n",
       " 5276.002,\n",
       " 5284.109,\n",
       " 5316.615,\n",
       " 5316.784,\n",
       " 5362.869,\n",
       " 5534.847,\n",
       " 6516.08]"
      ]
     },
     "execution_count": 13,
     "metadata": {},
     "output_type": "execute_result"
    }
   ],
   "source": [
    "get_ew_atom(1e-7, 4000, gamme=\"visible\", particular_element=\"Fe II\")[\"wavelength\"]"
   ]
  }
 ],
 "metadata": {
  "kernelspec": {
   "display_name": "mon_env",
   "language": "python",
   "name": "python3"
  },
  "language_info": {
   "codemirror_mode": {
    "name": "ipython",
    "version": 3
   },
   "file_extension": ".py",
   "mimetype": "text/x-python",
   "name": "python",
   "nbconvert_exporter": "python",
   "pygments_lexer": "ipython3",
   "version": "3.13.2"
  }
 },
 "nbformat": 4,
 "nbformat_minor": 2
}
