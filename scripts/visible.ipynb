{
 "cells": [
  {
   "cell_type": "code",
   "execution_count": 1,
   "metadata": {},
   "outputs": [
    {
     "name": "stdout",
     "output_type": "stream",
     "text": [
      "Dispersion is linear\n",
      "Dispersion is linear\n"
     ]
    }
   ],
   "source": [
    "%matplotlib qt\n",
    "%load_ext autoreload\n",
    "%autoreload 2\n",
    "# %reload_ext autoreload\n",
    "from imports import *\n",
    "repertory_memoire=\"/Users/margauxvandererven/Library/CloudStorage/OneDrive-UniversitéLibredeBruxelles/memoire/\""
   ]
  },
  {
   "cell_type": "code",
   "execution_count": 2,
   "metadata": {},
   "outputs": [
    {
     "ename": "FileNotFoundError",
     "evalue": "[Errno 2] No such file or directory: '/Users/margauxvandererven/Unif/memoire_local/Turbospectrum_NLTE-master/COM/syntspec/synth_margaux/4000g1.0z-0.50m1.0t02a+0.20c+0.346n+0.00o+0.20r+0.00s+0.00.mod_4500-4700_vis.conv'",
     "output_type": "error",
     "traceback": [
      "\u001b[31m---------------------------------------------------------------------------\u001b[39m",
      "\u001b[31mFileNotFoundError\u001b[39m                         Traceback (most recent call last)",
      "\u001b[36mCell\u001b[39m\u001b[36m \u001b[39m\u001b[32mIn[2]\u001b[39m\u001b[32m, line 4\u001b[39m\n\u001b[32m      1\u001b[39m plt.figure(figsize=(\u001b[32m20\u001b[39m, \u001b[32m6\u001b[39m))\n\u001b[32m      2\u001b[39m \u001b[38;5;66;03m# plt.plot(wavelen_visible, flux_visible, color='black', label='observé')\u001b[39;00m\n\u001b[32m----> \u001b[39m\u001b[32m4\u001b[39m synthetic = \u001b[43msyntspec\u001b[49m\u001b[43m(\u001b[49m\u001b[33;43m\"\u001b[39;49m\u001b[33;43m/Users/margauxvandererven/Unif/memoire_local/Turbospectrum_NLTE-master/COM/syntspec/synth_margaux/4000g1.0z-0.50m1.0t02a+0.20c+0.346n+0.00o+0.20r+0.00s+0.00.mod_4500-4700_vis.conv\u001b[39;49m\u001b[33;43m\"\u001b[39;49m\u001b[43m)\u001b[49m\n\u001b[32m      5\u001b[39m synthetic_norm = normalisation(wavelen_visible, flux_visible, \u001b[32m4600\u001b[39m, \u001b[32m100\u001b[39m)\n\u001b[32m      6\u001b[39m \u001b[38;5;66;03m# synthetic_norm2 = normalisation(synthetic_norm[\"z_wavelen\"], synthetic_norm[\"flux_normalised\"], 4600, 20)\u001b[39;00m\n",
      "\u001b[36mFile \u001b[39m\u001b[32m~/Unif/memoire_local/scripts/wavelen_work.py:16\u001b[39m, in \u001b[36msyntspec\u001b[39m\u001b[34m(pathtofile)\u001b[39m\n\u001b[32m     14\u001b[39m flux = []\n\u001b[32m     15\u001b[39m header = []\n\u001b[32m---> \u001b[39m\u001b[32m16\u001b[39m \u001b[38;5;28;01mwith\u001b[39;00m \u001b[38;5;28;43mopen\u001b[39;49m\u001b[43m(\u001b[49m\u001b[43mpathtofile\u001b[49m\u001b[43m)\u001b[49m \u001b[38;5;28;01mas\u001b[39;00m file:\n\u001b[32m     17\u001b[39m     \u001b[38;5;28;01mfor\u001b[39;00m line \u001b[38;5;129;01min\u001b[39;00m file:\n\u001b[32m     18\u001b[39m         line = line.strip()\n",
      "\u001b[31mFileNotFoundError\u001b[39m: [Errno 2] No such file or directory: '/Users/margauxvandererven/Unif/memoire_local/Turbospectrum_NLTE-master/COM/syntspec/synth_margaux/4000g1.0z-0.50m1.0t02a+0.20c+0.346n+0.00o+0.20r+0.00s+0.00.mod_4500-4700_vis.conv'"
     ]
    }
   ],
   "source": [
    "plt.figure(figsize=(20, 6))\n",
    "# plt.plot(wavelen_visible, flux_visible, color='black', label='observé')\n",
    "\n",
    "synthetic = syntspec(\"/Users/margauxvandererven/Unif/memoire_local/Turbospectrum_NLTE-master/COM/syntspec/synth_margaux/4000g1.0z-0.50m1.0t02a+0.20c+0.346n+0.00o+0.20r+0.00s+0.00.mod_4500-4700_vis.conv\")\n",
    "synthetic_norm = normalisation(wavelen_visible, flux_visible, 4600, 100)\n",
    "# synthetic_norm2 = normalisation(synthetic_norm[\"z_wavelen\"], synthetic_norm[\"flux_normalised\"], 4600, 20)\n",
    "plt.plot(synthetic_norm[\"z_wavelen\"], synthetic_norm[\"flux_normalised\"], color='black', label='observé')\n",
    "# plt.plot(synthetic_norm[\"z_wavelen\"], synthetic_norm[\"flux_normalised\"], color='green', label='observé')\n",
    "plt.plot(synthetic[\"wavelen\"], synthetic[\"flux\"], color='red', label='synthétique')\n",
    "plt.hlines(1, 4500, 4700, color='lightgray', linestyle='--')\n",
    "plt.xlim(4575, 4625)\n",
    "plt.xlabel(\"Longueur d'onde (Å)\")\n",
    "plt.ylabel(\"Flux normalisé\")\n",
    "# plt.ylim(0.8, 200)\n",
    "plt.legend()\n",
    "plt.show()"
   ]
  },
  {
   "cell_type": "code",
   "execution_count": 3,
   "metadata": {},
   "outputs": [
    {
     "ename": "FileNotFoundError",
     "evalue": "[Errno 2] No such file or directory: '/Users/margauxvandererven/Unif/memoire_local/Turbospectrum_NLTE-master/COM/syntspec/synth_margaux/4000g1.0z-0.50m1.0t02a+0.20c+0.346n+0.00o+0.20r+0.00s+0.00.mod_4500-4700_vis.conv'",
     "output_type": "error",
     "traceback": [
      "\u001b[31m---------------------------------------------------------------------------\u001b[39m",
      "\u001b[31mFileNotFoundError\u001b[39m                         Traceback (most recent call last)",
      "\u001b[36mCell\u001b[39m\u001b[36m \u001b[39m\u001b[32mIn[3]\u001b[39m\u001b[32m, line 52\u001b[39m\n\u001b[32m     47\u001b[39m     aligned_flux = flux_obs_interp_norm - diff_median  \u001b[38;5;66;03m# Correction\u001b[39;00m\n\u001b[32m     49\u001b[39m     \u001b[38;5;28;01mreturn\u001b[39;00m wl_syn, aligned_flux\n\u001b[32m---> \u001b[39m\u001b[32m52\u001b[39m synthetic = \u001b[43msyntspec\u001b[49m\u001b[43m(\u001b[49m\u001b[33;43m\"\u001b[39;49m\u001b[33;43m/Users/margauxvandererven/Unif/memoire_local/Turbospectrum_NLTE-master/COM/syntspec/synth_margaux/4000g1.0z-0.50m1.0t02a+0.20c+0.346n+0.00o+0.20r+0.00s+0.00.mod_4500-4700_vis.conv\u001b[39;49m\u001b[33;43m\"\u001b[39;49m\u001b[43m)\u001b[49m\n\u001b[32m     53\u001b[39m synthetic_sansCH = syntspec(\u001b[33m\"\u001b[39m\u001b[33m/Users/margauxvandererven/Unif/memoire_local/Turbospectrum_NLTE-master/COM/syntspec/synth_margaux/4000g1.0z-0.50m1.0t02a+0.20c+0.346n+0.00o+0.20r+0.00s+0.00.mod_4500-4700_vis_sans12CH.conv\u001b[39m\u001b[33m\"\u001b[39m)\n\u001b[32m     54\u001b[39m norm = normalisation(wavelen_visible, flux_visible, \u001b[32m4600\u001b[39m, \u001b[32m100\u001b[39m)\n",
      "\u001b[36mFile \u001b[39m\u001b[32m~/Unif/memoire_local/scripts/wavelen_work.py:16\u001b[39m, in \u001b[36msyntspec\u001b[39m\u001b[34m(pathtofile)\u001b[39m\n\u001b[32m     14\u001b[39m flux = []\n\u001b[32m     15\u001b[39m header = []\n\u001b[32m---> \u001b[39m\u001b[32m16\u001b[39m \u001b[38;5;28;01mwith\u001b[39;00m \u001b[38;5;28;43mopen\u001b[39;49m\u001b[43m(\u001b[49m\u001b[43mpathtofile\u001b[49m\u001b[43m)\u001b[49m \u001b[38;5;28;01mas\u001b[39;00m file:\n\u001b[32m     17\u001b[39m     \u001b[38;5;28;01mfor\u001b[39;00m line \u001b[38;5;129;01min\u001b[39;00m file:\n\u001b[32m     18\u001b[39m         line = line.strip()\n",
      "\u001b[31mFileNotFoundError\u001b[39m: [Errno 2] No such file or directory: '/Users/margauxvandererven/Unif/memoire_local/Turbospectrum_NLTE-master/COM/syntspec/synth_margaux/4000g1.0z-0.50m1.0t02a+0.20c+0.346n+0.00o+0.20r+0.00s+0.00.mod_4500-4700_vis.conv'"
     ]
    }
   ],
   "source": [
    "# import numpy as np\n",
    "# import scipy.interpolate as interp\n",
    "# import matplotlib.pyplot as plt\n",
    "\n",
    "def normalize_spectrum(wavelengths, flux, band_width=20):\n",
    "    \"\"\"\n",
    "    Normalise le spectre en divisant par la médiane des 5 % plus grandes valeurs \n",
    "    dans une bande de 'band_width' Å autour de chaque point.\n",
    "    \"\"\"\n",
    "    normalized_flux = np.zeros_like(flux)\n",
    "    half_band = band_width / 2\n",
    "\n",
    "    for i, wl in enumerate(wavelengths):\n",
    "        mask = (wavelengths >= wl - half_band) & (wavelengths <= wl + half_band)\n",
    "        if np.sum(mask) > 0:\n",
    "            top_5_percent = np.percentile(flux[mask], 95)  # Seuil des 5% plus grands\n",
    "            median_top_values = np.median(flux[mask][flux[mask] >= top_5_percent])  # Médiane des 5% plus grands\n",
    "            normalized_flux[i] = flux[i] / median_top_values if median_top_values > 0 else flux[i]\n",
    "        else:\n",
    "            normalized_flux[i] = flux[i]\n",
    "\n",
    "    return normalized_flux\n",
    "\n",
    "def align_spectra(wl_obs, flux_obs, wl_syn, flux_syn, wl_ref, interp_kind=\"linear\", align_band=20):\n",
    "    \"\"\"\n",
    "    Aligne le spectre observé sur le spectre synthétique autour d'une longueur d'onde de référence `wl_ref`.\n",
    "    1. Interpole le spectre observé sur la grille fine du synthétique.\n",
    "    2. Normalise autour de `wl_ref` dans une bande de `align_band` Å.\n",
    "    3. Ajuste verticalement le spectre observé pour l'aligner au synthétique.\n",
    "    \"\"\"\n",
    "    wl_obs = np.array(wl_obs)\n",
    "    flux_obs = np.array(flux_obs)\n",
    "    wl_syn = np.array(wl_syn)\n",
    "    flux_syn = np.array(flux_syn)\n",
    "    obs_norm = normalisation(wl_obs,flux_obs, 4600, 100)\n",
    "\n",
    "    interp_obs = interp.interp1d(obs_norm['z_wavelen'], obs_norm['flux_normalised'], kind=interp_kind, fill_value=\"extrapolate\")\n",
    "    flux_obs_interp_norm = interp_obs(wl_syn)\n",
    "\n",
    "    half_band = align_band / 2\n",
    "    mask = (wl_syn >= wl_ref - half_band) & (wl_syn <= wl_ref + half_band)\n",
    "\n",
    "    if np.sum(mask) == 0:\n",
    "        raise ValueError(f\"Aucune donnée trouvée pour l'alignement dans [{wl_ref - half_band}, {wl_ref + half_band}] Å\")\n",
    "\n",
    "    diff_median = np.median(flux_obs_interp_norm[mask] - flux_syn[mask])  # Différence médiane\n",
    "    aligned_flux = flux_obs_interp_norm - diff_median  # Correction\n",
    "\n",
    "    return wl_syn, aligned_flux\n",
    "\n",
    "\n",
    "synthetic = syntspec(\"/Users/margauxvandererven/Unif/memoire_local/Turbospectrum_NLTE-master/COM/syntspec/synth_margaux/4000g1.0z-0.50m1.0t02a+0.20c+0.346n+0.00o+0.20r+0.00s+0.00.mod_4500-4700_vis.conv\")\n",
    "synthetic_sansCH = syntspec(\"/Users/margauxvandererven/Unif/memoire_local/Turbospectrum_NLTE-master/COM/syntspec/synth_margaux/4000g1.0z-0.50m1.0t02a+0.20c+0.346n+0.00o+0.20r+0.00s+0.00.mod_4500-4700_vis_sans12CH.conv\")\n",
    "norm = normalisation(wavelen_visible, flux_visible, 4600, 100)\n",
    "\n",
    "wl_obs = wavelen_visible\n",
    "flux_obs = flux_visible\n",
    "wl_syn = synthetic[\"wavelen\"]  # Longueurs d'onde synthétiques\n",
    "flux_syn = synthetic[\"flux\"]  # Spectre synthétique\n",
    "\n",
    "wl_syn_CH = synthetic_sansCH[\"wavelen\"]  # Longueurs d'onde synthétiques\n",
    "flux_syn_CH = synthetic_sansCH[\"flux\"]  # Spectre synthétique\n",
    "wl_syn_CH=np.array(wl_syn_CH)\n",
    "flux_syn_CH=np.array(flux_syn_CH)\n",
    "# Alignement du spectre observé sur la grille fine du synthétique\n",
    "wl_aligned, flux_obs_aligned = align_spectra(wl_obs, flux_obs, wl_syn, flux_syn, wl_ref=4600)\n",
    "\n",
    "# Affichage des résultats\n",
    "plt.figure(figsize=(10, 5))\n",
    "plt.hlines(1, 4500, 4700, color='gray', linestyle='--')\n",
    "\n",
    "plt.plot(wl_syn, flux_obs_aligned, label=\"Observé normalisé et aligné\", linewidth=1, color='black')\n",
    "\n",
    "plt.plot(wl_syn, flux_syn, label=\"Synth avec 12CH\", linewidth=1)\n",
    "plt.plot(wl_syn_CH, flux_syn_CH, label=\"Synth sans 12CH\", linewidth=1)\n",
    "plt.plot(wl_syn, 1-np.abs(flux_syn-flux_syn_CH), label=\"Différence\", linewidth=1)\n",
    "# plt.plot(norm[\"z_wavelen\"], norm[\"flux_normalised\"], label=\"Observé normalisé\", color='black', alpha=0.5)\n",
    "plt.xlim(4500, 4700)\n",
    "plt.ylim(0.0, 1.2)\n",
    "# plt.scatter(wl_obs, flux_obs, label=\"Observé (original)\", color=\"red\", s=5, alpha=0.5)\n",
    "plt.legend()\n",
    "plt.xlabel(\"Longueur d'onde (Å)\")\n",
    "plt.ylabel(\"Flux\")\n",
    "\n",
    "plt.show()\n"
   ]
  },
  {
   "cell_type": "code",
   "execution_count": 2,
   "metadata": {},
   "outputs": [
    {
     "ename": "KeyboardInterrupt",
     "evalue": "",
     "output_type": "error",
     "traceback": [
      "\u001b[31m---------------------------------------------------------------------------\u001b[39m",
      "\u001b[31mKeyboardInterrupt\u001b[39m                         Traceback (most recent call last)",
      "\u001b[36mCell\u001b[39m\u001b[36m \u001b[39m\u001b[32mIn[2]\u001b[39m\u001b[32m, line 9\u001b[39m\n\u001b[32m      6\u001b[39m path_to_synth = \u001b[33m\"\u001b[39m\u001b[33m/Users/margauxvandererven/Library/CloudStorage/OneDrive-UniversitéLibredeBruxelles/memoire/BD-221742/synth_margaux/\u001b[39m\u001b[33m\"\u001b[39m\n\u001b[32m      7\u001b[39m synth={\u001b[33m\"\u001b[39m\u001b[33m4000g1.0z-0.50m1.0t02a+0.20c+0.346n+0.00o+0.20r+0.00s+0.00.mod_4000-6000_vis_Feabu_7.2.conv\u001b[39m\u001b[33m\"\u001b[39m:\u001b[33m\"\u001b[39m\u001b[33mavec 12CH\u001b[39m\u001b[33m\"\u001b[39m,\n\u001b[32m      8\u001b[39m             \u001b[33m\"\u001b[39m\u001b[33m4000g1.0z-0.50m1.0t02a+0.20c+0.346n+0.00o+0.20r+0.00s+0.00.mod_4000-6000_vis_sans12CH.conv\u001b[39m\u001b[33m\"\u001b[39m: \u001b[33m\"\u001b[39m\u001b[33msans 12CH\u001b[39m\u001b[33m\"\u001b[39m}\n\u001b[32m----> \u001b[39m\u001b[32m9\u001b[39m \u001b[43mzoom_lines\u001b[49m\u001b[43m(\u001b[49m\u001b[43m{\u001b[49m\u001b[33;43m\"\u001b[39;49m\u001b[33;43m\"\u001b[39;49m\u001b[43m:\u001b[49m\u001b[43m[\u001b[49m\u001b[43mi\u001b[49m\u001b[43m]\u001b[49m\u001b[43m}\u001b[49m\u001b[43m,\u001b[49m\u001b[43m \u001b[49m\u001b[43mpath_to_synth\u001b[49m\u001b[43m,\u001b[49m\u001b[43m \u001b[49m\u001b[43msynth\u001b[49m\u001b[43m,\u001b[49m\u001b[43mstardata\u001b[49m\u001b[43m,\u001b[49m\u001b[32;43m2\u001b[39;49m\u001b[43m,\u001b[49m\u001b[43mlines_BD22_vis\u001b[49m\u001b[43m,\u001b[49m\u001b[43mgamme\u001b[49m\u001b[43m=\u001b[49m\u001b[33;43m\"\u001b[39;49m\u001b[33;43mvisible\u001b[39;49m\u001b[33;43m\"\u001b[39;49m\u001b[43m)\u001b[49m\n",
      "\u001b[36mFile \u001b[39m\u001b[32m~/Unif/memoire_local/scripts/zoom_raies.py:332\u001b[39m, in \u001b[36mzoom_lines\u001b[39m\u001b[34m(lines, path, synthetics, stardata, taille_zoom, spectral_lines, gamme, save, interactive, raies_validees, range, plot)\u001b[39m\n\u001b[32m    330\u001b[39m n = \u001b[38;5;28mlen\u001b[39m(lines.get(i))\n\u001b[32m    331\u001b[39m y_size = n*\u001b[32m3\u001b[39m\n\u001b[32m--> \u001b[39m\u001b[32m332\u001b[39m f = \u001b[43mplt\u001b[49m\u001b[43m.\u001b[49m\u001b[43mfigure\u001b[49m\u001b[43m(\u001b[49m\u001b[43mfigsize\u001b[49m\u001b[43m=\u001b[49m\u001b[43m(\u001b[49m\u001b[32;43m10\u001b[39;49m\u001b[43m,\u001b[49m\u001b[43my_size\u001b[49m\u001b[43m)\u001b[49m\u001b[43m)\u001b[49m\n\u001b[32m    333\u001b[39m gs = f.add_gridspec(n, hspace=\u001b[32m0.2\u001b[39m)\n\u001b[32m    334\u001b[39m ax = gs.subplots(sharex=\u001b[38;5;28;01mFalse\u001b[39;00m, sharey=\u001b[38;5;28;01mTrue\u001b[39;00m)\n",
      "\u001b[36mFile \u001b[39m\u001b[32m~/Unif/memoire_local/mon_env/lib/python3.13/site-packages/matplotlib/pyplot.py:1042\u001b[39m, in \u001b[36mfigure\u001b[39m\u001b[34m(num, figsize, dpi, facecolor, edgecolor, frameon, FigureClass, clear, **kwargs)\u001b[39m\n\u001b[32m   1032\u001b[39m \u001b[38;5;28;01mif\u001b[39;00m \u001b[38;5;28mlen\u001b[39m(allnums) == max_open_warning >= \u001b[32m1\u001b[39m:\n\u001b[32m   1033\u001b[39m     _api.warn_external(\n\u001b[32m   1034\u001b[39m         \u001b[33mf\u001b[39m\u001b[33m\"\u001b[39m\u001b[33mMore than \u001b[39m\u001b[38;5;132;01m{\u001b[39;00mmax_open_warning\u001b[38;5;132;01m}\u001b[39;00m\u001b[33m figures have been opened. \u001b[39m\u001b[33m\"\u001b[39m\n\u001b[32m   1035\u001b[39m         \u001b[33mf\u001b[39m\u001b[33m\"\u001b[39m\u001b[33mFigures created through the pyplot interface \u001b[39m\u001b[33m\"\u001b[39m\n\u001b[32m   (...)\u001b[39m\u001b[32m   1039\u001b[39m         \u001b[33mf\u001b[39m\u001b[33m\"\u001b[39m\u001b[33mConsider using `matplotlib.pyplot.close()`.\u001b[39m\u001b[33m\"\u001b[39m,\n\u001b[32m   1040\u001b[39m         \u001b[38;5;167;01mRuntimeWarning\u001b[39;00m)\n\u001b[32m-> \u001b[39m\u001b[32m1042\u001b[39m manager = \u001b[43mnew_figure_manager\u001b[49m\u001b[43m(\u001b[49m\n\u001b[32m   1043\u001b[39m \u001b[43m    \u001b[49m\u001b[43mnum\u001b[49m\u001b[43m,\u001b[49m\u001b[43m \u001b[49m\u001b[43mfigsize\u001b[49m\u001b[43m=\u001b[49m\u001b[43mfigsize\u001b[49m\u001b[43m,\u001b[49m\u001b[43m \u001b[49m\u001b[43mdpi\u001b[49m\u001b[43m=\u001b[49m\u001b[43mdpi\u001b[49m\u001b[43m,\u001b[49m\n\u001b[32m   1044\u001b[39m \u001b[43m    \u001b[49m\u001b[43mfacecolor\u001b[49m\u001b[43m=\u001b[49m\u001b[43mfacecolor\u001b[49m\u001b[43m,\u001b[49m\u001b[43m \u001b[49m\u001b[43medgecolor\u001b[49m\u001b[43m=\u001b[49m\u001b[43medgecolor\u001b[49m\u001b[43m,\u001b[49m\u001b[43m \u001b[49m\u001b[43mframeon\u001b[49m\u001b[43m=\u001b[49m\u001b[43mframeon\u001b[49m\u001b[43m,\u001b[49m\n\u001b[32m   1045\u001b[39m \u001b[43m    \u001b[49m\u001b[43mFigureClass\u001b[49m\u001b[43m=\u001b[49m\u001b[43mFigureClass\u001b[49m\u001b[43m,\u001b[49m\u001b[43m \u001b[49m\u001b[43m*\u001b[49m\u001b[43m*\u001b[49m\u001b[43mkwargs\u001b[49m\u001b[43m)\u001b[49m\n\u001b[32m   1046\u001b[39m fig = manager.canvas.figure\n\u001b[32m   1047\u001b[39m \u001b[38;5;28;01mif\u001b[39;00m fig_label:\n",
      "\u001b[36mFile \u001b[39m\u001b[32m~/Unif/memoire_local/mon_env/lib/python3.13/site-packages/matplotlib/pyplot.py:552\u001b[39m, in \u001b[36mnew_figure_manager\u001b[39m\u001b[34m(*args, **kwargs)\u001b[39m\n\u001b[32m    550\u001b[39m \u001b[38;5;250m\u001b[39m\u001b[33;03m\"\"\"Create a new figure manager instance.\"\"\"\u001b[39;00m\n\u001b[32m    551\u001b[39m _warn_if_gui_out_of_main_thread()\n\u001b[32m--> \u001b[39m\u001b[32m552\u001b[39m \u001b[38;5;28;01mreturn\u001b[39;00m \u001b[43m_get_backend_mod\u001b[49m\u001b[43m(\u001b[49m\u001b[43m)\u001b[49m\u001b[43m.\u001b[49m\u001b[43mnew_figure_manager\u001b[49m\u001b[43m(\u001b[49m\u001b[43m*\u001b[49m\u001b[43margs\u001b[49m\u001b[43m,\u001b[49m\u001b[43m \u001b[49m\u001b[43m*\u001b[49m\u001b[43m*\u001b[49m\u001b[43mkwargs\u001b[49m\u001b[43m)\u001b[49m\n",
      "\u001b[36mFile \u001b[39m\u001b[32m~/Unif/memoire_local/mon_env/lib/python3.13/site-packages/matplotlib/backend_bases.py:3501\u001b[39m, in \u001b[36m_Backend.new_figure_manager\u001b[39m\u001b[34m(cls, num, *args, **kwargs)\u001b[39m\n\u001b[32m   3499\u001b[39m fig_cls = kwargs.pop(\u001b[33m'\u001b[39m\u001b[33mFigureClass\u001b[39m\u001b[33m'\u001b[39m, Figure)\n\u001b[32m   3500\u001b[39m fig = fig_cls(*args, **kwargs)\n\u001b[32m-> \u001b[39m\u001b[32m3501\u001b[39m \u001b[38;5;28;01mreturn\u001b[39;00m \u001b[38;5;28;43mcls\u001b[39;49m\u001b[43m.\u001b[49m\u001b[43mnew_figure_manager_given_figure\u001b[49m\u001b[43m(\u001b[49m\u001b[43mnum\u001b[49m\u001b[43m,\u001b[49m\u001b[43m \u001b[49m\u001b[43mfig\u001b[49m\u001b[43m)\u001b[49m\n",
      "\u001b[36mFile \u001b[39m\u001b[32m~/Unif/memoire_local/mon_env/lib/python3.13/site-packages/matplotlib/backend_bases.py:3506\u001b[39m, in \u001b[36m_Backend.new_figure_manager_given_figure\u001b[39m\u001b[34m(cls, num, figure)\u001b[39m\n\u001b[32m   3503\u001b[39m \u001b[38;5;129m@classmethod\u001b[39m\n\u001b[32m   3504\u001b[39m \u001b[38;5;28;01mdef\u001b[39;00m\u001b[38;5;250m \u001b[39m\u001b[34mnew_figure_manager_given_figure\u001b[39m(\u001b[38;5;28mcls\u001b[39m, num, figure):\n\u001b[32m   3505\u001b[39m \u001b[38;5;250m    \u001b[39m\u001b[33;03m\"\"\"Create a new figure manager instance for the given figure.\"\"\"\u001b[39;00m\n\u001b[32m-> \u001b[39m\u001b[32m3506\u001b[39m     \u001b[38;5;28;01mreturn\u001b[39;00m \u001b[38;5;28;43mcls\u001b[39;49m\u001b[43m.\u001b[49m\u001b[43mFigureCanvas\u001b[49m\u001b[43m.\u001b[49m\u001b[43mnew_manager\u001b[49m\u001b[43m(\u001b[49m\u001b[43mfigure\u001b[49m\u001b[43m,\u001b[49m\u001b[43m \u001b[49m\u001b[43mnum\u001b[49m\u001b[43m)\u001b[49m\n",
      "\u001b[36mFile \u001b[39m\u001b[32m~/Unif/memoire_local/mon_env/lib/python3.13/site-packages/matplotlib/backend_bases.py:1783\u001b[39m, in \u001b[36mFigureCanvasBase.new_manager\u001b[39m\u001b[34m(cls, figure, num)\u001b[39m\n\u001b[32m   1772\u001b[39m \u001b[38;5;129m@classmethod\u001b[39m\n\u001b[32m   1773\u001b[39m \u001b[38;5;28;01mdef\u001b[39;00m\u001b[38;5;250m \u001b[39m\u001b[34mnew_manager\u001b[39m(\u001b[38;5;28mcls\u001b[39m, figure, num):\n\u001b[32m   1774\u001b[39m \u001b[38;5;250m    \u001b[39m\u001b[33;03m\"\"\"\u001b[39;00m\n\u001b[32m   1775\u001b[39m \u001b[33;03m    Create a new figure manager for *figure*, using this canvas class.\u001b[39;00m\n\u001b[32m   1776\u001b[39m \n\u001b[32m   (...)\u001b[39m\u001b[32m   1781\u001b[39m \u001b[33;03m    ``FigureManager.create_with_canvas``.\u001b[39;00m\n\u001b[32m   1782\u001b[39m \u001b[33;03m    \"\"\"\u001b[39;00m\n\u001b[32m-> \u001b[39m\u001b[32m1783\u001b[39m     \u001b[38;5;28;01mreturn\u001b[39;00m \u001b[38;5;28;43mcls\u001b[39;49m\u001b[43m.\u001b[49m\u001b[43mmanager_class\u001b[49m\u001b[43m.\u001b[49m\u001b[43mcreate_with_canvas\u001b[49m\u001b[43m(\u001b[49m\u001b[38;5;28;43mcls\u001b[39;49m\u001b[43m,\u001b[49m\u001b[43m \u001b[49m\u001b[43mfigure\u001b[49m\u001b[43m,\u001b[49m\u001b[43m \u001b[49m\u001b[43mnum\u001b[49m\u001b[43m)\u001b[49m\n",
      "\u001b[36mFile \u001b[39m\u001b[32m~/Unif/memoire_local/mon_env/lib/python3.13/site-packages/matplotlib/backend_bases.py:2654\u001b[39m, in \u001b[36mFigureManagerBase.create_with_canvas\u001b[39m\u001b[34m(cls, canvas_class, figure, num)\u001b[39m\n\u001b[32m   2646\u001b[39m \u001b[38;5;129m@classmethod\u001b[39m\n\u001b[32m   2647\u001b[39m \u001b[38;5;28;01mdef\u001b[39;00m\u001b[38;5;250m \u001b[39m\u001b[34mcreate_with_canvas\u001b[39m(\u001b[38;5;28mcls\u001b[39m, canvas_class, figure, num):\n\u001b[32m   2648\u001b[39m \u001b[38;5;250m    \u001b[39m\u001b[33;03m\"\"\"\u001b[39;00m\n\u001b[32m   2649\u001b[39m \u001b[33;03m    Create a manager for a given *figure* using a specific *canvas_class*.\u001b[39;00m\n\u001b[32m   2650\u001b[39m \n\u001b[32m   2651\u001b[39m \u001b[33;03m    Backends should override this method if they have specific needs for\u001b[39;00m\n\u001b[32m   2652\u001b[39m \u001b[33;03m    setting up the canvas or the manager.\u001b[39;00m\n\u001b[32m   2653\u001b[39m \u001b[33;03m    \"\"\"\u001b[39;00m\n\u001b[32m-> \u001b[39m\u001b[32m2654\u001b[39m     \u001b[38;5;28;01mreturn\u001b[39;00m \u001b[38;5;28;43mcls\u001b[39;49m\u001b[43m(\u001b[49m\u001b[43mcanvas_class\u001b[49m\u001b[43m(\u001b[49m\u001b[43mfigure\u001b[49m\u001b[43m)\u001b[49m\u001b[43m,\u001b[49m\u001b[43m \u001b[49m\u001b[43mnum\u001b[49m\u001b[43m)\u001b[49m\n",
      "\u001b[36mFile \u001b[39m\u001b[32m~/Unif/memoire_local/mon_env/lib/python3.13/site-packages/matplotlib/backends/backend_qt.py:571\u001b[39m, in \u001b[36mFigureManagerQT.__init__\u001b[39m\u001b[34m(self, canvas, num)\u001b[39m\n\u001b[32m    569\u001b[39m \u001b[38;5;28;01mdef\u001b[39;00m\u001b[38;5;250m \u001b[39m\u001b[34m__init__\u001b[39m(\u001b[38;5;28mself\u001b[39m, canvas, num):\n\u001b[32m    570\u001b[39m     \u001b[38;5;28mself\u001b[39m.window = MainWindow()\n\u001b[32m--> \u001b[39m\u001b[32m571\u001b[39m     \u001b[38;5;28;43msuper\u001b[39;49m\u001b[43m(\u001b[49m\u001b[43m)\u001b[49m\u001b[43m.\u001b[49m\u001b[34;43m__init__\u001b[39;49m\u001b[43m(\u001b[49m\u001b[43mcanvas\u001b[49m\u001b[43m,\u001b[49m\u001b[43m \u001b[49m\u001b[43mnum\u001b[49m\u001b[43m)\u001b[49m\n\u001b[32m    572\u001b[39m     \u001b[38;5;28mself\u001b[39m.window.closing.connect(\u001b[38;5;28mself\u001b[39m._widgetclosed)\n\u001b[32m    574\u001b[39m     \u001b[38;5;28;01mif\u001b[39;00m sys.platform != \u001b[33m\"\u001b[39m\u001b[33mdarwin\u001b[39m\u001b[33m\"\u001b[39m:\n",
      "\u001b[36mFile \u001b[39m\u001b[32m~/Unif/memoire_local/mon_env/lib/python3.13/site-packages/matplotlib/backend_bases.py:2628\u001b[39m, in \u001b[36mFigureManagerBase.__init__\u001b[39m\u001b[34m(self, canvas, num)\u001b[39m\n\u001b[32m   2623\u001b[39m \u001b[38;5;28mself\u001b[39m.toolmanager = (ToolManager(canvas.figure)\n\u001b[32m   2624\u001b[39m                     \u001b[38;5;28;01mif\u001b[39;00m mpl.rcParams[\u001b[33m'\u001b[39m\u001b[33mtoolbar\u001b[39m\u001b[33m'\u001b[39m] == \u001b[33m'\u001b[39m\u001b[33mtoolmanager\u001b[39m\u001b[33m'\u001b[39m\n\u001b[32m   2625\u001b[39m                     \u001b[38;5;28;01melse\u001b[39;00m \u001b[38;5;28;01mNone\u001b[39;00m)\n\u001b[32m   2626\u001b[39m \u001b[38;5;28;01mif\u001b[39;00m (mpl.rcParams[\u001b[33m\"\u001b[39m\u001b[33mtoolbar\u001b[39m\u001b[33m\"\u001b[39m] == \u001b[33m\"\u001b[39m\u001b[33mtoolbar2\u001b[39m\u001b[33m\"\u001b[39m\n\u001b[32m   2627\u001b[39m         \u001b[38;5;129;01mand\u001b[39;00m \u001b[38;5;28mself\u001b[39m._toolbar2_class):\n\u001b[32m-> \u001b[39m\u001b[32m2628\u001b[39m     \u001b[38;5;28mself\u001b[39m.toolbar = \u001b[38;5;28;43mself\u001b[39;49m\u001b[43m.\u001b[49m\u001b[43m_toolbar2_class\u001b[49m\u001b[43m(\u001b[49m\u001b[38;5;28;43mself\u001b[39;49m\u001b[43m.\u001b[49m\u001b[43mcanvas\u001b[49m\u001b[43m)\u001b[49m\n\u001b[32m   2629\u001b[39m \u001b[38;5;28;01melif\u001b[39;00m (mpl.rcParams[\u001b[33m\"\u001b[39m\u001b[33mtoolbar\u001b[39m\u001b[33m\"\u001b[39m] == \u001b[33m\"\u001b[39m\u001b[33mtoolmanager\u001b[39m\u001b[33m\"\u001b[39m\n\u001b[32m   2630\u001b[39m         \u001b[38;5;129;01mand\u001b[39;00m \u001b[38;5;28mself\u001b[39m._toolmanager_toolbar_class):\n\u001b[32m   2631\u001b[39m     \u001b[38;5;28mself\u001b[39m.toolbar = \u001b[38;5;28mself\u001b[39m._toolmanager_toolbar_class(\u001b[38;5;28mself\u001b[39m.toolmanager)\n",
      "\u001b[36mFile \u001b[39m\u001b[32m~/Unif/memoire_local/mon_env/lib/python3.13/site-packages/matplotlib/backends/backend_qt.py:680\u001b[39m, in \u001b[36mNavigationToolbar2QT.__init__\u001b[39m\u001b[34m(self, canvas, parent, coordinates)\u001b[39m\n\u001b[32m    678\u001b[39m \u001b[38;5;28;01mdef\u001b[39;00m\u001b[38;5;250m \u001b[39m\u001b[34m__init__\u001b[39m(\u001b[38;5;28mself\u001b[39m, canvas, parent=\u001b[38;5;28;01mNone\u001b[39;00m, coordinates=\u001b[38;5;28;01mTrue\u001b[39;00m):\n\u001b[32m    679\u001b[39m \u001b[38;5;250m    \u001b[39m\u001b[33;03m\"\"\"coordinates: should we show the coordinates on the right?\"\"\"\u001b[39;00m\n\u001b[32m--> \u001b[39m\u001b[32m680\u001b[39m     \u001b[43mQtWidgets\u001b[49m\u001b[43m.\u001b[49m\u001b[43mQToolBar\u001b[49m\u001b[43m.\u001b[49m\u001b[34;43m__init__\u001b[39;49m\u001b[43m(\u001b[49m\u001b[38;5;28;43mself\u001b[39;49m\u001b[43m,\u001b[49m\u001b[43m \u001b[49m\u001b[43mparent\u001b[49m\u001b[43m)\u001b[49m\n\u001b[32m    681\u001b[39m     \u001b[38;5;28mself\u001b[39m.setAllowedAreas(QtCore.Qt.ToolBarArea(\n\u001b[32m    682\u001b[39m         _to_int(QtCore.Qt.ToolBarArea.TopToolBarArea) |\n\u001b[32m    683\u001b[39m         _to_int(QtCore.Qt.ToolBarArea.BottomToolBarArea)))\n\u001b[32m    684\u001b[39m     \u001b[38;5;28mself\u001b[39m.coordinates = coordinates\n",
      "\u001b[31mKeyboardInterrupt\u001b[39m: "
     ]
    }
   ],
   "source": [
    "minimum = find_peaks_element(\"/Users/margauxvandererven/Library/CloudStorage/OneDrive-UniversitéLibredeBruxelles/memoire/BD-221742/synth_margaux/\",\n",
    "                   \"4000g1.0z-0.50m1.0t02a+0.20c+0.346n+0.00o+0.20r+0.00s+0.00.mod_4000-6000_vis_Feabu_7.2.conv\",\n",
    "                   \"4000g1.0z-0.50m1.0t02a+0.20c+0.346n+0.00o+0.20r+0.00s+0.00.mod_4000-6000_vis_sans12CH.conv\")[\"minima\"]\n",
    "for i in minimum:\n",
    "    if i < 5000:\n",
    "        path_to_synth = \"/Users/margauxvandererven/Library/CloudStorage/OneDrive-UniversitéLibredeBruxelles/memoire/BD-221742/synth_margaux/\"\n",
    "        synth={\"4000g1.0z-0.50m1.0t02a+0.20c+0.346n+0.00o+0.20r+0.00s+0.00.mod_4000-6000_vis_Feabu_7.2.conv\":\"avec 12CH\",\n",
    "                    \"4000g1.0z-0.50m1.0t02a+0.20c+0.346n+0.00o+0.20r+0.00s+0.00.mod_4000-6000_vis_sans12CH.conv\": \"sans 12CH\"}\n",
    "        zoom_lines({\"\":[i]}, path_to_synth, synth,stardata,2,lines_BD22_vis,gamme=\"visible\")"
   ]
  },
  {
   "cell_type": "code",
   "execution_count": 17,
   "metadata": {},
   "outputs": [],
   "source": [
    "# lines_BD22_vis = {\"Na I\" : get_ew_atom(1e-8, 4000, gamme=\"visible\", particular_element=\"Na I\")[\"wavelength\"]}\n",
    "data = get_ew_atom(1e-7, 4000, gamme=\"visible\")[\"data\"]\n",
    "# print(lines_BD22_vis)\n",
    "# with open(\"../data_lines/lines_BD22_vis.json\", \"w\") as f:\n",
    "#     json.dump(lines_BD22_vis, f)\n",
    "lines_BD221742 = defaultdict(list)\n",
    "\n",
    "# Trier les données par d[4] (élément) puis par d[0] (wavelength)\n",
    "data_sorted = sorted(data, key=lambda x: (x[4], x[0]))\n",
    "\n",
    "# Dictionnaire temporaire pour stocker la meilleure valeur de d[2] par élément et par plage de d[0]\n",
    "best_values = {}\n",
    "\n",
    "for wavelength, excitation_potential, ew, loggf, element in data_sorted:\n",
    "    # Vérifier s'il existe déjà une valeur proche dans la liste\n",
    "    if element in best_values:\n",
    "        close_wavelengths = [w for w in best_values[element] if abs(w - wavelength) < 0.2]\n",
    "\n",
    "        if close_wavelengths:\n",
    "            # Vérifier si la nouvelle valeur de d[2] (ew) est plus grande que celle existante\n",
    "            closest_wavelength = close_wavelengths[0]\n",
    "            if ew > best_values[element][closest_wavelength]:  \n",
    "                best_values[element][closest_wavelength] = ew  # Mise à jour avec le plus grand d[2]\n",
    "        else:\n",
    "            best_values[element][wavelength] = ew  # Ajouter un nouveau point si aucun proche n'existe\n",
    "    else:\n",
    "        best_values[element] = {wavelength: ew}  # Initialiser pour cet élément\n",
    "\n",
    "# Convertir best_values en dictionnaire {d[4]: [d[0]]}\n",
    "for element, wavelengths in best_values.items():\n",
    "    lines_BD221742[element] = list(wavelengths.keys())\n",
    "# pprint(lines_BD221742)"
   ]
  },
  {
   "cell_type": "code",
   "execution_count": 18,
   "metadata": {},
   "outputs": [],
   "source": [
    "with open(\"../data_lines/lines_BD22_vis.json\", \"w\") as fichier:\n",
    "    json.dump(lines_BD221742, fichier, indent=4, ensure_ascii=False)"
   ]
  },
  {
   "cell_type": "code",
   "execution_count": 27,
   "metadata": {},
   "outputs": [
    {
     "name": "stdout",
     "output_type": "stream",
     "text": [
      "[4000.098, 4001.175, 4002.02, 4002.634, 4002.792, 4003.164, 4003.178, 4003.617, 4004.594, 4005.136, 4005.602, 4007.24, 4008.867, 4009.072, 4009.73, 4010.784, 4012.164, 4013.845, 4013.889, 4014.779, 4016.613, 4016.793, 4017.21, 4018.494, 4020.047, 4020.149, 4023.952, 4025.951, 4027.098, 4028.098, 4028.803, 4032.239, 4032.993, 4036.43, 4037.129, 4037.168, 4037.746, 4037.817, 4038.368, 4039.194, 4040.828, 4043.251, 4045.367, 4045.614, 4045.669, 4046.292, 4046.457, 4047.318, 4048.732, 4048.886, 4049.771, 4050.541, 4050.732, 4050.927, 4051.26, 4052.245, 4052.275, 4054.413, 4055.082, 4055.474, 4056.812, 4057.869, 4058.464, 4060.15, 4060.374, 4062.663, 4069.074, 4070.205, 4075.512, 4076.36, 4077.655, 4078.657, 4078.817, 4080.062, 4080.081, 4080.654, 4081.132, 4081.517, 4084.208, 4085.064, 4086.436, 4086.825, 4087.139, 4087.917, 4090.107, 4090.753, 4093.266, 4093.834, 4095.966, 4096.692, 4096.905, 4097.236, 4100.971, 4102.763, 4102.865, 4103.267, 4104.76, 4106.175, 4106.912, 4107.284, 4107.513, 4111.583, 4114.739, 4116.154, 4117.435, 4117.713, 4118.557, 4118.778, 4119.657, 4119.658, 4119.928, 4126.104, 4127.737, 4127.886, 4128.466, 4129.524, 4132.353, 4133.862, 4133.996, 4134.977, 4136.389, 4137.632, 4139.176, 4139.353, 4139.703, 4142.129, 4142.173, 4145.752, 4146.123, 4148.823, 4150.911, 4151.818, 4156.283, 4156.297, 4160.14, 4160.412, 4163.347, 4163.96, 4164.878, 4166.091, 4166.522, 4167.344, 4167.517, 4171.044, 4171.424, 4172.504, 4172.594, 4172.736, 4172.839, 4172.964, 4173.987, 4175.894, 4176.867, 4177.079, 4178.481, 4178.711, 4179.367, 4181.227, 4181.403, 4182.483, 4183.423, 4186.688, 4188.326, 4188.867, 4190.589, 4190.946, 4195.019, 4196.929, 4197.638, 4198.525, 4199.117, 4200.463, 4202.764, 4203.303, 4205.617, 4208.428, 4208.56, 4209.601, 4209.91, 4210.251, 4211.515, 4212.098, 4213.314, 4213.432, 4219.723, 4224.293, 4224.961, 4225.791, 4226.6, 4227.448, 4227.76, 4229.519, 4231.817, 4231.95, 4231.967, 4234.075, 4237.423, 4237.702, 4238.246, 4238.73, 4238.813, 4240.191, 4240.2, 4240.815, 4242.703, 4245.401, 4246.493, 4246.595, 4246.786, 4247.149, 4247.294, 4247.925, 4249.199, 4250.145, 4251.645, 4252.488, 4253.038, 4253.514, 4254.401, 4254.957, 4255.829, 4257.281, 4257.532, 4260.984, 4261.292, 4261.517, 4262.562, 4262.698, 4263.932, 4264.086, 4264.404, 4264.842, 4266.184, 4266.859, 4267.286, 4268.603, 4270.081, 4271.77, 4272.53, 4272.863, 4272.985, 4273.776, 4274.854, 4277.66, 4279.318, 4279.88, 4280.081, 4280.631, 4280.782, 4282.921, 4283.254, 4283.936, 4284.077, 4284.249, 4284.408, 4287.228, 4288.594, 4289.08, 4290.227, 4290.624, 4291.594, 4291.735, 4292.313, 4295.407, 4296.774, 4297.493, 4298.698, 4301.328, 4303.049, 4303.221, 4303.931, 4304.902, 4304.952, 4306.679, 4306.681, 4307.604, 4308.616, 4309.178, 4309.366, 4312.854, 4312.941, 4312.979, 4314.218, 4317.3, 4318.937, 4320.128, 4322.823, 4323.686, 4323.927, 4324.042, 4325.601, 4326.006, 4326.162, 4328.02, 4329.261, 4330.167, 4332.593, 4334.606, 4335.902, 4336.378, 4336.599, 4343.202, 4343.221, 4343.564, 4343.873, 4344.051, 4344.241, 4344.349, 4344.609, 4350.659, 4350.814, 4350.976, 4352.01, 4352.318, 4352.577, 4353.706, 4354.379, 4355.146, 4357.044, 4357.502, 4357.525, 4357.94, 4358.076, 4359.88, 4360.266, 4361.251, 4362.714, 4364.615, 4365.44, 4367.063, 4368.275, 4368.876, 4370.403, 4371.127, 4371.284, 4373.073, 4374.441, 4379.535, 4379.795, 4380.191, 4382.013, 4386.762, 4386.999, 4389.096, 4389.84, 4390.197, 4390.761, 4391.305, 4393.029, 4393.061, 4393.26, 4393.303, 4393.726, 4393.904, 4394.983, 4395.203, 4395.524, 4395.548, 4396.565, 4398.404, 4400.357, 4401.147, 4403.408, 4404.177, 4404.753, 4404.849, 4405.402, 4406.645, 4406.768, 4406.782, 4408.721, 4410.552, 4411.221, 4412.229, 4415.748, 4417.028, 4418.519, 4419.092, 4420.885, 4421.007, 4421.119, 4423.244, 4423.594, 4425.625, 4429.101, 4430.019, 4430.76, 4431.085, 4431.373, 4432.045, 4432.804, 4432.912, 4436.187, 4436.783, 4437.079, 4438.629, 4438.809, 4440.095, 4441.734, 4441.766, 4441.811, 4443.913, 4446.479, 4446.675, 4449.322, 4452.308, 4453.046, 4453.602, 4453.814, 4453.847, 4454.921, 4455.405, 4455.621, 4456.411, 4457.7, 4460.117, 4460.544, 4461.793, 4462.311, 4464.696, 4464.988, 4465.364, 4466.648, 4467.851, 4468.333, 4470.47, 4470.515, 4471.024, 4472.74, 4474.717, 4475.528, 4475.892, 4475.913, 4476.517, 4476.879, 4477.111, 4478.05, 4479.107, 4479.375, 4480.458, 4482.664, 4482.917, 4483.528, 4483.906, 4485.081, 4485.721, 4488.43, 4488.928, 4489.329, 4490.623, 4493.902, 4494.222, 4495.375, 4498.594, 4498.812, 4499.372, 4499.925, 4500.635, 4503.91, 4504.21, 4507.038, 4507.448, 4509.219, 4510.222, 4511.407, 4513.262, 4514.114, 4515.554, 4516.075, 4516.82, 4518.811, 4519.457, 4520.244, 4520.747, 4521.639, 4522.681, 4525.149, 4529.55, 4529.625, 4529.831, 4530.945, 4532.257, 4534.621, 4535.956, 4536.752, 4538.351, 4538.837, 4539.354, 4539.764, 4540.408, 4540.583, 4544.434, 4544.781, 4545.113, 4545.938, 4546.334, 4546.99, 4548.428, 4549.914, 4553.344, 4553.483, 4556.104, 4557.559, 4557.749, 4560.03, 4560.866, 4561.732, 4562.816, 4564.697, 4565.237, 4569.053, 4569.354, 4570.563, 4571.35, 4571.627, 4575.817, 4578.716, 4578.733, 4579.009, 4579.069, 4579.799, 4580.596, 4580.672, 4581.194, 4582.29, 4584.402, 4587.658, 4587.994, 4588.541, 4589.401, 4590.409, 4592.023, 4592.568, 4594.467, 4595.738, 4596.575, 4596.9, 4597.6, 4597.798, 4600.595, 4600.787, 4601.285, 4601.307, 4601.339, 4604.596, 4605.005, 4605.937, 4606.201, 4606.306, 4611.337, 4612.564, 4612.603, 4612.722, 4613.233, 4613.469, 4613.657, 4613.706, 4613.962, 4614.381, 4615.204, 4615.884, 4622.087, 4622.725, 4622.728, 4623.035, 4625.441, 4626.352, 4626.791, 4627.185, 4627.235, 4631.039, 4632.146, 4634.161, 4634.713, 4636.393, 4638.122, 4638.123, 4638.539, 4638.87, 4639.392, 4640.899, 4641.222, 4644.513, 4645.631, 4647.242, 4648.626, 4648.636, 4648.877, 4648.974, 4650.874, 4656.734, 4657.385, 4658.313, 4658.642, 4658.801, 4662.097, 4664.014, 4665.234, 4666.096, 4667.666, 4668.139, 4668.23, 4669.961, 4673.078, 4674.147, 4679.51, 4679.539, 4679.629, 4679.964, 4680.56, 4680.904, 4684.174, 4686.599, 4687.617, 4688.517, 4691.925, 4692.904, 4694.997, 4696.019, 4696.053, 4696.157, 4702.67, 4703.443, 4706.64, 4707.001, 4708.926, 4709.498, 4709.618, 4712.255, 4713.331, 4713.735, 4714.119, 4715.837, 4716.409, 4717.158, 4717.233, 4718.136, 4718.304, 4720.56, 4722.172, 4723.343, 4725.938, 4728.163, 4728.762, 4729.168, 4729.601, 4731.764, 4733.988, 4742.334, 4743.287, 4744.869, 4745.069, 4745.742, 4746.538, 4746.668, 4746.982, 4748.012, 4751.365, 4752.794, 4754.053, 4756.521, 4756.964, 4757.779, 4762.26, 4763.313, 4764.232, 4765.966, 4766.358, 4766.606, 4766.672, 4767.253, 4769.056, 4769.524, 4769.812, 4770.055, 4771.884, 4774.487, 4780.421, 4780.427, 4782.301, 4788.219, 4789.391, 4789.576, 4789.925, 4790.116, 4790.725, 4790.961, 4791.604, 4792.397, 4792.431, 4792.642, 4793.314, 4795.982, 4796.602, 4797.623, 4799.058, 4799.685, 4799.768, 4800.554, 4801.619, 4804.593, 4805.525, 4807.285, 4808.535, 4809.252, 4813.711, 4815.252, 4815.978, 4818.658, 4819.394, 4821.491, 4823.626, 4826.566, 4829.682, 4829.949, 4830.538, 4831.197, 4832.683, 4833.318, 4836.274, 4837.652, 4837.942, 4842.194, 4846.001, 4849.84, 4852.258, 4854.164, 4854.176, 4854.285, 4854.333, 4854.481, 4856.054, 4856.088, 4858.327, 4859.78, 4860.195, 4861.372, 4863.993, 4866.76, 4867.64, 4868.932, 4872.083, 4875.718, 4877.789, 4878.502, 4881.741, 4882.255, 4882.888, 4883.911, 4884.078, 4885.003, 4885.838, 4886.181, 4886.205, 4886.568, 4891.181, 4893.553, 4893.697, 4894.599, 4900.822, 4902.166, 4903.263, 4904.393, 4907.54, 4907.675, 4908.831, 4910.009, 4911.384, 4915.081, 4915.766, 4916.262, 4916.869, 4920.537, 4922.171, 4923.157, 4927.61, 4929.42, 4930.266, 4933.812, 4935.414, 4942.953, 4946.382, 4946.558, 4948.183, 4950.498, 4953.626, 4954.299, 4956.359, 4958.25, 4960.306, 4960.609, 4961.112, 4964.091, 4965.258, 4968.507, 4972.911, 4975.489, 4976.567, 4977.086, 4978.11, 4978.357, 4979.309, 4979.614, 4981.272, 4985.729, 4986.79, 4987.82, 4987.987, 4988.305, 4989.184, 4991.648, 4991.701, 4992.274, 4993.249, 4993.946, 5001.23, 5001.425, 5003.844, 5004.632, 5006.111, 5006.699, 5007.995, 5009.182, 5009.445, 5010.3, 5011.245, 5011.966, 5012.762, 5015.77, 5016.032, 5018.351, 5018.611, 5018.791, 5019.247, 5019.474, 5020.755, 5021.506, 5021.801, 5022.371, 5024.217, 5025.526, 5030.792, 5031.105, 5036.422, 5039.178, 5039.54, 5041.309, 5041.448, 5041.726, 5042.11, 5048.029, 5048.116, 5049.344, 5050.12, 5052.505, 5057.479, 5063.352, 5067.262, 5075.329, 5075.377, 5077.356, 5078.087, 5078.1, 5082.688, 5084.544, 5085.289, 5085.838, 5085.933, 5086.251, 5086.603, 5086.743, 5087.061, 5088.801, 5090.454, 5090.495, 5091.726, 5091.727, 5092.688, 5093.969, 5095.289, 5097.352, 5098.102, 5098.472, 5101.972, 5106.239, 5106.624, 5108.172, 5108.615, 5110.269, 5111.444, 5111.855, 5114.51, 5115.161, 5120.892, 5121.966, 5123.266, 5124.724, 5125.257, 5127.339, 5127.345, 5130.91, 5134.647, 5136.656, 5141.556, 5147.676, 5149.503, 5150.122, 5156.606, 5159.585, 5159.829, 5159.95, 5161.291, 5163.98, 5165.593, 5169.299, 5169.472, 5169.725, 5170.445, 5171.317, 5173.042, 5174.66, 5176.993, 5177.958, 5178.827, 5180.417, 5182.654, 5182.953, 5183.465, 5184.146, 5184.254, 5184.864, 5186.293, 5186.754, 5188.364, 5192.083, 5197.097, 5197.577, 5197.742, 5198.867, 5199.531, 5203.69, 5204.947, 5205.203, 5205.413, 5206.597, 5208.579, 5212.433, 5213.344, 5217.692, 5218.498, 5220.21, 5220.565, 5225.535, 5226.063, 5226.402, 5227.497, 5228.107, 5228.96, 5230.621, 5230.691, 5231.255, 5233.066, 5238.25, 5238.467, 5239.914, 5240.633, 5240.755, 5245.993, 5246.088, 5249.682, 5251.695, 5251.967, 5253.239, 5254.977, 5256.992, 5257.583, 5258.934, 5262.076, 5264.445, 5265.91, 5267.099, 5267.652, 5267.746, 5271.051, 5274.212, 5275.299, 5275.606, 5278.805, 5279.315, 5280.91, 5281.166, 5281.304, 5282.432, 5283.013, 5284.271, 5288.29, 5288.368, 5290.799, 5294.8, 5295.502, 5295.653, 5296.09, 5296.175, 5297.59, 5298.321, 5298.668, 5298.853, 5300.365, 5300.865, 5301.313, 5301.863, 5303.431, 5303.535, 5303.995, 5304.761, 5305.416, 5305.528, 5306.964, 5310.463, 5311.299, 5312.477, 5313.146, 5313.4, 5313.409, 5315.155, 5315.458, 5316.931, 5317.446, 5317.514, 5317.582, 5319.607, 5319.763, 5326.127, 5326.352, 5327.858, 5331.475, 5331.533, 5331.81, 5333.146, 5334.326, 5334.64, 5336.286, 5340.189, 5342.403, 5342.545, 5343.972, 5346.332, 5347.125, 5347.371, 5348.77, 5350.623, 5358.44, 5364.117, 5365.192, 5365.356, 5366.42, 5368.436, 5370.986, 5372.007, 5372.019, 5376.208, 5376.89, 5378.956, 5386.076, 5387.972, 5391.623, 5392.015, 5393.914, 5394.346, 5397.909, 5400.074, 5400.4, 5401.52, 5402.07, 5405.928, 5407.481, 5409.136, 5410.49, 5411.372, 5411.389, 5417.113, 5421.75, 5422.15, 5427.245, 5431.848, 5435.538, 5437.196, 5438.036, 5439.902, 5441.896, 5445.947, 5446.177, 5446.807, 5450.792, 5452.606, 5452.864, 5455.103, 5456.574, 5463.793, 5466.992, 5467.772, 5468.626, 5469.152, 5473.095, 5474.076, 5475.029, 5477.774, 5480.921, 5481.896, 5482.261, 5482.46, 5486.646, 5487.523, 5487.678, 5493.616, 5493.893, 5496.478, 5496.562, 5497.879, 5498.482, 5499.585, 5504.404, 5508.409, 5511.824, 5512.057, 5513.394, 5513.866, 5516.281, 5520.199, 5520.928, 5523.431, 5523.991, 5524.25, 5525.848, 5526.203, 5527.066, 5527.96, 5529.79, 5532.12, 5532.265, 5534.516, 5535.413, 5535.587, 5537.871, 5538.055, 5538.516, 5541.594, 5543.046, 5543.189, 5551.777, 5552.692, 5552.832, 5553.222, 5555.009, 5555.185, 5559.639, 5561.871, 5563.062, 5563.676, 5565.685, 5566.722, 5566.799, 5568.074, 5568.68, 5569.896, 5572.205, 5572.403, 5574.389, 5579.34, 5579.943, 5583.968, 5586.767, 5587.338, 5588.764, 5589.346, 5590.152, 5597.061, 5599.504, 5600.836, 5602.809, 5607.664, 5608.479, 5609.961, 5611.356, 5612.489, 5615.159, 5615.62, 5617.138, 5620.389, 5621.603, 5622.089, 5627.081, 5627.207, 5627.232, 5627.509, 5627.715, 5630.778, 5635.303, 5636.21, 5636.243, 5636.825, 5638.339, 5638.933, 5640.879, 5644.356, 5646.684, 5648.885, 5652.01, 5660.392, 5661.281, 5661.969, 5666.788, 5667.458, 5668.065, 5669.646, 5672.262, 5673.379, 5678.031, 5678.379, 5678.601, 5679.119, 5681.506, 5684.485, 5687.857, 5690.403, 5690.43, 5691.174, 5691.695, 5693.216, 5693.32, 5693.616, 5698.222, 5699.409, 5701.898, 5702.907, 5706.096, 5707.704, 5712.882, 5714.551, 5714.872, 5715.469, 5724.454, 5724.542, 5727.71, 5732.863, 5735.706, 5738.227, 5739.779, 5743.207, 5747.458, 5747.836, 5749.416, 5749.636, 5750.03, 5751.544, 5753.382, 5754.881, 5755.135, 5759.262, 5760.179, 5760.692, 5760.695, 5761.081, 5761.172, 5762.23, 5762.608, 5762.84, 5762.975, 5764.702, 5766.256, 5767.972, 5769.323, 5769.674, 5771.61, 5773.45, 5776.224, 5778.809, 5779.688, 5780.283, 5782.078, 5782.111, 5783.92, 5786.531, 5787.263, 5787.967, 5790.408, 5791.192, 5795.839, 5796.432, 5796.659, 5798.173, 5801.271, 5806.627, 5807.972, 5809.881, 5809.972, 5811.614, 5814.008, 5814.349, 5815.223, 5817.076, 5818.275, 5819.278, 5826.637, 5835.419, 5836.759, 5838.141, 5841.54, 5844.919, 5845.287, 5845.961, 5849.184, 5851.205, 5857.802, 5858.265, 5858.664, 5859.234, 5860.074, 5860.125, 5862.227, 5864.392, 5864.803, 5867.177, 5872.784, 5876.137, 5876.276, 5878.594, 5879.856, 5881.202, 5886.815, 5887.465, 5888.705, 5890.548, 5891.1, 5891.878, 5892.466, 5893.235, 5895.006, 5895.163, 5905.455, 5907.863, 5909.844, 5916.48, 5916.554, 5920.173, 5926.766, 5928.317, 5928.501, 5931.195, 5933.798, 5935.109, 5935.132, 5936.938, 5940.363, 5942.145, 5942.62, 5943.101, 5943.623, 5947.513, 5947.612, 5948.545, 5949.472, 5951.436, 5951.458, 5952.886, 5955.096, 5955.683, 5957.864, 5958.228, 5958.231, 5960.362, 5961.918, 5963.055, 5963.447, 5965.469, 5966.982, 5968.883, 5969.562, 5973.472, 5976.16, 5978.326, 5978.892, 5985.186, 5986.089, 5986.956, 5988.556, 5991.26, 5992.999, 5993.814, 5994.103, 5994.264, 5995.914, 5996.491, 5997.675, 5998.939, 6000.001, 6005.522, 6007.715, 6009.827, 6013.915, 6016.05, 6021.835, 6027.309, 6027.724, 6032.67, 6034.895, 6036.656, 6038.031, 6038.553, 6042.226, 6046.812, 6047.058, 6050.994, 6051.179, 6053.883, 6055.09, 6055.94, 6056.584, 6057.526, 6058.756, 6060.808, 6061.642, 6065.801, 6070.346, 6071.747, 6077.976, 6081.709, 6081.829, 6083.66, 6087.882, 6091.72, 6096.65, 6097.593, 6100.239, 6101.968, 6102.167, 6102.599, 6104.557, 6105.128, 6107.095, 6108.063, 6111.547, 6113.302, 6119.425, 6120.921, 6124.316, 6126.511, 6128.023, 6128.12, 6130.349, 6135.198, 6135.787, 6139.639, 6139.861, 6141.597, 6146.413, 6153.646, 6166.008, 6168.983, 6169.458, 6170.837, 6179.789, 6180.525, 6186.816, 6189.698, 6190.399, 6193.271, 6196.968, 6202.305, 6205.585, 6207.159, 6207.23, 6209.714, 6210.376, 6212.099, 6214.183, 6217.683, 6219.141, 6219.526, 6223.219, 6225.009, 6232.715, 6238.652, 6247.366, 6249.029, 6251.242, 6254.763, 6255.373, 6259.506, 6267.637, 6277.124, 6277.186, 6286.509, 6296.18, 6307.854, 6310.516, 6314.978, 6324.293, 6341.799, 6351.273, 6356.339, 6358.653, 6360.736, 6366.71, 6376.201, 6383.708, 6388.405, 6393.195, 6394.513, 6399.646, 6403.1, 6420.064, 6446.1, 6450.592, 6451.924, 6454.724, 6466.804, 6472.151, 6476.605, 6490.027, 6523.627, 6525.046, 6528.63, 6538.494, 6550.513, 6559.769, 6567.215, 6572.573, 6584.575, 6601.124, 6603.196, 6636.965, 6639.528, 6645.365, 6646.931, 6652.183, 6665.14, 6667.168, 6671.392, 6673.819, 6676.866, 6682.384, 6694.546, 6705.134, 6709.058, 6712.438, 6713.195, 6717.302, 6717.526, 6736.531, 6737.268, 6745.1, 6749.504, 6760.658, 6761.065, 6764.107, 6769.605, 6769.644, 6777.408, 6780.778, 6785.741, 6789.697, 6794.601, 6801.427, 6803.296, 6803.829, 6806.622, 6814.743, 6816.646, 6817.784, 6819.415, 6819.495, 6824.823, 6827.388, 6828.292, 6838.924, 6839.376, 6844.667, 6844.693, 6845.935, 6848.866, 6852.251, 6854.327, 6859.477, 6860.106, 6864.311, 6868.789, 6869.131, 6872.162, 6873.867, 6879.602, 6881.048, 6881.715, 6882.111, 6882.989, 6886.443, 6895.154, 6912.413, 6916.621, 6917.526, 6924.858, 6925.732, 6930.35, 6936.48, 6943.427, 6945.271, 6949.381, 6950.812, 6981.684, 6993.538, 6997.123, 7005.161, 7007.073, 7007.128, 7010.855, 7016.371, 7031.024, 7034.065, 7036.749, 7037.75, 7041.188, 7051.57, 7053.483, 7053.504, 7054.964, 7062.749, 7062.769, 7066.165, 7068.013, 7072.102, 7079.32, 7086.783, 7091.793, 7095.835, 7105.91, 7109.677, 7111.446, 7115.258, 7124.986, 7129.287, 7135.149, 7137.336, 7139.069, 7150.252, 7161.677, 7177.472, 7177.838, 7183.14, 7197.161, 7206.349, 7209.155, 7213.826, 7216.673, 7219.906, 7222.834, 7225.225, 7225.826, 7232.431, 7238.953, 7249.475, 7260.398, 7265.893, 7265.985, 7266.991, 7267.656, 7273.431, 7276.357, 7276.696, 7287.222, 7290.202, 7291.78, 7292.991, 7294.997, 7296.577, 7298.331, 7300.581, 7303.848, 7305.836, 7311.815, 7312.053, 7314.424, 7315.561, 7316.766, 7319.035, 7322.294, 7329.29, 7330.57, 7334.888, 7335.362, 7344.819, 7346.81, 7348.501, 7350.538, 7351.112, 7353.282, 7356.818, 7359.951, 7365.678, 7367.706, 7368.956, 7371.174, 7373.069, 7382.017, 7387.025, 7388.615, 7388.778, 7389.601, 7390.054, 7390.776, 7394.04, 7398.975, 7399.434, 7411.864, 7413.06, 7415.187, 7418.32, 7419.143, 7420.2, 7420.712, 7421.108, 7430.8, 7431.918, 7440.245, 7441.797, 7443.248, 7452.097, 7452.854, 7454.819, 7460.168, 7463.382, 7472.387, 7474.488, 7474.59, 7476.734, 7476.938, 7477.507, 7478.136, 7484.297, 7484.301, 7486.112, 7487.318, 7495.641, 7501.271, 7501.653, 7506.147, 7508.543, 7508.622, 7512.139, 7512.384, 7522.517, 7528.147, 7537.433, 7541.529, 7541.913, 7551.102, 7559.574, 7563.01, 7573.74, 7575.795, 7587.965, 7588.305, 7589.989, 7593.789, 7594.173, 7594.251, 7600.697, 7610.268, 7617.237, 7623.168, 7634.008, 7635.848, 7643.648, 7658.328, 7661.477, 7675.799, 7678.311, 7685.524, 7696.81, 7702.227, 7714.17, 7727.675, 7729.542, 7733.565, 7737.662, 7741.801, 7743.803, 7770.278, 7782.547, 7788.743, 7793.923, 7811.98, 7813.647, 7816.662, 7820.803, 7832.658, 7833.249, 7841.508, 7846.372, 7887.089, 7896.951, 7913.825, 7950.827, 7951.396, 7962.91, 7964.973, 7968.969, 7990.397, 7996.816, 7997.302, 8003.227, 8006.703, 8048.53, 8078.023, 8078.972, 8082.647, 8092.039, 8096.639, 8147.469, 8168.599, 8171.141, 8172.818, 8196.517, 8197.904, 8198.21, 8198.273, 8202.156, 8204.102, 8209.967, 8215.805, 8230.64, 8238.594, 8239.511, 8257.278, 8259.927, 8261.123, 8268.133, 8268.833, 8270.041, 8276.335, 8277.248, 8277.766, 8278.594, 8284.603, 8286.903, 8287.287, 8295.423, 8303.1, 8305.209, 8307.889, 8310.076, 8317.092, 8318.166, 8320.169, 8324.14, 8328.95, 8334.214, 8334.528, 8338.546, 8340.502, 8343.714, 8345.186, 8355.143, 8357.873, 8364.926, 8369.899, 8372.208, 8397.135, 8397.684, 8401.159, 8413.331, 8416.571, 8426.127, 8433.778, 8445.738, 8453.657, 8457.266, 8463.994, 8465.064, 8465.199, 8466.11, 8466.535, 8468.62, 8470.391, 8480.633, 8482.886, 8492.943, 8493.795, 8495.725, 8496.493, 8502.67, 8504.588, 8509.618, 8511.682, 8512.12, 8517.085, 8538.015, 8538.175, 8548.041, 8549.88, 8561.606, 8562.104, 8567.79, 8570.201, 8576.475, 8587.936, 8588.265, 8588.412, 8595.982, 8601.047, 8610.61, 8618.141, 8634.712, 8643.307, 8647.848, 8654.082, 8656.674, 8667.367, 8668.915, 8675.791, 8678.931, 8679.954, 8680.79, 8686.78, 8687.227, 8691.545, 8699.28, 8700.327, 8711.601, 8749.944, 8755.75, 8761.727, 8761.824, 8779.111, 8784.773, 8797.262, 8798.072, 8805.225, 8809.226, 8814.508, 8816.885, 8819.497, 8828.091, 8836.52, 8839.768, 8848.494, 8848.512, 8850.111, 8873.8, 8878.945, 8887.111, 8892.855, 8895.985, 8897.512, 8902.709, 8902.924, 8908.288, 8920.041, 8930.927, 8940.335, 8948.108, 8952.476, 8953.58, 8954.937, 8959.882, 8961.356, 8963.322, 8968.289, 8969.41, 8971.458, 8975.157, 8984.02, 8987.136, 9006.767, 9009.123, 9021.386, 9024.751, 9031.467, 9036.754, 9048.08, 9049.357, 9052.589, 9055.254, 9057.971, 9058.76, 9064.688, 9068.915, 9069.415, 9070.405, 9077.611, 9078.573, 9086.425, 9091.661, 9092.478, 9094.407, 9097.868, 9104.641, 9108.565, 9116.903, 9123.582, 9126.24, 9132.742, 9132.988, 9136.454, 9136.741, 9143.882, 9147.831, 9155.647, 9157.031, 9160.334, 9162.34, 9163.982, 9167.346, 9169.324, 9178.562, 9185.225, 9200.421, 9208.335, 9209.339, 9214.977, 9224.141, 9233.191, 9236.186, 9240.303, 9242.169, 9242.367, 9248.343, 9251.053, 9252.818, 9263.964, 9267.693, 9268.164, 9280.36, 9280.401, 9282.215, 9284.824, 9285.795, 9286.523, 9293.866, 9297.606, 9301.729, 9304.628, 9305.434, 9319.792, 9321.874, 9323.829, 9324.174, 9327.844, 9329.51, 9343.088, 9348.921, 9370.554, 9377.315, 9389.421, 9392.75, 9403.438, 9404.333, 9404.765, 9411.919, 9415.064, 9415.99, 9421.608, 9422.475, 9430.569, 9433.181, 9467.794, 9469.949, 9474.236, 9481.364, 9483.267, 9494.166, 9495.883, 9500.525, 9501.589, 9513.643, 9523.026, 9537.771, 9541.983, 9543.389, 9560.524, 9563.748, 9564.863, 9568.466, 9573.655, 9583.673, 9604.325, 9606.483, 9608.895, 9623.095, 9630.808, 9631.339, 9639.919, 9640.77, 9648.661, 9654.712, 9659.627, 9676.543, 9683.489, 9693.84, 9699.772, 9703.192, 9711.637, 9715.517, 9720.463, 9723.132, 9727.831, 9734.928, 9736.909, 9738.901, 9745.148, 9746.55, 9755.332, 9759.872, 9763.013, 9764.407, 9766.149, 9768.313, 9780.693, 9783.993, 9788.216, 9793.127, 9793.777, 9820.242, 9839.342, 9847.295, 9847.458, 9850.098, 9851.783, 9855.489, 9868.09, 9886.081, 9904.229, 9907.868, 9928.139, 9937.091, 9939.985, 9946.392, 9950.713, 9951.158, 9953.471, 9967.301, 9970.233, 9977.641, 9978.128, 9980.463, 9987.87, 9999.925]\n"
     ]
    }
   ],
   "source": [
    "# get_ew_atom(1e-3, 4000, gamme=\"visible\", particular_element=\"Fe I\")[\"wavelength\"]\n",
    "\n",
    "set_complet = set(get_ew_atom(1e-9, 4000, gamme=\"visible\", particular_element=\"Fe I\")[\"wavelength\"])\n",
    "set_a_retirer = set(get_ew_atom(1e-8, 4000, gamme=\"visible\", particular_element=\"Fe I\")[\"wavelength\"])\n",
    "\n",
    "# Retirer les éléments\n",
    "liste_resultante = list(set_complet - set_a_retirer)\n",
    "\n",
    "# Trier la liste résultante si nécessaire\n",
    "liste_resultante.sort()\n",
    "print(liste_resultante)"
   ]
  }
 ],
 "metadata": {
  "kernelspec": {
   "display_name": "mon_env",
   "language": "python",
   "name": "python3"
  },
  "language_info": {
   "codemirror_mode": {
    "name": "ipython",
    "version": 3
   },
   "file_extension": ".py",
   "mimetype": "text/x-python",
   "name": "python",
   "nbconvert_exporter": "python",
   "pygments_lexer": "ipython3",
   "version": "3.13.2"
  }
 },
 "nbformat": 4,
 "nbformat_minor": 2
}
