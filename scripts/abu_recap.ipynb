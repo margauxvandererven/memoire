{
 "cells": [
  {
   "cell_type": "code",
   "execution_count": 2,
   "metadata": {},
   "outputs": [
    {
     "name": "stdout",
     "output_type": "stream",
     "text": [
      "Dispersion is linear\n",
      "Dispersion is linear\n",
      "Dispersion is linear\n",
      "Dispersion is linear\n"
     ]
    },
    {
     "name": "stderr",
     "output_type": "stream",
     "text": [
      "/Users/margauxvandererven/Unif/memoire_local/scripts/minimisation_chi_2.py:188: SyntaxWarning: invalid escape sequence '\\l'\n",
      "  ax[1].set_xlabel(\"$\\lambda$ [Å]\", fontsize  = size_police)\n",
      "/Users/margauxvandererven/Unif/memoire_local/scripts/minimisation_chi_2.py:190: SyntaxWarning: invalid escape sequence '\\m'\n",
      "  ax[0].set_ylabel(\"F$_{\\mathrm{norm}}$\", fontsize  = size_police)\n",
      "/Users/margauxvandererven/Unif/memoire_local/scripts/minimisation_chi_2.py:191: SyntaxWarning: invalid escape sequence '\\m'\n",
      "  ax[1].set_ylabel(\"F$_{\\mathrm{norm}}$\", fontsize  = size_police)\n",
      "/Users/margauxvandererven/Unif/memoire_local/scripts/minimisation_chi_2.py:193: SyntaxWarning: invalid escape sequence '\\m'\n",
      "  ax[0].set_ylabel(\"F$_{\\mathrm{norm}}$\", fontsize  = size_police)\n",
      "/Users/margauxvandererven/Unif/memoire_local/scripts/minimisation_chi_2.py:194: SyntaxWarning: invalid escape sequence '\\l'\n",
      "  ax[1].set_xlabel(\"$\\lambda$ [Å]\", fontsize  = size_police)\n",
      "/Users/margauxvandererven/Unif/memoire_local/scripts/minimisation_chi_2.py:195: SyntaxWarning: invalid escape sequence '\\m'\n",
      "  ax[1].set_ylabel(\"F$_{\\mathrm{norm}}$\", fontsize  = size_police)\n",
      "/Users/margauxvandererven/Unif/memoire_local/scripts/minimisation_chi_2.py:312: SyntaxWarning: invalid escape sequence '\\l'\n",
      "  ax.set_xlabel(\"$\\lambda$ [Å]\", fontsize  = size_police)\n",
      "/Users/margauxvandererven/Unif/memoire_local/scripts/minimisation_chi_2.py:313: SyntaxWarning: invalid escape sequence '\\m'\n",
      "  ax.set_ylabel(\"F$_{\\mathrm{norm}}$\", fontsize  = size_police)\n",
      "/Users/margauxvandererven/Unif/memoire_local/scripts/minimisation_chi_2.py:498: SyntaxWarning: invalid escape sequence '\\e'\n",
      "  ax.text(0.4, 0.95, f'log $\\epsilon_{element}$ = {min_log_e:.3f} $\\pm$ {half_width:.3f}',\n",
      "/Users/margauxvandererven/Unif/memoire_local/scripts/minimisation_chi_2.py:498: SyntaxWarning: invalid escape sequence '\\p'\n",
      "  ax.text(0.4, 0.95, f'log $\\epsilon_{element}$ = {min_log_e:.3f} $\\pm$ {half_width:.3f}',\n",
      "/Users/margauxvandererven/Unif/memoire_local/scripts/minimisation_chi_2.py:504: SyntaxWarning: invalid escape sequence '\\c'\n",
      "  ax.text(0.4, 0.9, f'$\\chi^2_{{red,min}}$ = {min_chi_squared:.3f}',\n",
      "/Users/margauxvandererven/Unif/memoire_local/scripts/minimisation_chi_2.py:569: SyntaxWarning: invalid escape sequence '\\c'\n",
      "  cbar=plt.colorbar(label='$\\chi^2$')\n",
      "/Users/margauxvandererven/Unif/memoire_local/scripts/minimisation_chi_2.py:576: SyntaxWarning: invalid escape sequence '\\c'\n",
      "  cbar.set_label('$\\chi^2$', fontsize=size_police)\n",
      "/Users/margauxvandererven/Unif/memoire_local/scripts/minimisation_chi_2.py:723: SyntaxWarning: invalid escape sequence '\\m'\n",
      "  ax.hlines(y=y_mean, xmin=14500, xmax=23500, color=\"indianred\", linestyle=\"--\", linewidth=1, label=f\"$\\mu$ = {y_mean:.2f}\")\n",
      "/Users/margauxvandererven/Unif/memoire_local/scripts/minimisation_chi_2.py:732: SyntaxWarning: invalid escape sequence '\\s'\n",
      "  label=f\"$\\sigma$ = ±{y_std:.2f}\"\n"
     ]
    }
   ],
   "source": [
    "from imports import *"
   ]
  },
  {
   "cell_type": "code",
   "execution_count": 18,
   "metadata": {},
   "outputs": [
    {
     "name": "stdout",
     "output_type": "stream",
     "text": [
      "    wavelength     start       end  abundance  error_abu_minus  \\\n",
      "0    14661.144 14660.659 14661.589      8.609            0.004   \n",
      "1    15002.153 15001.683 15002.613      8.619            0.005   \n",
      "2    15003.120 15002.690 15003.620      8.612            0.005   \n",
      "3    15130.921 15130.332 15131.494      8.623            0.005   \n",
      "4    15266.168 15265.565 15266.727      8.618            0.005   \n",
      "5    15391.205 15390.496 15391.890      8.600            0.004   \n",
      "6    15409.170 15408.543 15409.705      8.605            0.005   \n",
      "7    15428.401 15427.983 15428.990      8.611            0.006   \n",
      "8    15429.688 15429.068 15430.075      8.601            0.010   \n",
      "9    15505.746 15505.514 15506.598      8.592            0.004   \n",
      "10   15568.782 15568.173 15569.412      8.598            0.005   \n",
      "11   15651.897 15651.357 15652.364      8.593            0.005   \n",
      "12   15719.695 15719.128 15720.290      8.596            0.005   \n",
      "13   15755.520 15754.911 15755.996      8.578            0.005   \n",
      "14   15756.530 15756.073 15757.080      8.586            0.005   \n",
      "15   16052.766 16052.175 16053.259      8.583            0.004   \n",
      "16   16247.884 16247.511 16248.750      8.568            0.004   \n",
      "17   16312.920 16311.874 16313.346      8.577            0.005   \n",
      "18   16347.493 16347.192 16348.044      8.595            0.008   \n",
      "19   16368.136 16367.562 16368.724      8.589            0.005   \n",
      "20   16662.200 16661.805 16662.812      8.600            0.005   \n",
      "21   16904.278 16903.690 16904.775      8.597            0.005   \n",
      "22   17423.859 17423.398 17424.405      8.576            0.007   \n",
      "\n",
      "    error_abu_plus  chi2_red  $R^2$  p_value  \n",
      "0            0.004     4.731  1.000    0.000  \n",
      "1            0.005     0.935  1.000    0.510  \n",
      "2            0.005     0.980  1.000    0.465  \n",
      "3            0.005     0.410  1.000    0.977  \n",
      "4            0.005     0.652  1.000    0.833  \n",
      "5            0.004     0.168  1.000    1.000  \n",
      "6            0.005     0.810  1.000    0.668  \n",
      "7            0.006     0.218  1.000    0.998  \n",
      "8            0.010     0.297  1.000    0.993  \n",
      "9            0.004     0.137  1.000    1.000  \n",
      "10           0.005     1.150  1.000    0.301  \n",
      "11           0.005     1.036  1.000    0.412  \n",
      "12           0.005     0.356  1.000    0.989  \n",
      "13           0.006     1.168  1.000    0.293  \n",
      "14           0.005     0.759  1.000    0.705  \n",
      "15           0.005     1.509  1.000    0.098  \n",
      "16           0.004     1.826  1.000    0.023  \n",
      "17           0.005     0.374  1.000    0.994  \n",
      "18           0.008     2.242  1.000    0.010  \n",
      "19           0.005     1.179  1.000    0.280  \n",
      "20           0.005     0.598  1.000    0.858  \n",
      "21           0.005     0.928  1.000    0.527  \n",
      "22           0.007     1.211  1.000    0.263  \n"
     ]
    }
   ],
   "source": [
    "df = pd.read_csv('../results/OH_final_first.csv')\n",
    "\n",
    "# Arrondir les colonnes numériques à 3 décimales\n",
    "df = df.round({\n",
    "    'abundance': 3,\n",
    "    'error_abu': 3,\n",
    "    'chi2_red': 3,\n",
    "    '$R^2$': 3,\n",
    "    'p_value': 3\n",
    "})\n",
    "\n",
    "# Définir les options d'affichage\n",
    "pd.set_option('display.max_rows', None)  # Afficher toutes les lignes\n",
    "pd.set_option('display.float_format', lambda x: '%.3f' % x)  # Format des nombres\n",
    "pd.set_option('display.width', None)  # Largeur automatique\n",
    "pd.set_option('display.max_columns', None)  # Afficher toutes les colonnes\n",
    "\n",
    "print(df)"
   ]
  },
  {
   "cell_type": "code",
   "execution_count": 19,
   "metadata": {},
   "outputs": [
    {
     "name": "stdout",
     "output_type": "stream",
     "text": [
      "\\begin{table}\n",
      "\\caption{Résultats de l'analyse des raies OH}\n",
      "\\label{tab:resultats_OH}\n",
      "\\begin{tabular}{rrrrrrrrr}\n",
      "\\toprule\n",
      "wavelength & start & end & abundance & error_abu_minus & error_abu_plus & chi2_red & $R^2$ & p_value \\\\\n",
      "\\midrule\n",
      "14661.144 & 14660.659 & 14661.589 & 8.609 & 0.004 & 0.004 & 4.731 & 1.000 & 0.000 \\\\\n",
      "15002.153 & 15001.683 & 15002.613 & 8.619 & 0.005 & 0.005 & 0.935 & 1.000 & 0.510 \\\\\n",
      "15003.120 & 15002.690 & 15003.620 & 8.612 & 0.005 & 0.005 & 0.980 & 1.000 & 0.465 \\\\\n",
      "15130.921 & 15130.332 & 15131.494 & 8.623 & 0.005 & 0.005 & 0.410 & 1.000 & 0.977 \\\\\n",
      "15266.168 & 15265.565 & 15266.727 & 8.618 & 0.005 & 0.005 & 0.652 & 1.000 & 0.833 \\\\\n",
      "15391.205 & 15390.496 & 15391.890 & 8.600 & 0.004 & 0.004 & 0.168 & 1.000 & 1.000 \\\\\n",
      "15409.170 & 15408.543 & 15409.705 & 8.605 & 0.005 & 0.005 & 0.810 & 1.000 & 0.668 \\\\\n",
      "15428.401 & 15427.983 & 15428.990 & 8.611 & 0.006 & 0.006 & 0.218 & 1.000 & 0.998 \\\\\n",
      "15429.688 & 15429.068 & 15430.075 & 8.601 & 0.010 & 0.010 & 0.297 & 1.000 & 0.993 \\\\\n",
      "15505.746 & 15505.514 & 15506.598 & 8.592 & 0.004 & 0.004 & 0.137 & 1.000 & 1.000 \\\\\n",
      "15568.782 & 15568.173 & 15569.412 & 8.598 & 0.005 & 0.005 & 1.150 & 1.000 & 0.301 \\\\\n",
      "15651.897 & 15651.357 & 15652.364 & 8.593 & 0.005 & 0.005 & 1.036 & 1.000 & 0.412 \\\\\n",
      "15719.695 & 15719.128 & 15720.290 & 8.596 & 0.005 & 0.005 & 0.356 & 1.000 & 0.989 \\\\\n",
      "15755.520 & 15754.911 & 15755.996 & 8.578 & 0.005 & 0.006 & 1.168 & 1.000 & 0.293 \\\\\n",
      "15756.530 & 15756.073 & 15757.080 & 8.586 & 0.005 & 0.005 & 0.759 & 1.000 & 0.705 \\\\\n",
      "16052.766 & 16052.175 & 16053.259 & 8.583 & 0.004 & 0.005 & 1.509 & 1.000 & 0.098 \\\\\n",
      "16247.884 & 16247.511 & 16248.750 & 8.568 & 0.004 & 0.004 & 1.826 & 1.000 & 0.023 \\\\\n",
      "16312.920 & 16311.874 & 16313.346 & 8.577 & 0.005 & 0.005 & 0.374 & 1.000 & 0.994 \\\\\n",
      "16347.493 & 16347.192 & 16348.044 & 8.595 & 0.008 & 0.008 & 2.242 & 1.000 & 0.010 \\\\\n",
      "16368.136 & 16367.562 & 16368.724 & 8.589 & 0.005 & 0.005 & 1.179 & 1.000 & 0.280 \\\\\n",
      "16662.200 & 16661.805 & 16662.812 & 8.600 & 0.005 & 0.005 & 0.598 & 1.000 & 0.858 \\\\\n",
      "16904.278 & 16903.690 & 16904.775 & 8.597 & 0.005 & 0.005 & 0.928 & 1.000 & 0.527 \\\\\n",
      "17423.859 & 17423.398 & 17424.405 & 8.576 & 0.007 & 0.007 & 1.211 & 1.000 & 0.263 \\\\\n",
      "\\bottomrule\n",
      "\\end{tabular}\n",
      "\\end{table}\n",
      "\n"
     ]
    }
   ],
   "source": [
    "# Version simplifiée sans formatage complexe des en-têtes\n",
    "latex_table = df.to_latex(\n",
    "    index=False,\n",
    "    float_format=\"%.3f\",\n",
    "    caption=\"Résultats de l'analyse des raies OH\",\n",
    "    label=\"tab:resultats_OH\",\n",
    "    escape=False\n",
    ")\n",
    "\n",
    "# Sauvegarder dans un fichier\n",
    "with open('../rédaction/results/table_OH.tex', 'w') as f:\n",
    "    f.write(latex_table)\n",
    "\n",
    "# Afficher le résultat\n",
    "print(latex_table)"
   ]
  }
 ],
 "metadata": {
  "kernelspec": {
   "display_name": "mon_env",
   "language": "python",
   "name": "python3"
  },
  "language_info": {
   "codemirror_mode": {
    "name": "ipython",
    "version": 3
   },
   "file_extension": ".py",
   "mimetype": "text/x-python",
   "name": "python",
   "nbconvert_exporter": "python",
   "pygments_lexer": "ipython3",
   "version": "3.13.2"
  }
 },
 "nbformat": 4,
 "nbformat_minor": 2
}
