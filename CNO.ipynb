{
 "cells": [
  {
   "cell_type": "code",
   "execution_count": 1,
   "metadata": {},
   "outputs": [
    {
     "name": "stdout",
     "output_type": "stream",
     "text": [
      "Dispersion is linear\n",
      "Dispersion is linear\n",
      "Dispersion is linear\n",
      "Dispersion is linear\n"
     ]
    }
   ],
   "source": [
    "%matplotlib qt\n",
    "%load_ext autoreload\n",
    "%autoreload 2\n",
    "from imports import *\n",
    "repertory_memoire=\"/Users/margauxvandererven/Library/CloudStorage/OneDrive-UniversitéLibredeBruxelles/memoire/\""
   ]
  },
  {
   "cell_type": "code",
   "execution_count": 7,
   "metadata": {},
   "outputs": [
    {
     "name": "stdout",
     "output_type": "stream",
     "text": [
      "8.44 7.380000000000001\n"
     ]
    }
   ],
   "source": [
    "C = 0.35+8.39-0.3 #asp2007\n",
    "N=-0.1+7.78-0.3 #asp2007\n",
    "print(C,N)"
   ]
  },
  {
   "cell_type": "code",
   "execution_count": 2,
   "metadata": {},
   "outputs": [],
   "source": [
    "data = []\n",
    "lines_BD221742 = {}\n",
    "\n",
    "ew_limit = 1e-8\n",
    "Teff = 4000\n",
    "element = \"\"\n",
    "\n",
    "files = {\n",
    "    \"9000-15000_10042024.bsyn\": element,\n",
    "    \"turbo_atoms.20180901_TS2020_transitions_mod_xx_ABO.txt\": element.upper(),\n",
    "    \"17000-25000_10042024.bsyn\": element\n",
    "}\n",
    "\n",
    "base_path = \"/Users/margauxvandererven/Library/CloudStorage/OneDrive-UniversitéLibredeBruxelles/memoire/Linelists/Sophie_IGRINS/\"\n",
    "\n",
    "for file, atom in files.items():\n",
    "    with open(base_path + file, \"r\", encoding=\"utf8\") as f:\n",
    "        for line in f:\n",
    "            parts = line.split()\n",
    "            if len(parts) > 5:\n",
    "                # print(parts)\n",
    "                wavelength, excitation_potential, loggf = map(float, parts[:3])\n",
    "                ew = 10**(loggf - (5040 / Teff) * excitation_potential)\n",
    "                element_name = parts[11][1].upper() + parts[11][2:].lower() + \" \" + parts[12]\n",
    "                if ew > ew_limit and wavelength > 14500:\n",
    "                    data.append((wavelength, excitation_potential, ew, element_name))\n",
    "# pprint(data)\n",
    "for d in data:\n",
    "     lines_BD221742[d[3]] = []\n",
    "for d in data:\n",
    "    lines_BD221742.get(d[3]).append(d[0])\n",
    "from collections import defaultdict\n",
    "\n",
    "# Initialisation du dictionnaire\n",
    "lines_BD221742 = defaultdict(list)\n",
    "\n",
    "# Trier les données par d[3] (élément) puis par d[0] (wavelength)\n",
    "data_sorted = sorted(data, key=lambda x: (x[3], x[0]))\n",
    "\n",
    "# Dictionnaire temporaire pour stocker la meilleure valeur de d[2] par élément et par plage de d[0]\n",
    "best_values = {}\n",
    "\n",
    "for wavelength, excitation_potential, ew, element in data_sorted:\n",
    "    # Vérifier s'il existe déjà une valeur proche dans la liste\n",
    "    if element in best_values:\n",
    "        close_wavelengths = [w for w in best_values[element] if abs(w - wavelength) < 0.2]\n",
    "\n",
    "        if close_wavelengths:\n",
    "            # Vérifier si la nouvelle valeur de d[2] (ew) est plus grande que celle existante\n",
    "            closest_wavelength = close_wavelengths[0]\n",
    "            if ew > best_values[element][closest_wavelength]:  \n",
    "                best_values[element][closest_wavelength] = ew  # Mise à jour avec le plus grand d[2]\n",
    "        else:\n",
    "            best_values[element][wavelength] = ew  # Ajouter un nouveau point si aucun proche n'existe\n",
    "    else:\n",
    "        best_values[element] = {wavelength: ew}  # Initialiser pour cet élément\n",
    "\n",
    "# Convertir best_values en dictionnaire {d[3]: [d[0]]}\n",
    "for element, wavelengths in best_values.items():\n",
    "    lines_BD221742[element] = list(wavelengths.keys())\n",
    "\n",
    "# Affichage du dictionnaire final\n",
    "# pprint(lines_BD221742)"
   ]
  },
  {
   "cell_type": "code",
   "execution_count": 3,
   "metadata": {},
   "outputs": [],
   "source": [
    "def latex_table(dictionnaire, element):\n",
    "    sorted_items = sorted(dictionnaire.items())\n",
    "    latex_table = \"\\\\begin{table}[h!]\\n\\\\centering\\n\\\\small\\n\\\\begin{tabular}{ccc}\\n\\\\hline\\n\\\\hline\\n\"\\\n",
    "                f\"$\\\\lambda_{{\\\\mathrm{{{element}}}}}$ & $\\\\lambda_{{\\\\mathrm{{min}}}}$ & $\\\\lambda_{{\\\\mathrm{{max}}}}$ \\\\\\\\\\n\\\\hline\\n\"\n",
    "\n",
    "    for key, value in sorted_items:\n",
    "        latex_table += f\"{key:.2f} & {value[0]:.2f} & {value[1]:.2f} \\\\\\\\\\n\"\n",
    "\n",
    "    latex_table += \"\\\\end{tabular}\\n\\\\end{table}\"\n",
    "\n",
    "    print(latex_table)"
   ]
  },
  {
   "cell_type": "markdown",
   "metadata": {},
   "source": [
    "## Recherche raies CNO"
   ]
  },
  {
   "cell_type": "code",
   "execution_count": null,
   "metadata": {},
   "outputs": [],
   "source": [
    "# longueurs d'onde des raies de Nandakumar et al. 2023 pour le OH, CN, CO\n",
    "\n",
    "molecular_lines_nandakumar = {\n",
    "# \"OH\": [\n",
    "#     15236.623,15236.956, 15391.057, 15391.205, \n",
    "#     15469.762, 15470.216, 15505.324, 15505.746, \n",
    "#     15651.897,\n",
    "#     15653.480, 15654.112, \n",
    "#     16247.884, \n",
    "#     16312.494, 16312.920, 16346.182, 16347.493, \n",
    "#     16352.213, \n",
    "#     16581.269,\n",
    "#     16714.359,16872.277, 16886.275, 16886.293, 16895.183, 16895.319, \n",
    "#     16898.778,16902.733, 16909.289\n",
    "#     ],\n",
    "    \n",
    "# \"CN\" : [\n",
    "#     15466.235, 15471.812, 15485.339, \n",
    "#     #     15489.56, 15489.764, 15494.748, 15495.256, 15496.319, 15500.927, \n",
    "#     #    15501.498, 15660.700, 15661.595, \n",
    "#        15871.453, \n",
    "#     #    15881.108, 16021.961, 16179.943, 16180.109, \n",
    "#        16329.245, \n",
    "#     #  16334.003, \n",
    "#      16352.092, \n",
    "#     #  16581.908, 16582.026, 16582.199, 16615.321, 16618.553, 16791.783, \n",
    "#     #  16895.399\n",
    "#      ],\n",
    "\n",
    "\n",
    " \"CO\" : [\n",
    "       16025.53, 16025.935, 16026.94,\n",
    "         16030.941, 16031.274,\n",
    "           16184.507, 16184.565, 16184.738, 16184.912, 16185.256, \n",
    "        16185.548, 16186.062, 16186.473, 16187.154, 16187.688, 16332.817, 16334.087, \n",
    "        16351.905, 16352.478, \n",
    "        16613.174,\n",
    "        16613.225, 16613.427, 16613.579, 16613.984, 16614.236, 16614.846, 16615.195, 16616.012,16616.457, 16617.485,\n",
    "         16618.021, 16619.264, 16619.887, 16620.177, 16871.668, 16885.696, 16895.397, 16896.04, 16899.304, 16901.802,\n",
    "         16902.455, \n",
    "        16909.199, 16909.543\n",
    "         ],\n",
    "\n",
    "# \"CH\" : [20050, 20210, 20350, 20440]\n",
    "\n",
    "\n",
    "}\n"
   ]
  },
  {
   "cell_type": "code",
   "execution_count": null,
   "metadata": {},
   "outputs": [],
   "source": [
    "molecular_lines  = {\n",
    "# \"OH\": [\n",
    "# 15002.17, 15003.15,15266.2,15409.2,15428.4,15429.65,15651.92,15719.74,15755.53,15756.55,16247.92,16312.5,16312.9,16368.15,16448.1,16581.3,16662.21,16751.75,\n",
    "# 17069.5,17096.4,17104.75,17239.75,17423.85,17618.9,17772.7,\n",
    "# 17825.18],\n",
    "# \"CO\": [\n",
    "#     15581.85, 15582.6,15586.5, \n",
    "#     15600.8,15612.5,15655.6,\n",
    "#       15780.15,15794.6,15795.25,15802.5,15805.6,15820.4,15831.1,\n",
    "#       15846.8,15849.25,15877.5, 15988,\n",
    "#       15995.9,\n",
    "#       16003,16025,16049,16084,16093,\n",
    "#       16138,16159,16193,16218,16222,16238,16249,16265, 16269,16275, 16281,\n",
    "#       16295, 16297, 16314, 16321,16400, 16401.5, 16417, 16421,17026,\n",
    "#       17081.8,17129.5,17175,17213,17214,17439,17566\n",
    "      # 22992,22999,23007,23015,23023.5,\n",
    "      # 23051, 23052.5, 23061.5,23063, 23072, 23074,23083,23085,23094,23097,23106,23109.5\n",
    "      # ],\n",
    "# \"CN\":[14597.5,14603,14629,14630.2,14660,14663,14664,14744.25,14747,14757,14759.8,14763,14778.3,\n",
    "#       14820.5,14833.25,14840,14846.5,14856.5,14865,14869,14880.5,14885,14890,14891,14899,14903,\n",
    "#       14913,14954.5,14958,14962,14973.5,14974.5,15004,15009,15035,15037,15042,15059,15106,\n",
    "#       15125,15179.8,15185.5,15192,15260.5,15272,15275.5,15280,15288.5,15298.5,15307,15309,\n",
    "#       15314,15321,15332,15338,15340,15354,15357.5,15439.8,15447,16057,]\n",
    "      }\n",
    "#CO band \n",
    "# 15577-15587\n",
    "# 15775 - 15790\n",
    "# 15977-15990 \n",
    "# 16184-16210\n",
    "# 16403 - 16415\n",
    "# 16428-16435\n",
    "# 17084-17090\n",
    "# 17293-17301\n",
    "# 22928-22986\n",
    "# 23219_23290\n",
    "#CN band\n",
    "#14652-14659\n",
    "#14737-14742\n",
    "#14763_14768\n",
    "#14933-14939\n",
    "#15241-15244\n",
    "# len(molecular_lines.get(\"CN\"))\n",
    "# zoom_lines(molecular_lines, path, {\"tout_OH\"  : \"avec OH\", \"toutsans_OH\" : \"sansOH\"}, stardata, 5, lines_BD22)"
   ]
  },
  {
   "cell_type": "code",
   "execution_count": null,
   "metadata": {},
   "outputs": [],
   "source": [
    "for i in molecular_lines.get(\"CO\"):\n",
    "    zoom_lines({\"CO\":[i]}, path, {\"K_9.5\"  : \"log $\\epsilon_O$ = 8.56 & $v_{macro}$ = 9.5 $km s^{-1}$\", \"sans_CO_mol\" : \"sans CO\"}, stardata, 5, lines_BD22)"
   ]
  },
  {
   "cell_type": "code",
   "execution_count": 26,
   "metadata": {},
   "outputs": [],
   "source": [
    "Oabu=[8.31, 8.5]\n",
    "ratioC_O=[0.5, 0.75, 0.9]\n",
    "zoom_lines({\"CO\":[16200]}, path, {\"4000g1.0z-0.50m1.0t02a+0.20c+0.346n+0.00o+0.20r+0.00s+0.00.mod_16150-16250_ratioC_O_0.5_Oabu_8.31.conv\": \"C/O=O.5 & logO=8.31\",\n",
    "                                  \"4000g1.0z-0.50m1.0t02a+0.20c+0.346n+0.00o+0.20r+0.00s+0.00.mod_16150-16250_ratioC_O_0.75_Oabu_8.31.conv\": \"C/O=O.75 & logO=8.31\",\n",
    "                                  \"4000g1.0z-0.50m1.0t02a+0.20c+0.346n+0.00o+0.20r+0.00s+0.00.mod_16150-16250_ratioC_O_0.75_Oabu_8.5.conv\": \"C/O=O.75 & logO=8.5\",\n",
    "                                  \"4000g1.0z-0.50m1.0t02a+0.20c+0.346n+0.00o+0.20r+0.00s+0.00.mod_16150-16250_ratioC_O_0.9_Oabu_8.31.conv\": \"C/O=O.9 & logO=8.31\",\n",
    "                                  \"sans_CO_mol\" : \"sans CO\"\n",
    "                    }, stardata, 10, lines_BD221742)"
   ]
  },
  {
   "cell_type": "code",
   "execution_count": 24,
   "metadata": {},
   "outputs": [
    {
     "data": {
      "text/plain": [
       "np.float64(8.7349387366083)"
      ]
     },
     "execution_count": 24,
     "metadata": {},
     "output_type": "execute_result"
    }
   ],
   "source": [
    "# 0.35+8.56-0.3 # carbone\n",
    "8.61-np.log10(0.75)"
   ]
  },
  {
   "cell_type": "markdown",
   "metadata": {},
   "source": [
    "## Oxygène"
   ]
  },
  {
   "cell_type": "markdown",
   "metadata": {},
   "source": [
    "Vitesse de macroturbulence prise à 8.5 kms-1 pour la bande H"
   ]
  },
  {
   "cell_type": "code",
   "execution_count": 25,
   "metadata": {},
   "outputs": [
    {
     "name": "stdout",
     "output_type": "stream",
     "text": [
      "14613.49\n",
      "14661.08\n",
      "15002.17\n",
      "15003.15\n",
      "15130.89\n",
      "15266.2\n",
      "15278.53\n",
      "15391.13\n",
      "15409.18\n",
      "15428.45\n",
      "15429.64\n",
      "15505.69\n",
      "15568.78\n",
      "15651.91\n",
      "15719.68\n",
      "15755.53\n",
      "15756.52\n",
      "16052.77\n",
      "16247.89\n",
      "16312.72\n",
      "16347.49\n",
      "16368.13\n",
      "16662.19\n",
      "16729.78\n",
      "16904.29\n",
      "17239.75\n",
      "17322.25\n",
      "17423.86\n",
      "17618.89\n",
      "17772.7\n",
      "17825.2\n"
     ]
    }
   ],
   "source": [
    "for i in raies_OH_final:\n",
    "    print(i)"
   ]
  },
  {
   "cell_type": "code",
   "execution_count": 30,
   "metadata": {},
   "outputs": [
    {
     "data": {
      "text/plain": [
       "0.7079457843841374"
      ]
     },
     "execution_count": 30,
     "metadata": {},
     "output_type": "execute_result"
    }
   ],
   "source": [
    "10**(8.44-8.59)"
   ]
  },
  {
   "cell_type": "markdown",
   "metadata": {},
   "source": [
    "### Dernier check avec + de raies de OH, check avec variation de Teff aussi"
   ]
  },
  {
   "cell_type": "code",
   "execution_count": 63,
   "metadata": {},
   "outputs": [
    {
     "name": "stderr",
     "output_type": "stream",
     "text": [
      "<>:13: SyntaxWarning: invalid escape sequence '\\e'\n",
      "<>:14: SyntaxWarning: invalid escape sequence '\\e'\n",
      "<>:13: SyntaxWarning: invalid escape sequence '\\e'\n",
      "<>:14: SyntaxWarning: invalid escape sequence '\\e'\n",
      "/var/folders/cr/jh08cm417bq6mz5b3j4kvmxm0000gn/T/ipykernel_36176/3371973747.py:13: SyntaxWarning: invalid escape sequence '\\e'\n",
      "  synth[\"4000g1.0z-0.50m1.0t02a+0.20c+0.346n+0.00o+0.20r+0.00s+0.00.mod_\"+range+\"_Oabu_\"+\"{:.2f}\".format(abu)+\".conv\"]= \"log$\\epsilon$=\"+str(abu)+\"4000K\"\n",
      "/var/folders/cr/jh08cm417bq6mz5b3j4kvmxm0000gn/T/ipykernel_36176/3371973747.py:14: SyntaxWarning: invalid escape sequence '\\e'\n",
      "  synth[\"s3800_g+1.0_m2.0_t05_st_z-0.50_a+0.20_c+0.00_n+0.00_o+0.20_r+0.00_s+0.00.mod_\"+range+\"_Oabu_\"+\"{:.2f}\".format(abu)+\".conv\"]= \"log$\\epsilon$=\"+str(abu)+\"3800K\"\n"
     ]
    },
    {
     "name": "stdout",
     "output_type": "stream",
     "text": [
      "14613.49\n",
      "14661.08\n",
      "15002.17\n",
      "15003.15\n",
      "15130.89\n"
     ]
    },
    {
     "name": "stdout",
     "output_type": "stream",
     "text": [
      "15127.08\n",
      "15004.69\n"
     ]
    }
   ],
   "source": [
    "chi_final_OH={}\n",
    "path_to_synth=\"/Users/margauxvandererven/Library/CloudStorage/OneDrive-UniversitéLibredeBruxelles/memoire/BD-221742/synth_margaux/\"\n",
    "ABU = [\n",
    "    # 8.54, 8.55, 8.56, 8.57, 8.58,\n",
    "       8.59,\n",
    "        #  8.60,8.61,8.62,8.63\n",
    "    ]\n",
    "for wavelength in raies_OH_final:\n",
    "    range=str(wavelength-5)+\"-\"+str(wavelength+5)\n",
    "    # synth={}\n",
    "    synth={\"../../syntspec/BD-221742b/toutsans_OH\":\"sans OH\"}\n",
    "    for abu in ABU:\n",
    "        synth[\"4000g1.0z-0.50m1.0t02a+0.20c+0.346n+0.00o+0.20r+0.00s+0.00.mod_\"+range+\"_Oabu_\"+\"{:.2f}\".format(abu)+\".conv\"]= \"log$\\epsilon$=\"+str(abu)+\"4000K\"\n",
    "        synth[\"s3800_g+1.0_m2.0_t05_st_z-0.50_a+0.20_c+0.00_n+0.00_o+0.20_r+0.00_s+0.00.mod_\"+range+\"_Oabu_\"+\"{:.2f}\".format(abu)+\".conv\"]= \"log$\\epsilon$=\"+str(abu)+\"3800K\"\n",
    "    # pprint(synth)\n",
    "    zoom_lines({\"ee\":[wavelength]}, path_to_synth, synth, stardata, 5, lines_BD221742)\n",
    "    print(wavelength)\n",
    "    # chi_plot_ABU(\n",
    "    #         ABU, \n",
    "    #         chi_2(path_to_synth, synth, stardata, wavelength, lines_BD22,chi_final_OH,\n",
    "    #             name=element,start=raies_OH_final.get(wavelength)[0],end=raies_OH_final.get(wavelength)[1])[\"chi_squared_values\"], \"O\",wavelength, element, raie_element)\n",
    "    # chi_2(path_to_synth, synth, stardata, wavelength, lines_BD22,chi_final_OH,\n",
    "    #         name=element,start=raies_OH_final.get(wavelength)[0],end=raies_OH_final.get(wavelength)[1],\n",
    "    #         plot=True\n",
    "    #         )\n",
    "    # zone_chi2(path, synth_plot, stardata, wavelength, lines_BD22,chi_final_OH,\n",
    "    #         name=element,start=raies_OH_final.get(wavelength)[0],end=raies_OH_final.get(wavelength)[1],\n",
    "    #         plot=True)\n",
    "\n",
    "# abu_plot(raie_element,\"O\"\n",
    "#         #  ,save=repertory_memoire+\"output/OH/first/\"+\"abu_O.png\"\n",
    "#          )"
   ]
  },
  {
   "cell_type": "code",
   "execution_count": 37,
   "metadata": {},
   "outputs": [
    {
     "name": "stderr",
     "output_type": "stream",
     "text": [
      "<>:8: SyntaxWarning: invalid escape sequence '\\e'\n",
      "<>:8: SyntaxWarning: invalid escape sequence '\\e'\n",
      "/var/folders/cr/jh08cm417bq6mz5b3j4kvmxm0000gn/T/ipykernel_10400/757186781.py:8: SyntaxWarning: invalid escape sequence '\\e'\n",
      "  synth[\"4000g1.0z-0.50m1.0t02a+0.20c+0.346n+0.00o+0.20r+0.00s+0.00.mod_\"+range+\"_Oabu_\"+str(abu)+\".conv\"]=\"log$\\epsilon_O$=\"+str(abu)\n",
      "/var/folders/cr/jh08cm417bq6mz5b3j4kvmxm0000gn/T/ipykernel_10400/757186781.py:8: SyntaxWarning: invalid escape sequence '\\e'\n",
      "  synth[\"4000g1.0z-0.50m1.0t02a+0.20c+0.346n+0.00o+0.20r+0.00s+0.00.mod_\"+range+\"_Oabu_\"+str(abu)+\".conv\"]=\"log$\\epsilon_O$=\"+str(abu)\n"
     ]
    },
    {
     "ename": "FileNotFoundError",
     "evalue": "[Errno 2] No such file or directory: '/Users/margauxvandererven/Library/CloudStorage/OneDrive-UniversitéLibredeBruxelles/memoire/BD-221742/synth_margaux/4000g1.0z-0.50m1.0t02a+0.20c+0.346n+0.00o+0.20r+0.00s+0.00.mod_14598.49-14628.49_Oabu_8.56.conv'",
     "output_type": "error",
     "traceback": [
      "\u001b[0;31m---------------------------------------------------------------------------\u001b[0m",
      "\u001b[0;31mFileNotFoundError\u001b[0m                         Traceback (most recent call last)",
      "Cell \u001b[0;32mIn[37], line 9\u001b[0m\n\u001b[1;32m      7\u001b[0m \u001b[38;5;28;01mfor\u001b[39;00m abu \u001b[38;5;129;01min\u001b[39;00m ABU_O:\n\u001b[1;32m      8\u001b[0m         synth[\u001b[38;5;124m\"\u001b[39m\u001b[38;5;124m4000g1.0z-0.50m1.0t02a+0.20c+0.346n+0.00o+0.20r+0.00s+0.00.mod_\u001b[39m\u001b[38;5;124m\"\u001b[39m\u001b[38;5;241m+\u001b[39m\u001b[38;5;28mrange\u001b[39m\u001b[38;5;241m+\u001b[39m\u001b[38;5;124m\"\u001b[39m\u001b[38;5;124m_Oabu_\u001b[39m\u001b[38;5;124m\"\u001b[39m\u001b[38;5;241m+\u001b[39m\u001b[38;5;28mstr\u001b[39m(abu)\u001b[38;5;241m+\u001b[39m\u001b[38;5;124m\"\u001b[39m\u001b[38;5;124m.conv\u001b[39m\u001b[38;5;124m\"\u001b[39m]\u001b[38;5;241m=\u001b[39m\u001b[38;5;124m\"\u001b[39m\u001b[38;5;124mlog$\u001b[39m\u001b[38;5;124m\\\u001b[39m\u001b[38;5;124mepsilon_O$=\u001b[39m\u001b[38;5;124m\"\u001b[39m\u001b[38;5;241m+\u001b[39m\u001b[38;5;28mstr\u001b[39m(abu)\n\u001b[0;32m----> 9\u001b[0m         \u001b[43mzoom_lines\u001b[49m\u001b[43m(\u001b[49m\u001b[43m{\u001b[49m\u001b[38;5;124;43m\"\u001b[39;49m\u001b[38;5;124;43mOH\u001b[39;49m\u001b[38;5;124;43m\"\u001b[39;49m\u001b[43m:\u001b[49m\u001b[43m[\u001b[49m\u001b[43mi\u001b[49m\u001b[43m]\u001b[49m\u001b[43m}\u001b[49m\u001b[43m,\u001b[49m\u001b[43m \u001b[49m\u001b[43mpath_to_synth\u001b[49m\u001b[43m,\u001b[49m\u001b[43msynth\u001b[49m\u001b[43m,\u001b[49m\u001b[43m \u001b[49m\u001b[43mstardata\u001b[49m\u001b[43m,\u001b[49m\u001b[43m \u001b[49m\u001b[38;5;241;43m5\u001b[39;49m\u001b[43m,\u001b[49m\u001b[43mlines_BD221742\u001b[49m\u001b[43m,\u001b[49m\u001b[43m \u001b[49m\n\u001b[1;32m     10\u001b[0m \u001b[43m                                                                   \u001b[49m\u001b[43m)\u001b[49m\n",
      "File \u001b[0;32m~/Unif/script/zoom_raies.py:140\u001b[0m, in \u001b[0;36mzoom_lines\u001b[0;34m(lines, path, synthetics, stardata, taille_zoom, spectral_lines, save)\u001b[0m\n\u001b[1;32m    138\u001b[0m l \u001b[38;5;241m=\u001b[39m lines\u001b[38;5;241m.\u001b[39mget(i)\u001b[38;5;241m.\u001b[39mindex(k)\n\u001b[1;32m    139\u001b[0m \u001b[38;5;28;01mif\u001b[39;00m  k \u001b[38;5;241m<\u001b[39m \u001b[38;5;241m18500\u001b[39m : \n\u001b[0;32m--> 140\u001b[0m     \u001b[43mplot_lines\u001b[49m\u001b[43m(\u001b[49m\u001b[43max\u001b[49m\u001b[43m,\u001b[49m\u001b[43ml\u001b[49m\u001b[43m,\u001b[49m\u001b[43m \u001b[49m\u001b[43mpath\u001b[49m\u001b[43m,\u001b[49m\u001b[43m \u001b[49m\u001b[43msynthetics\u001b[49m\u001b[43m,\u001b[49m\u001b[43m \u001b[49m\u001b[43mstardata\u001b[49m\u001b[43m,\u001b[49m\u001b[43m \u001b[49m\u001b[43mn\u001b[49m\u001b[43m,\u001b[49m\u001b[43m \u001b[49m\u001b[43mk\u001b[49m\u001b[43m,\u001b[49m\u001b[43m \u001b[49m\u001b[43mi\u001b[49m\u001b[43m,\u001b[49m\u001b[43m \u001b[49m\u001b[38;5;124;43m\"\u001b[39;49m\u001b[38;5;124;43mh\u001b[39;49m\u001b[38;5;124;43m\"\u001b[39;49m\u001b[43m,\u001b[49m\u001b[43m \u001b[49m\u001b[38;5;124;43m\"\u001b[39;49m\u001b[38;5;124;43m\"\u001b[39;49m\u001b[43m,\u001b[49m\u001b[43m \u001b[49m\u001b[43mtaille_zoom\u001b[49m\u001b[43m,\u001b[49m\u001b[43m \u001b[49m\u001b[43mspectral_lines\u001b[49m\u001b[43m,\u001b[49m\u001b[43m \u001b[49m\u001b[43msave\u001b[49m\u001b[43m)\u001b[49m\n\u001b[1;32m    141\u001b[0m \u001b[38;5;28;01melse\u001b[39;00m:\n\u001b[1;32m    142\u001b[0m     plot_lines(ax,l, path, synthetics, stardata, n, k, i, \u001b[38;5;124m\"\u001b[39m\u001b[38;5;124mk\u001b[39m\u001b[38;5;124m\"\u001b[39m, \u001b[38;5;124m\"\u001b[39m\u001b[38;5;124m2\u001b[39m\u001b[38;5;124m\"\u001b[39m, taille_zoom, spectral_lines, save)\n",
      "File \u001b[0;32m~/Unif/script/zoom_raies.py:55\u001b[0m, in \u001b[0;36mplot_lines\u001b[0;34m(ax, l, path, synthetics, stardata, n, k, i, m, j, taille, spectral_lines, save)\u001b[0m\n\u001b[1;32m     53\u001b[0m ax\u001b[38;5;241m.\u001b[39mscatter(normal[\u001b[38;5;124m'\u001b[39m\u001b[38;5;124mz_wavelen\u001b[39m\u001b[38;5;124m'\u001b[39m], normal[\u001b[38;5;124m'\u001b[39m\u001b[38;5;124mflux_normalised\u001b[39m\u001b[38;5;124m'\u001b[39m], marker\u001b[38;5;241m=\u001b[39m\u001b[38;5;124m'\u001b[39m\u001b[38;5;124mo\u001b[39m\u001b[38;5;124m'\u001b[39m,s\u001b[38;5;241m=\u001b[39m\u001b[38;5;241m5\u001b[39m,facecolors\u001b[38;5;241m=\u001b[39m\u001b[38;5;124m'\u001b[39m\u001b[38;5;124mnone\u001b[39m\u001b[38;5;124m'\u001b[39m, color\u001b[38;5;241m=\u001b[39m\u001b[38;5;124m'\u001b[39m\u001b[38;5;124mblack\u001b[39m\u001b[38;5;124m'\u001b[39m, label\u001b[38;5;241m=\u001b[39m\u001b[38;5;124m\"\u001b[39m\u001b[38;5;124mSpectre observé : \u001b[39m\u001b[38;5;124m\"\u001b[39m \u001b[38;5;241m+\u001b[39m stardata\u001b[38;5;241m.\u001b[39mget(\u001b[38;5;124m\"\u001b[39m\u001b[38;5;124mstarname\u001b[39m\u001b[38;5;124m\"\u001b[39m))\n\u001b[1;32m     54\u001b[0m \u001b[38;5;28;01mfor\u001b[39;00m mol \u001b[38;5;129;01min\u001b[39;00m synthetics:\n\u001b[0;32m---> 55\u001b[0m     AXb \u001b[38;5;241m=\u001b[39m \u001b[43msyntspec\u001b[49m\u001b[43m(\u001b[49m\u001b[43mpath\u001b[49m\u001b[43m \u001b[49m\u001b[38;5;241;43m+\u001b[39;49m\u001b[43m \u001b[49m\u001b[43mmol\u001b[49m\u001b[43m \u001b[49m\u001b[38;5;241;43m+\u001b[39;49m\u001b[43m \u001b[49m\u001b[43mj\u001b[49m\u001b[43m)\u001b[49m\n\u001b[1;32m     56\u001b[0m     ax\u001b[38;5;241m.\u001b[39mplot(AXb[\u001b[38;5;124m'\u001b[39m\u001b[38;5;124mwavelen\u001b[39m\u001b[38;5;124m'\u001b[39m], AXb[\u001b[38;5;124m'\u001b[39m\u001b[38;5;124mflux\u001b[39m\u001b[38;5;124m'\u001b[39m], label\u001b[38;5;241m=\u001b[39m \u001b[38;5;124m\"\u001b[39m\u001b[38;5;124mSynth: \u001b[39m\u001b[38;5;124m\"\u001b[39m \u001b[38;5;241m+\u001b[39m \u001b[38;5;28mstr\u001b[39m(synthetics\u001b[38;5;241m.\u001b[39mget(mol)), linewidth\u001b[38;5;241m=\u001b[39m\u001b[38;5;241m0.8\u001b[39m)\n\u001b[1;32m     57\u001b[0m ax\u001b[38;5;241m.\u001b[39mxaxis\u001b[38;5;241m.\u001b[39mset_major_locator(MultipleLocator(\u001b[38;5;241m5\u001b[39m))\n",
      "File \u001b[0;32m~/Unif/script/wavelen_work.py:7\u001b[0m, in \u001b[0;36msyntspec\u001b[0;34m(pathtofile)\u001b[0m\n\u001b[1;32m      3\u001b[0m \u001b[38;5;28;01mdef\u001b[39;00m\u001b[38;5;250m \u001b[39m\u001b[38;5;21msyntspec\u001b[39m(pathtofile):\n\u001b[1;32m      4\u001b[0m \u001b[38;5;250m    \u001b[39m\u001b[38;5;124;03m\"\"\"\u001b[39;00m\n\u001b[1;32m      5\u001b[0m \u001b[38;5;124;03m    Lecture des fichiers synthétiques\u001b[39;00m\n\u001b[1;32m      6\u001b[0m \u001b[38;5;124;03m    \"\"\"\u001b[39;00m\n\u001b[0;32m----> 7\u001b[0m     file \u001b[38;5;241m=\u001b[39m \u001b[38;5;28;43mopen\u001b[39;49m\u001b[43m(\u001b[49m\u001b[43mpathtofile\u001b[49m\u001b[43m)\u001b[49m\n\u001b[1;32m      8\u001b[0m     wavelen \u001b[38;5;241m=\u001b[39m []\n\u001b[1;32m      9\u001b[0m     flux \u001b[38;5;241m=\u001b[39m []\n",
      "\u001b[0;31mFileNotFoundError\u001b[0m: [Errno 2] No such file or directory: '/Users/margauxvandererven/Library/CloudStorage/OneDrive-UniversitéLibredeBruxelles/memoire/BD-221742/synth_margaux/4000g1.0z-0.50m1.0t02a+0.20c+0.346n+0.00o+0.20r+0.00s+0.00.mod_14598.49-14628.49_Oabu_8.56.conv'"
     ]
    }
   ],
   "source": [
    "path_to_synth = \"/Users/margauxvandererven/Library/CloudStorage/OneDrive-UniversitéLibredeBruxelles/memoire/BD-221742/synth_margaux/\"\n",
    "ABU_O = [8.54, 8.56, 8.58, 8.6, 8.62, 8.65]\n",
    "\n",
    "for raie in raies_OH_final:\n",
    "        range=str(raie-15)+\"-\"+str(raie+15)\n",
    "        synth={}\n",
    "        for abu in ABU_O:\n",
    "                synth[\"4000g1.0z-0.50m1.0t02a+0.20c+0.346n+0.00o+0.20r+0.00s+0.00.mod_\"+range+\"_Oabu_\"+str(abu)+\".conv\"]=\"log$\\epsilon_O$=\"+str(abu)\n",
    "                zoom_lines({\"OH\":[i]}, path_to_synth,synth, stardata, 5,lines_BD221742, \n",
    "                                                                           )"
   ]
  },
  {
   "cell_type": "code",
   "execution_count": 8,
   "metadata": {},
   "outputs": [
    {
     "name": "stderr",
     "output_type": "stream",
     "text": [
      "<>:5: SyntaxWarning: invalid escape sequence '\\e'\n",
      "<>:6: SyntaxWarning: invalid escape sequence '\\e'\n",
      "<>:7: SyntaxWarning: invalid escape sequence '\\e'\n",
      "<>:8: SyntaxWarning: invalid escape sequence '\\e'\n",
      "<>:9: SyntaxWarning: invalid escape sequence '\\e'\n",
      "<>:5: SyntaxWarning: invalid escape sequence '\\e'\n",
      "<>:6: SyntaxWarning: invalid escape sequence '\\e'\n",
      "<>:7: SyntaxWarning: invalid escape sequence '\\e'\n",
      "<>:8: SyntaxWarning: invalid escape sequence '\\e'\n",
      "<>:9: SyntaxWarning: invalid escape sequence '\\e'\n",
      "/var/folders/cr/jh08cm417bq6mz5b3j4kvmxm0000gn/T/ipykernel_81634/3946852156.py:5: SyntaxWarning: invalid escape sequence '\\e'\n",
      "  nom+\"Oabu_8.56\"+\".conv\":\"log $\\epsilon_O$ = 8.56\",\n",
      "/var/folders/cr/jh08cm417bq6mz5b3j4kvmxm0000gn/T/ipykernel_81634/3946852156.py:6: SyntaxWarning: invalid escape sequence '\\e'\n",
      "  nom+\"Oabu_8.58\"+\".conv\":\"log $\\epsilon_O$ = 8.58\",\n",
      "/var/folders/cr/jh08cm417bq6mz5b3j4kvmxm0000gn/T/ipykernel_81634/3946852156.py:7: SyntaxWarning: invalid escape sequence '\\e'\n",
      "  nom+\"Oabu_8.6\"+\".conv\":\"log $\\epsilon_O$ = 8.6\",\n",
      "/var/folders/cr/jh08cm417bq6mz5b3j4kvmxm0000gn/T/ipykernel_81634/3946852156.py:8: SyntaxWarning: invalid escape sequence '\\e'\n",
      "  nom+\"Oabu_8.62\"+\".conv\":\"log $\\epsilon_O$ = 8.62\",\n",
      "/var/folders/cr/jh08cm417bq6mz5b3j4kvmxm0000gn/T/ipykernel_81634/3946852156.py:9: SyntaxWarning: invalid escape sequence '\\e'\n",
      "  nom+\"Oabu_8.65\"+\".conv\":\"log $\\epsilon_O$ = 8.65\",\n",
      "/var/folders/cr/jh08cm417bq6mz5b3j4kvmxm0000gn/T/ipykernel_81634/3946852156.py:5: SyntaxWarning: invalid escape sequence '\\e'\n",
      "  nom+\"Oabu_8.56\"+\".conv\":\"log $\\epsilon_O$ = 8.56\",\n",
      "/var/folders/cr/jh08cm417bq6mz5b3j4kvmxm0000gn/T/ipykernel_81634/3946852156.py:6: SyntaxWarning: invalid escape sequence '\\e'\n",
      "  nom+\"Oabu_8.58\"+\".conv\":\"log $\\epsilon_O$ = 8.58\",\n",
      "/var/folders/cr/jh08cm417bq6mz5b3j4kvmxm0000gn/T/ipykernel_81634/3946852156.py:7: SyntaxWarning: invalid escape sequence '\\e'\n",
      "  nom+\"Oabu_8.6\"+\".conv\":\"log $\\epsilon_O$ = 8.6\",\n",
      "/var/folders/cr/jh08cm417bq6mz5b3j4kvmxm0000gn/T/ipykernel_81634/3946852156.py:8: SyntaxWarning: invalid escape sequence '\\e'\n",
      "  nom+\"Oabu_8.62\"+\".conv\":\"log $\\epsilon_O$ = 8.62\",\n",
      "/var/folders/cr/jh08cm417bq6mz5b3j4kvmxm0000gn/T/ipykernel_81634/3946852156.py:9: SyntaxWarning: invalid escape sequence '\\e'\n",
      "  nom+\"Oabu_8.65\"+\".conv\":\"log $\\epsilon_O$ = 8.65\",\n",
      "/Users/margauxvandererven/Unif/script/minimisation_chi_2.py:354: SyntaxWarning: invalid escape sequence '\\c'\n",
      "  plt.colorbar(label='$\\chi^2$')\n",
      "/Users/margauxvandererven/Unif/script/minimisation_chi_2.py:356: SyntaxWarning: invalid escape sequence '\\c'\n",
      "  plt.plot(best_abundance, best_macroturbulence, 'rx', markersize=10, label='Min $\\chi^2$ interpolé')\n",
      "/Users/margauxvandererven/Unif/script/minimisation_chi_2.py:499: SyntaxWarning: invalid escape sequence '\\m'\n",
      "  ax.hlines(y=y_mean, xmin=14500, xmax=23500, color=\"indianred\", linestyle=\"--\", linewidth=1, label=f\"$\\mu$ = {y_mean:.2f}\")\n",
      "/Users/margauxvandererven/Unif/script/minimisation_chi_2.py:508: SyntaxWarning: invalid escape sequence '\\s'\n",
      "  label=f\"$\\sigma$ = ±{y_std:.2f}\"\n"
     ]
    },
    {
     "ename": "ValueError",
     "evalue": "operands could not be broadcast together with shapes (6,) (5,) ",
     "output_type": "error",
     "traceback": [
      "\u001b[0;31m---------------------------------------------------------------------------\u001b[0m",
      "\u001b[0;31mValueError\u001b[0m                                Traceback (most recent call last)",
      "Cell \u001b[0;32mIn[8], line 15\u001b[0m\n\u001b[1;32m     12\u001b[0m chi_final_OH\u001b[38;5;241m=\u001b[39m{}\n\u001b[1;32m     14\u001b[0m \u001b[38;5;28;01mfor\u001b[39;00m wavelength \u001b[38;5;129;01min\u001b[39;00m raies_OH_final:\n\u001b[0;32m---> 15\u001b[0m     \u001b[43mchi_plot_ABU\u001b[49m\u001b[43m(\u001b[49m\n\u001b[1;32m     16\u001b[0m \u001b[43m            \u001b[49m\u001b[43mABU\u001b[49m\u001b[43m,\u001b[49m\u001b[43m \u001b[49m\n\u001b[1;32m     17\u001b[0m \u001b[43m            \u001b[49m\u001b[43mchi_2\u001b[49m\u001b[43m(\u001b[49m\u001b[43mpath\u001b[49m\u001b[43m,\u001b[49m\u001b[43m \u001b[49m\u001b[43msynth\u001b[49m\u001b[43m,\u001b[49m\u001b[43m \u001b[49m\u001b[43mstardata\u001b[49m\u001b[43m,\u001b[49m\u001b[43m \u001b[49m\u001b[43mwavelength\u001b[49m\u001b[43m,\u001b[49m\u001b[43m \u001b[49m\u001b[43mlines_BD22\u001b[49m\u001b[43m,\u001b[49m\u001b[43mchi_final_OH\u001b[49m\u001b[43m,\u001b[49m\n\u001b[1;32m     18\u001b[0m \u001b[43m                \u001b[49m\u001b[43mname\u001b[49m\u001b[38;5;241;43m=\u001b[39;49m\u001b[43melement\u001b[49m\u001b[43m,\u001b[49m\u001b[43mstart\u001b[49m\u001b[38;5;241;43m=\u001b[39;49m\u001b[43mraies_OH_final\u001b[49m\u001b[38;5;241;43m.\u001b[39;49m\u001b[43mget\u001b[49m\u001b[43m(\u001b[49m\u001b[43mwavelength\u001b[49m\u001b[43m)\u001b[49m\u001b[43m[\u001b[49m\u001b[38;5;241;43m0\u001b[39;49m\u001b[43m]\u001b[49m\u001b[43m,\u001b[49m\u001b[43mend\u001b[49m\u001b[38;5;241;43m=\u001b[39;49m\u001b[43mraies_OH_final\u001b[49m\u001b[38;5;241;43m.\u001b[39;49m\u001b[43mget\u001b[49m\u001b[43m(\u001b[49m\u001b[43mwavelength\u001b[49m\u001b[43m)\u001b[49m\u001b[43m[\u001b[49m\u001b[38;5;241;43m1\u001b[39;49m\u001b[43m]\u001b[49m\u001b[43m)\u001b[49m\u001b[43m[\u001b[49m\u001b[38;5;124;43m\"\u001b[39;49m\u001b[38;5;124;43mchi_squared_values\u001b[39;49m\u001b[38;5;124;43m\"\u001b[39;49m\u001b[43m]\u001b[49m\u001b[43m,\u001b[49m\u001b[43m \u001b[49m\u001b[38;5;124;43m\"\u001b[39;49m\u001b[38;5;124;43mO\u001b[39;49m\u001b[38;5;124;43m\"\u001b[39;49m\u001b[43m,\u001b[49m\u001b[43mwavelength\u001b[49m\u001b[43m,\u001b[49m\u001b[43m \u001b[49m\u001b[43melement\u001b[49m\u001b[43m,\u001b[49m\u001b[43m \u001b[49m\u001b[43mraie_element\u001b[49m\u001b[43m)\u001b[49m\n\u001b[1;32m     19\u001b[0m     chi_2(path, synth_plot, stardata, wavelength, lines_BD22,chi_final_OH,\n\u001b[1;32m     20\u001b[0m             name\u001b[38;5;241m=\u001b[39melement,start\u001b[38;5;241m=\u001b[39mraies_OH_final\u001b[38;5;241m.\u001b[39mget(wavelength)[\u001b[38;5;241m0\u001b[39m],end\u001b[38;5;241m=\u001b[39mraies_OH_final\u001b[38;5;241m.\u001b[39mget(wavelength)[\u001b[38;5;241m1\u001b[39m],\n\u001b[1;32m     21\u001b[0m             plot\u001b[38;5;241m=\u001b[39m\u001b[38;5;28;01mTrue\u001b[39;00m\n\u001b[1;32m     22\u001b[0m             )\n\u001b[1;32m     24\u001b[0m abu_plot(raie_element,\u001b[38;5;124m\"\u001b[39m\u001b[38;5;124mO\u001b[39m\u001b[38;5;124m\"\u001b[39m\n\u001b[1;32m     25\u001b[0m         \u001b[38;5;66;03m#  ,save=repertory_memoire+\"output/OH/first/\"+\"abu_O.png\"\u001b[39;00m\n\u001b[1;32m     26\u001b[0m          )\n",
      "File \u001b[0;32m~/Unif/script/minimisation_chi_2.py:291\u001b[0m, in \u001b[0;36mchi_plot_ABU\u001b[0;34m(abu, chi_squared, element, k, raie, raie_OH)\u001b[0m\n\u001b[1;32m    289\u001b[0m abu \u001b[38;5;241m=\u001b[39m np\u001b[38;5;241m.\u001b[39marray(abu)\n\u001b[1;32m    290\u001b[0m \u001b[38;5;66;03m# Perform quadratic fitting\u001b[39;00m\n\u001b[0;32m--> 291\u001b[0m params, _ \u001b[38;5;241m=\u001b[39m \u001b[43mcurve_fit\u001b[49m\u001b[43m(\u001b[49m\u001b[43mquadratic\u001b[49m\u001b[43m,\u001b[49m\u001b[43m \u001b[49m\u001b[43mabu\u001b[49m\u001b[43m,\u001b[49m\u001b[43m \u001b[49m\u001b[43mchi_squared\u001b[49m\u001b[43m)\u001b[49m\n\u001b[1;32m    292\u001b[0m a, b, c \u001b[38;5;241m=\u001b[39m params  \u001b[38;5;66;03m# coefficients of the quadratic fit\u001b[39;00m\n\u001b[1;32m    293\u001b[0m fit_x \u001b[38;5;241m=\u001b[39m np\u001b[38;5;241m.\u001b[39mlinspace(abu\u001b[38;5;241m.\u001b[39mmin(), abu\u001b[38;5;241m.\u001b[39mmax(), \u001b[38;5;241m100\u001b[39m)\n",
      "File \u001b[0;32m~/Unif/script/mon_env/lib/python3.13/site-packages/scipy/optimize/_minpack_py.py:1007\u001b[0m, in \u001b[0;36mcurve_fit\u001b[0;34m(f, xdata, ydata, p0, sigma, absolute_sigma, check_finite, bounds, method, jac, full_output, nan_policy, **kwargs)\u001b[0m\n\u001b[1;32m   1004\u001b[0m \u001b[38;5;28;01mif\u001b[39;00m ydata\u001b[38;5;241m.\u001b[39msize \u001b[38;5;241m!=\u001b[39m \u001b[38;5;241m1\u001b[39m \u001b[38;5;129;01mand\u001b[39;00m n \u001b[38;5;241m>\u001b[39m ydata\u001b[38;5;241m.\u001b[39msize:\n\u001b[1;32m   1005\u001b[0m     \u001b[38;5;28;01mraise\u001b[39;00m \u001b[38;5;167;01mTypeError\u001b[39;00m(\u001b[38;5;124mf\u001b[39m\u001b[38;5;124m\"\u001b[39m\u001b[38;5;124mThe number of func parameters=\u001b[39m\u001b[38;5;132;01m{\u001b[39;00mn\u001b[38;5;132;01m}\u001b[39;00m\u001b[38;5;124m must not\u001b[39m\u001b[38;5;124m\"\u001b[39m\n\u001b[1;32m   1006\u001b[0m                     \u001b[38;5;124mf\u001b[39m\u001b[38;5;124m\"\u001b[39m\u001b[38;5;124m exceed the number of data points=\u001b[39m\u001b[38;5;132;01m{\u001b[39;00mydata\u001b[38;5;241m.\u001b[39msize\u001b[38;5;132;01m}\u001b[39;00m\u001b[38;5;124m\"\u001b[39m)\n\u001b[0;32m-> 1007\u001b[0m res \u001b[38;5;241m=\u001b[39m \u001b[43mleastsq\u001b[49m\u001b[43m(\u001b[49m\u001b[43mfunc\u001b[49m\u001b[43m,\u001b[49m\u001b[43m \u001b[49m\u001b[43mp0\u001b[49m\u001b[43m,\u001b[49m\u001b[43m \u001b[49m\u001b[43mDfun\u001b[49m\u001b[38;5;241;43m=\u001b[39;49m\u001b[43mjac\u001b[49m\u001b[43m,\u001b[49m\u001b[43m \u001b[49m\u001b[43mfull_output\u001b[49m\u001b[38;5;241;43m=\u001b[39;49m\u001b[38;5;241;43m1\u001b[39;49m\u001b[43m,\u001b[49m\u001b[43m \u001b[49m\u001b[38;5;241;43m*\u001b[39;49m\u001b[38;5;241;43m*\u001b[39;49m\u001b[43mkwargs\u001b[49m\u001b[43m)\u001b[49m\n\u001b[1;32m   1008\u001b[0m popt, pcov, infodict, errmsg, ier \u001b[38;5;241m=\u001b[39m res\n\u001b[1;32m   1009\u001b[0m ysize \u001b[38;5;241m=\u001b[39m \u001b[38;5;28mlen\u001b[39m(infodict[\u001b[38;5;124m'\u001b[39m\u001b[38;5;124mfvec\u001b[39m\u001b[38;5;124m'\u001b[39m])\n",
      "File \u001b[0;32m~/Unif/script/mon_env/lib/python3.13/site-packages/scipy/optimize/_minpack_py.py:426\u001b[0m, in \u001b[0;36mleastsq\u001b[0;34m(func, x0, args, Dfun, full_output, col_deriv, ftol, xtol, gtol, maxfev, epsfcn, factor, diag)\u001b[0m\n\u001b[1;32m    424\u001b[0m \u001b[38;5;28;01mif\u001b[39;00m \u001b[38;5;129;01mnot\u001b[39;00m \u001b[38;5;28misinstance\u001b[39m(args, \u001b[38;5;28mtuple\u001b[39m):\n\u001b[1;32m    425\u001b[0m     args \u001b[38;5;241m=\u001b[39m (args,)\n\u001b[0;32m--> 426\u001b[0m shape, dtype \u001b[38;5;241m=\u001b[39m \u001b[43m_check_func\u001b[49m\u001b[43m(\u001b[49m\u001b[38;5;124;43m'\u001b[39;49m\u001b[38;5;124;43mleastsq\u001b[39;49m\u001b[38;5;124;43m'\u001b[39;49m\u001b[43m,\u001b[49m\u001b[43m \u001b[49m\u001b[38;5;124;43m'\u001b[39;49m\u001b[38;5;124;43mfunc\u001b[39;49m\u001b[38;5;124;43m'\u001b[39;49m\u001b[43m,\u001b[49m\u001b[43m \u001b[49m\u001b[43mfunc\u001b[49m\u001b[43m,\u001b[49m\u001b[43m \u001b[49m\u001b[43mx0\u001b[49m\u001b[43m,\u001b[49m\u001b[43m \u001b[49m\u001b[43margs\u001b[49m\u001b[43m,\u001b[49m\u001b[43m \u001b[49m\u001b[43mn\u001b[49m\u001b[43m)\u001b[49m\n\u001b[1;32m    427\u001b[0m m \u001b[38;5;241m=\u001b[39m shape[\u001b[38;5;241m0\u001b[39m]\n\u001b[1;32m    429\u001b[0m \u001b[38;5;28;01mif\u001b[39;00m n \u001b[38;5;241m>\u001b[39m m:\n",
      "File \u001b[0;32m~/Unif/script/mon_env/lib/python3.13/site-packages/scipy/optimize/_minpack_py.py:23\u001b[0m, in \u001b[0;36m_check_func\u001b[0;34m(checker, argname, thefunc, x0, args, numinputs, output_shape)\u001b[0m\n\u001b[1;32m     21\u001b[0m \u001b[38;5;28;01mdef\u001b[39;00m\u001b[38;5;250m \u001b[39m\u001b[38;5;21m_check_func\u001b[39m(checker, argname, thefunc, x0, args, numinputs,\n\u001b[1;32m     22\u001b[0m                 output_shape\u001b[38;5;241m=\u001b[39m\u001b[38;5;28;01mNone\u001b[39;00m):\n\u001b[0;32m---> 23\u001b[0m     res \u001b[38;5;241m=\u001b[39m atleast_1d(\u001b[43mthefunc\u001b[49m\u001b[43m(\u001b[49m\u001b[38;5;241;43m*\u001b[39;49m\u001b[43m(\u001b[49m\u001b[43m(\u001b[49m\u001b[43mx0\u001b[49m\u001b[43m[\u001b[49m\u001b[43m:\u001b[49m\u001b[43mnuminputs\u001b[49m\u001b[43m]\u001b[49m\u001b[43m,\u001b[49m\u001b[43m)\u001b[49m\u001b[43m \u001b[49m\u001b[38;5;241;43m+\u001b[39;49m\u001b[43m \u001b[49m\u001b[43margs\u001b[49m\u001b[43m)\u001b[49m\u001b[43m)\u001b[49m)\n\u001b[1;32m     24\u001b[0m     \u001b[38;5;28;01mif\u001b[39;00m (output_shape \u001b[38;5;129;01mis\u001b[39;00m \u001b[38;5;129;01mnot\u001b[39;00m \u001b[38;5;28;01mNone\u001b[39;00m) \u001b[38;5;129;01mand\u001b[39;00m (shape(res) \u001b[38;5;241m!=\u001b[39m output_shape):\n\u001b[1;32m     25\u001b[0m         \u001b[38;5;28;01mif\u001b[39;00m (output_shape[\u001b[38;5;241m0\u001b[39m] \u001b[38;5;241m!=\u001b[39m \u001b[38;5;241m1\u001b[39m):\n",
      "File \u001b[0;32m~/Unif/script/mon_env/lib/python3.13/site-packages/scipy/optimize/_minpack_py.py:524\u001b[0m, in \u001b[0;36m_lightweight_memoizer.<locals>._memoized_func\u001b[0;34m(params)\u001b[0m\n\u001b[1;32m    521\u001b[0m \u001b[38;5;28;01melif\u001b[39;00m _memoized_func\u001b[38;5;241m.\u001b[39mlast_params \u001b[38;5;129;01mis\u001b[39;00m \u001b[38;5;129;01mnot\u001b[39;00m \u001b[38;5;28;01mNone\u001b[39;00m:\n\u001b[1;32m    522\u001b[0m     _memoized_func\u001b[38;5;241m.\u001b[39mskip_lookup \u001b[38;5;241m=\u001b[39m \u001b[38;5;28;01mTrue\u001b[39;00m\n\u001b[0;32m--> 524\u001b[0m val \u001b[38;5;241m=\u001b[39m \u001b[43mf\u001b[49m\u001b[43m(\u001b[49m\u001b[43mparams\u001b[49m\u001b[43m)\u001b[49m\n\u001b[1;32m    526\u001b[0m \u001b[38;5;28;01mif\u001b[39;00m _memoized_func\u001b[38;5;241m.\u001b[39mlast_params \u001b[38;5;129;01mis\u001b[39;00m \u001b[38;5;28;01mNone\u001b[39;00m:\n\u001b[1;32m    527\u001b[0m     _memoized_func\u001b[38;5;241m.\u001b[39mlast_params \u001b[38;5;241m=\u001b[39m np\u001b[38;5;241m.\u001b[39mcopy(params)\n",
      "File \u001b[0;32m~/Unif/script/mon_env/lib/python3.13/site-packages/scipy/optimize/_minpack_py.py:541\u001b[0m, in \u001b[0;36m_wrap_func.<locals>.func_wrapped\u001b[0;34m(params)\u001b[0m\n\u001b[1;32m    540\u001b[0m \u001b[38;5;28;01mdef\u001b[39;00m\u001b[38;5;250m \u001b[39m\u001b[38;5;21mfunc_wrapped\u001b[39m(params):\n\u001b[0;32m--> 541\u001b[0m     \u001b[38;5;28;01mreturn\u001b[39;00m \u001b[43mfunc\u001b[49m\u001b[43m(\u001b[49m\u001b[43mxdata\u001b[49m\u001b[43m,\u001b[49m\u001b[43m \u001b[49m\u001b[38;5;241;43m*\u001b[39;49m\u001b[43mparams\u001b[49m\u001b[43m)\u001b[49m\u001b[43m \u001b[49m\u001b[38;5;241;43m-\u001b[39;49m\u001b[43m \u001b[49m\u001b[43mydata\u001b[49m\n",
      "\u001b[0;31mValueError\u001b[0m: operands could not be broadcast together with shapes (6,) (5,) "
     ]
    }
   ],
   "source": [
    "nom=\"OH/4000g1.0z-0.50m1.0t02a+0.20c+0.346n+0.00o+0.20r+0.00s+0.00.mod_14500-18500_BD-221742_2_\"\n",
    "ABU = [8.54, 8.56, 8.58, 8.6, 8.62, 8.65]\n",
    "\n",
    "synth = {   # \"toutsans_OH\":\"sans\",\n",
    "            nom+\"Oabu_8.56\"+\".conv\":\"log $\\epsilon_O$ = 8.56\",\n",
    "            nom+\"Oabu_8.58\"+\".conv\":\"log $\\epsilon_O$ = 8.58\",\n",
    "            nom+\"Oabu_8.6\"+\".conv\":\"log $\\epsilon_O$ = 8.6\",\n",
    "            nom+\"Oabu_8.62\"+\".conv\":\"log $\\epsilon_O$ = 8.62\",\n",
    "            nom+\"Oabu_8.65\"+\".conv\":\"log $\\epsilon_O$ = 8.65\",\n",
    "                }\n",
    "\n",
    "chi_final_OH={}\n",
    "\n",
    "for wavelength in raies_OH_final:\n",
    "    chi_plot_ABU(\n",
    "            ABU, \n",
    "            chi_2(path, synth, stardata, wavelength, lines_BD22,chi_final_OH,\n",
    "                name=element,start=raies_OH_final.get(wavelength)[0],end=raies_OH_final.get(wavelength)[1])[\"chi_squared_values\"], \"O\",wavelength, element, raie_element)\n",
    "    chi_2(path, synth_plot, stardata, wavelength, lines_BD22,chi_final_OH,\n",
    "            name=element,start=raies_OH_final.get(wavelength)[0],end=raies_OH_final.get(wavelength)[1],\n",
    "            plot=True\n",
    "            )\n",
    "\n",
    "abu_plot(raie_element,\"O\"\n",
    "        #  ,save=repertory_memoire+\"output/OH/first/\"+\"abu_O.png\"\n",
    "         )"
   ]
  },
  {
   "cell_type": "code",
   "execution_count": null,
   "metadata": {},
   "outputs": [],
   "source": [
    "raies_OH = [14622.16, 14613.49, 14661.08, 14786.86,14796.41, 14882.42, 15130.89, 15278.53, 15281.06,15391.13, 15409.18, 15422.38 ,15428.45, 15429.64, 15505.69, \n",
    "            15568.78, 15651.91, 15719.68, 15755.53, 15756.52, 16052.77, 16247.89, 16255.03, 16312.72, 16347.49, 16368.13, 16448.05, 16526.26, 16662.19, 16729.78,\n",
    "              16904.29, 17069.47, 17073.7, 17096.38, 17104.72, 17239.75, 17322.25, 17413.93, 17423.86, 17531.98, 17607.25, 17610.64, 17618.89, 17772.7, 17773.66, \n",
    "              17818.48,17825.2]\n",
    "\n",
    "# raies_OH_final={}\n",
    "# for k in raies_OH:\n",
    "#     raies_OH_final[k]=[None, None]\n",
    "# pprint(raies_OH_final)\n",
    "\n",
    "raies_OH_final={\n",
    " 14613.49: [14612.948214974767, 14614.032553273355],\n",
    "#  14622.16: [None, None],\n",
    " 14661.08: [14660.58164737699, 14661.55],\n",
    "#  14796.41: [None, None],\n",
    "#  14882.42: [None, None],\n",
    " 15002.17: [15001.76, 15002.61], \n",
    " 15003.15 : [15002.69, 15003.62],\n",
    " 15130.89: [15130.40994160769, 15131.46],\n",
    "#  15266.20 : [15265.58, 15266.7],\n",
    "#  15278.53: [15278.112308422385, 15279.17],\n",
    "# #  15281.06: [None, None],\n",
    "#  15391.13: [15390.56, 15391.8],\n",
    "#  15409.18: [15408.58, 15409.8],\n",
    "# #  15422.38: [None, None],\n",
    "#  15428.45: [15428., 15429.],\n",
    "#  15429.64:  [15429.0, 15430.15],\n",
    "#  15505.69: [15505.126276505172, 15506.56],\n",
    "#  15568.78: [15568.250256030067, 15569.334594328655],\n",
    "#  15651.91: [15651.35, 15652.4],\n",
    "#  15719.68: [15719.15, 15720.25],\n",
    "#  15755.53: [15754.9, 15756],\n",
    "#  15756.52: [15756.150592628102, 15756.925119984237],\n",
    "#  16052.77: [16052.24, 16053.104],\n",
    "#  16247.89: [16247.51074735932, 16248.285274715452],\n",
    "# #  16255.03: [None, None], #sait pas\n",
    "#  16312.72: [16311.9, 16313.45],\n",
    "#  16347.49: [16347.26987082934, 16347.97],\n",
    "#  16368.13: [16367.5, 16368.76],\n",
    "# #  16448.05: [16447.5, 16448.6],\n",
    "# #  16526.26: [None, None],\n",
    "#  16662.19: [16661.805430155233, 16662.8],\n",
    "#  16729.78: [16729.499121081317, 16730.118742966224],\n",
    "#  16904.29: [16903.66, 16904.73],\n",
    "# #  17069.47: [None, None],\n",
    "# #  17073.7: [17073.35, 17073.17], #mauvais zone chi2\n",
    "# #  17096.38: [17095.77, 17096.77], #min empty\n",
    "# #  17104.72: [17104.27, 17105.28],#min empty\n",
    "#  17239.75: [17239.293026888517, 17240.22245971588],\n",
    "#  17322.25: [17321.9, 17322.8],\n",
    "# # #  17413.93: [None, None],\n",
    "#  17423.86: [17423.35, 17424.43],\n",
    "# #  17531.98: [None, None],\n",
    "# #  17607.25: [None, None],\n",
    "# #  17610.64: [None, None],\n",
    "# #  17618.89: [17618.34, 17619.49],\n",
    "#  17772.7: [17772.05, 17773.15],\n",
    "# #  17773.66: [None, None],\n",
    "# #  17818.48: [17818.097320127228, 17819.], #min empty\n",
    "#  17825.2: [17824.57, 17825.65]\n",
    " }"
   ]
  },
  {
   "cell_type": "markdown",
   "metadata": {},
   "source": [
    "### Première analyse "
   ]
  },
  {
   "cell_type": "code",
   "execution_count": 2,
   "metadata": {},
   "outputs": [],
   "source": [
    "element=\"OH\"\n",
    "final_abu_chi_OH={}\n",
    "\n",
    "raie_propre = {\n",
    "        15002.17: [15001.75,15002.7], \n",
    "        15391.12 : [15390.56, 15391.7], \n",
    "        15651.897 : [15651.35,15652.45], \n",
    "        # 16247.884 : [16247.65,16248.4],#no\n",
    "        # 15236.75 : [15236.3,15237.3],#no\n",
    "        # 16581.269 : [16580.74,16581.64] ,#no\n",
    "        15003.15: [15002.67, 15003.7],\n",
    "        15266.2: [15265.7,15266.65],\n",
    "        17772.7: [17772.1, 17773.25],\n",
    "        17423.85: [17423.39, 17424.35], \n",
    "        16662.21: [16661.9,16662.76], \n",
    "        16448.1: [16447.5, 16448.59],\n",
    "        16368.15: [16367.6, 16368.7]}"
   ]
  },
  {
   "cell_type": "code",
   "execution_count": null,
   "metadata": {},
   "outputs": [
    {
     "name": "stderr",
     "output_type": "stream",
     "text": [
      "<>:8: SyntaxWarning: invalid escape sequence '\\e'\n",
      "<>:8: SyntaxWarning: invalid escape sequence '\\e'\n",
      "/var/folders/cr/jh08cm417bq6mz5b3j4kvmxm0000gn/T/ipykernel_83148/1227012827.py:8: SyntaxWarning: invalid escape sequence '\\e'\n",
      "  synth[nom+\"Oabu_\"+str(abu)+\".conv\"]= \"log$\\epsilon$=\"+str(abu)\n",
      "/Users/margauxvandererven/Unif/script/mon_env/lib/python3.13/site-packages/numpy/_core/fromnumeric.py:3904: RuntimeWarning: Mean of empty slice.\n",
      "  return _methods._mean(a, axis=axis, dtype=dtype,\n",
      "/Users/margauxvandererven/Unif/script/mon_env/lib/python3.13/site-packages/numpy/_core/_methods.py:147: RuntimeWarning: invalid value encountered in scalar divide\n",
      "  ret = ret.dtype.type(ret / rcount)\n",
      "/Users/margauxvandererven/Unif/script/mon_env/lib/python3.13/site-packages/numpy/_core/_methods.py:227: RuntimeWarning: Degrees of freedom <= 0 for slice\n",
      "  ret = _var(a, axis=axis, dtype=dtype, out=out, ddof=ddof,\n",
      "/Users/margauxvandererven/Unif/script/mon_env/lib/python3.13/site-packages/numpy/_core/_methods.py:184: RuntimeWarning: invalid value encountered in divide\n",
      "  arrmean = um.true_divide(arrmean, div, out=arrmean,\n",
      "/Users/margauxvandererven/Unif/script/mon_env/lib/python3.13/site-packages/numpy/_core/_methods.py:219: RuntimeWarning: invalid value encountered in scalar divide\n",
      "  ret = ret.dtype.type(ret / rcount)\n"
     ]
    },
    {
     "data": {
      "text/plain": [
       "(np.float64(nan), np.float64(nan))"
      ]
     },
     "execution_count": 3,
     "metadata": {},
     "output_type": "execute_result"
    },
    {
     "name": "stderr",
     "output_type": "stream",
     "text": [
      "2025-02-21 15:29:50.763 Python[83148:2520884] +[IMKClient subclass]: chose IMKClient_Modern\n",
      "2025-02-21 15:29:50.763 Python[83148:2520884] +[IMKInputSession subclass]: chose IMKInputSession_Modern\n"
     ]
    }
   ],
   "source": [
    "nom=\"OH/4000g1.0z-0.50m1.0t02a+0.20c+0.346n+0.00o+0.20r+0.00s+0.00.mod_14500-18500_BD-221742_2_\"\n",
    "ABU = [8.56,8.58, 8.6,8.62,8.65]\n",
    "\n",
    "chi_final_OH={}\n",
    "for wavelength in raie_propre:\n",
    "    synth={}\n",
    "    for abu in ABU:\n",
    "        synth[nom+\"Oabu_\"+str(abu)+\".conv\"]= \"log$\\epsilon$=\"+str(abu)\n",
    "    # pprint(synth)\n",
    "    chi_squared = chi_2(path, synth, stardata, wavelength, lines_BD22,final_abu_chi_OH,\n",
    "    name=element,start=raie_propre.get(wavelength)[0],end=raie_propre.get(wavelength)[1])[\"chi_squared_values\"]\n",
    "\n",
    "    chi_minimisation_ABU(ABU, chi_squared, \"O\",wavelength, element, final_abu_chi_OH)\n",
    "\n",
    "    # synth_plot=synth.copy()\n",
    "    # synth_plot[\"toutsans_OH\"]=\"sans OH\"\n",
    "    # chi_2(path, synth_plot, stardata, wavelength, lines_BD22,chi_final_OH,\n",
    "    #             name=element,start=raie_propre.get(wavelength)[0],end=raie_propre.get(wavelength)[1],\n",
    "    #             plot=True, size_police=24, axes=(True, True)\n",
    "    #             # save=repertory_memoire+\"output/OH/first/\"+\"raie_OH_\"+str(wavelength)+\".png\"\n",
    "    #               )\n",
    "\n",
    "# abu_plot(final_abu_chi_OH,\"O\", size_police=24\n",
    "        #  ,save=repertory_memoire+\"output/OH/first/\"+\"abu_O.png\"\n",
    "        #  )\n",
    "\n",
    "pprint(final_abu_chi_OH)"
   ]
  },
  {
   "cell_type": "code",
   "execution_count": null,
   "metadata": {},
   "outputs": [
    {
     "name": "stdout",
     "output_type": "stream",
     "text": [
      "{15002.17: [15001.75,\n",
      "            15002.7,\n",
      "            np.float64(8.619458677611842),\n",
      "            np.float64(0.0014787708290668888)],\n",
      " 15003.15: [15002.67,\n",
      "            15003.7,\n",
      "            np.float64(8.611547178447672),\n",
      "            np.float64(0.002397076616261984)],\n",
      " 15266.2: [15265.7,\n",
      "           15266.65,\n",
      "           np.float64(8.616599854872785),\n",
      "           np.float64(0.0004317199581009845)],\n",
      " 15391.12: [15390.56,\n",
      "            15391.7,\n",
      "            np.float64(8.598277096575027),\n",
      "            np.float64(0.0006977744394589536)],\n",
      " 15651.897: [15651.35,\n",
      "             15652.45,\n",
      "             np.float64(8.59331960275558),\n",
      "             np.float64(0.003283691143451506)],\n",
      " 16368.15: [16367.6,\n",
      "            16368.7,\n",
      "            np.float64(8.591106433905544),\n",
      "            np.float64(0.003981247860565418)],\n",
      " 16448.1: [16447.5,\n",
      "           16448.59,\n",
      "           np.float64(8.59054571705719),\n",
      "           np.float64(0.002195395954572632)],\n",
      " 16662.21: [16661.9,\n",
      "            16662.76,\n",
      "            np.float64(8.604702696313739),\n",
      "            np.float64(0.0008427297901789643)],\n",
      " 17423.85: [17423.39,\n",
      "            17424.35,\n",
      "            np.float64(8.58684749292625),\n",
      "            np.float64(0.002514116442739578)],\n",
      " 17772.7: [17772.1,\n",
      "           17773.25,\n",
      "           np.float64(8.634514200694149),\n",
      "           np.float64(0.002742044751130379)]}\n"
     ]
    },
    {
     "data": {
      "text/plain": [
       "(np.float64(8.6), np.float64(0.01))"
      ]
     },
     "execution_count": 8,
     "metadata": {},
     "output_type": "execute_result"
    }
   ],
   "source": [
    "pprint(final_abu_chi_OH)\n",
    "abu_plot(final_abu_chi_OH,\"O\", size_police=24\n",
    "        #  ,save=repertory_memoire+\"output/OH/first/\"+\"abu_O.png\"\n",
    "         )\n",
    "final_abu_chi_OH={15002.17: [15001.75,\n",
    "            15002.7,\n",
    "            np.float64(8.619458677611842),\n",
    "            np.float64(0.0014787708290668888)],\n",
    " 15003.15: [15002.67,\n",
    "            15003.7,\n",
    "            np.float64(8.611547178447672),\n",
    "            np.float64(0.002397076616261984)],\n",
    " 15266.2: [15265.7,\n",
    "           15266.65,\n",
    "           np.float64(8.616599854872785),\n",
    "           np.float64(0.0004317199581009845)],\n",
    " 15391.12: [15390.56,\n",
    "            15391.7,\n",
    "            np.float64(8.598277096575027),\n",
    "            np.float64(0.0006977744394589536)],\n",
    " 15651.897: [15651.35,\n",
    "             15652.45,\n",
    "             np.float64(8.59331960275558),\n",
    "             np.float64(0.003283691143451506)],\n",
    " 16368.15: [16367.6,\n",
    "            16368.7,\n",
    "            np.float64(8.591106433905544),\n",
    "            np.float64(0.003981247860565418)],\n",
    " 16448.1: [16447.5,\n",
    "           16448.59,\n",
    "           np.float64(8.59054571705719),\n",
    "           np.float64(0.002195395954572632)],\n",
    " 16662.21: [16661.9,\n",
    "            16662.76,\n",
    "            np.float64(8.604702696313739),\n",
    "            np.float64(0.0008427297901789643)],\n",
    " 17423.85: [17423.39,\n",
    "            17424.35,\n",
    "            np.float64(8.58684749292625),\n",
    "            np.float64(0.002514116442739578)],\n",
    " 17772.7: [17772.1,\n",
    "           17773.25,\n",
    "           np.float64(8.634514200694149),\n",
    "           np.float64(0.002742044751130379)]}"
   ]
  },
  {
   "cell_type": "code",
   "execution_count": 18,
   "metadata": {},
   "outputs": [
    {
     "name": "stdout",
     "output_type": "stream",
     "text": [
      "{15002.17: [15001.75, 15002.7],\n",
      " 15003.15: [15002.67, 15003.7],\n",
      " 15266.2: [15265.7, 15266.65],\n",
      " 15391.12: [15390.56, 15391.7],\n",
      " 15651.897: [15651.35, 15652.45],\n",
      " 16368.15: [16367.6, 16368.7],\n",
      " 16448.1: [16447.5, 16448.59],\n",
      " 16662.21: [16661.9, 16662.76],\n",
      " 17423.85: [17423.39, 17424.35],\n",
      " 17772.7: [17772.1, 17773.25]}\n"
     ]
    }
   ],
   "source": [
    "pprint(chi_final_OH)"
   ]
  },
  {
   "cell_type": "code",
   "execution_count": 11,
   "metadata": {},
   "outputs": [
    {
     "name": "stdout",
     "output_type": "stream",
     "text": [
      "\\begin{table}[h!]\n",
      "\\centering\n",
      "\\small\n",
      "\\begin{tabular}{ccc}\n",
      "\\hline\n",
      "\\hline\n",
      "$\\lambda_{\\mathrm{OH}}$ & $\\lambda_{\\mathrm{min}}$ & $\\lambda_{\\mathrm{max}}$ \\\\\n",
      "\\hline\n",
      "15002.17 & 15001.75 & 15002.70 \\\\\n",
      "15003.15 & 15002.67 & 15003.70 \\\\\n",
      "15266.20 & 15265.70 & 15266.65 \\\\\n",
      "15391.12 & 15390.56 & 15391.70 \\\\\n",
      "15651.90 & 15651.35 & 15652.45 \\\\\n",
      "16368.15 & 16367.60 & 16368.70 \\\\\n",
      "16448.10 & 16447.50 & 16448.59 \\\\\n",
      "16662.21 & 16661.90 & 16662.76 \\\\\n",
      "17423.85 & 17423.39 & 17424.35 \\\\\n",
      "17772.70 & 17772.10 & 17773.25 \\\\\n",
      "\\end{tabular}\n",
      "\\end{table}\n"
     ]
    }
   ],
   "source": [
    "latex_table(final_abu_chi_OH, \"OH\")"
   ]
  },
  {
   "cell_type": "code",
   "execution_count": 23,
   "metadata": {},
   "outputs": [
    {
     "data": {
      "text/plain": [
       "(np.float64(8.31), np.float64(0.02))"
      ]
     },
     "execution_count": 23,
     "metadata": {},
     "output_type": "execute_result"
    }
   ],
   "source": [
    "#ratio12/13C=20\n",
    "raie_element_bis={}\n",
    "synth_OH_bis = {\n",
    "    # \"OH/4000g1.0z-0.50m1.0t02a+0.20c+0.346n+0.00o+0.20r+0.00s+0.00.mod_14980-17880_BD-221742_Oabu_8.59_bis.conv\" : \"log C = 7.82 & log O = 8.59\",\n",
    "    \"OH/4000g1.0z-0.50m1.0t02a+0.20c+0.346n+0.00o+0.20r+0.00s+0.00.mod_14980-17880_BD-221742_Oabu_8.5_bis.conv\" : \"log C = 7.82 & log O = 8.5\",\n",
    "    \"OH/4000g1.0z-0.50m1.0t02a+0.20c+0.346n+0.00o+0.20r+0.00s+0.00.mod_14980-17880_BD-221742_Oabu_8.4_bis.conv\" : \"log C = 7.82 & log O = 8.4\",\n",
    "    \"OH/4000g1.0z-0.50m1.0t02a+0.20c+0.346n+0.00o+0.20r+0.00s+0.00.mod_14980-17880_BD-221742_Oabu_8.3_bis.conv\" : \"log C = 7.82 & log O = 8.3\",\n",
    "    \"OH/4000g1.0z-0.50m1.0t02a+0.20c+0.346n+0.00o+0.20r+0.00s+0.00.mod_14980-17880_BD-221742_Oabu_8.2_bis.conv\" : \"log C = 7.82 & log O = 8.2\",\n",
    "}\n",
    "\n",
    "ABU_bis = [8.5,8.4,8.3,8.2]\n",
    "for wavelength in raie_propre:\n",
    "    chi_plot_ABU(\n",
    "            ABU_bis, \n",
    "            chi_2(path, synth_OH_bis, stardata, wavelength, lines_BD22,chi_final_OH,\n",
    "                name=element,start=raie_propre.get(wavelength)[0],end=raie_propre.get(wavelength)[1])[\"chi_squared_values\"], \"O\",wavelength, element, raie_element_bis)\n",
    "    # chi_2(path, synth_OH_bis, stardata, wavelength, lines_BD22,\n",
    "    #             name=element,start=raie_propre.get(wavelength)[0],end=raie_propre.get(wavelength)[1],\n",
    "    #             plot=True, save=repertory_memoire+\"output/OH/bis/\"+\"raie_OH_\"+str(wavelength)+\".png\")\n",
    "\n",
    "abu_plot(raie_element_bis,\"O\", size_police=24,\n",
    "        #  save=repertory_memoire+\"output/OH/bis/\"+\"abu_O.png\"\n",
    "         )"
   ]
  },
  {
   "cell_type": "code",
   "execution_count": null,
   "metadata": {},
   "outputs": [
    {
     "data": {
      "text/plain": [
       "(8.33, 0.02)"
      ]
     },
     "metadata": {},
     "output_type": "display_data"
    }
   ],
   "source": [
    "#ratio12/13C=20\n",
    "raie_element_ter={}\n",
    "synth_OH_ter = {\n",
    "    \"OH/4000g1.0z-0.50m1.0t02a+0.20c+0.346n+0.00o+0.20r+0.00s+0.00.mod_14980-17880_BD-221742_Oabu_8.3_ter.conv\" : \"log C = 7.89 & log O = 8.3\",\n",
    "    \"OH/4000g1.0z-0.50m1.0t02a+0.20c+0.346n+0.00o+0.20r+0.00s+0.00.mod_14980-17880_BD-221742_Oabu_8.35_ter.conv\" : \"log C = 7.89 & log O = 8.35\",\n",
    "    \"OH/4000g1.0z-0.50m1.0t02a+0.20c+0.346n+0.00o+0.20r+0.00s+0.00.mod_14980-17880_BD-221742_Oabu_8.25_ter.conv\" : \"log C = 7.89 & log O = 8.25\",\n",
    "    \"OH/4000g1.0z-0.50m1.0t02a+0.20c+0.346n+0.00o+0.20r+0.00s+0.00.mod_14980-17880_BD-221742_Oabu_8.4_ter.conv\" : \"log C = 7.89 & log O = 8.4\",\n",
    "}\n",
    "ABU_ter = [8.3,8.35, 8.25,8.4]\n",
    "for wavelength in raie_propre:\n",
    "    chi_plot_ABU(\n",
    "            ABU_ter, \n",
    "            chi_2(path, synth_OH_ter, stardata, wavelength, lines_BD22,\n",
    "                name=element,start=raie_propre.get(wavelength)[0],end=raie_propre.get(wavelength)[1])[\"chi_squared_values\"], \"O\",wavelength, element, raie_element_ter)\n",
    "    chi_2(path, synth_OH_ter, stardata, wavelength, lines_BD22,\n",
    "                name=element,start=raie_propre.get(wavelength)[0],end=raie_propre.get(wavelength)[1],\n",
    "                plot=True, save=repertory_memoire+\"output/OH/ter/\"+\"raie_OH_\"+str(wavelength)+\".png\")\n",
    "\n",
    "abu_plot(raie_element_ter,\"O\",save=repertory_memoire+\"output/OH/ter/\"+\"abu_O.png\")"
   ]
  },
  {
   "cell_type": "code",
   "execution_count": null,
   "metadata": {},
   "outputs": [
    {
     "name": "stderr",
     "output_type": "stream",
     "text": [
      "/Users/margauxvandererven/Library/CloudStorage/OneDrive-UniversitéLibredeBruxelles/memoire/script/minimisation_chi_2.py:334: RuntimeWarning: More than 20 figures have been opened. Figures created through the pyplot interface (`matplotlib.pyplot.figure`) are retained until explicitly closed and may consume too much memory. (To control this warning, see the rcParam `figure.max_open_warning`). Consider using `matplotlib.pyplot.close()`.\n",
      "  f = plt.figure(figsize=(10, 5))\n"
     ]
    },
    {
     "data": {
      "text/plain": [
       "(8.31, 0.01)"
      ]
     },
     "metadata": {},
     "output_type": "display_data"
    }
   ],
   "source": [
    "#ratio12/13C=12\n",
    "raie_element_quater={}\n",
    "synth_OH_quater= {\n",
    "    \"OH/4000g1.0z-0.50m1.0t02a+0.20c+0.346n+0.00o+0.20r+0.00s+0.00.mod_14980-17880_BD-221742_Oabu_8.3_ratioC_12_quater.conv\" : \"log C = 7.86 & log N = 7.82 & log O = 8.3\",\n",
    "    \"OH/4000g1.0z-0.50m1.0t02a+0.20c+0.346n+0.00o+0.20r+0.00s+0.00.mod_14980-17880_BD-221742_Oabu_8.35_ratioC_12_quater.conv\" : \"log C = 7.86 & log N = 7.82 & log O = 8.35\",\n",
    "    \"OH/4000g1.0z-0.50m1.0t02a+0.20c+0.346n+0.00o+0.20r+0.00s+0.00.mod_14980-17880_BD-221742_Oabu_8.25_ratioC_12_quater.conv\" : \"log C = 7.86 & log N = 7.82 & log O = 8.25\",\n",
    "    \"OH/4000g1.0z-0.50m1.0t02a+0.20c+0.346n+0.00o+0.20r+0.00s+0.00.mod_14980-17880_BD-221742_Oabu_8.4_ratioC_12_quater.conv\" : \"log C = 7.86 & log N = 7.82 & log O = 8.4\",\n",
    "    \"OH/4000g1.0z-0.50m1.0t02a+0.20c+0.346n+0.00o+0.20r+0.00s+0.00.mod_14980-17880_BD-221742_Oabu_8.2_ratioC_12_quater.conv\" : \"log C = 7.86 & log N = 7.82 & log O = 8.2\",\n",
    "}\n",
    "ABU_quater = [8.3,8.35, 8.25, 8.4, 8.2]\n",
    "for wavelength in raie_propre:\n",
    "    chi_plot_ABU(\n",
    "            ABU_quater, \n",
    "            chi_2(path, synth_OH_quater, stardata, wavelength, lines_BD22,\n",
    "                name=element,start=raie_propre.get(wavelength)[0],end=raie_propre.get(wavelength)[1])[\"chi_squared_values\"], \"O\",wavelength, element, raie_element_quater)\n",
    "    chi_2(path, synth_OH_quater, stardata, wavelength, lines_BD22,\n",
    "                name=element,start=raie_propre.get(wavelength)[0],end=raie_propre.get(wavelength)[1],\n",
    "                plot=True,\n",
    "                save=repertory_memoire+\"output/OH/quater/\"+\"raie_OH_\"+str(wavelength)+\".png\"\n",
    "                )\n",
    "\n",
    "abu_plot(raie_element_quater,\"O\",\n",
    "         save=repertory_memoire+\"output/OH/quater/\"+\"abu_O.png\"\n",
    "         )"
   ]
  },
  {
   "cell_type": "markdown",
   "metadata": {},
   "source": [
    "## Carbone"
   ]
  },
  {
   "cell_type": "code",
   "execution_count": 16,
   "metadata": {},
   "outputs": [
    {
     "name": "stderr",
     "output_type": "stream",
     "text": [
      "/Users/margauxvandererven/Unif/script/minimisation_chi_2.py:265: SyntaxWarning: invalid escape sequence '\\c'\n",
      "  cbar=plt.colorbar(label='$\\chi^2$')\n",
      "/Users/margauxvandererven/Unif/script/minimisation_chi_2.py:272: SyntaxWarning: invalid escape sequence '\\c'\n",
      "  cbar.set_label('$\\chi^2$', fontsize=size_police)\n",
      "/Users/margauxvandererven/Unif/script/minimisation_chi_2.py:415: SyntaxWarning: invalid escape sequence '\\m'\n",
      "  # Plot original shaded error band\n",
      "/Users/margauxvandererven/Unif/script/minimisation_chi_2.py:424: SyntaxWarning: invalid escape sequence '\\s'\n",
      "  ax.set_xlim(14500, 23500)\n"
     ]
    },
    {
     "name": "stdout",
     "output_type": "stream",
     "text": [
      "pour raie CO 15582\n",
      "Meilleure abondance estimée : 8.137450045372997\n",
      "Meilleur ratio C/O estimée : 0.5917507091713944\n",
      "Valeur minimale de χ² estimée : 0.37925952475910335\n",
      "pour raie CO 15785\n",
      "Meilleure abondance estimée : 8.147066224801407\n",
      "Meilleur ratio C/O estimée : 0.5\n",
      "Valeur minimale de χ² estimée : 0.49947671629533347\n",
      "pour raie CO 16195\n",
      "Meilleure abondance estimée : 8.193367170927107\n",
      "Meilleur ratio C/O estimée : 0.5\n",
      "Valeur minimale de χ² estimée : 0.3232230975869275\n",
      "pour raie CO 16410\n",
      "Meilleure abondance estimée : 8.15848294523124\n",
      "Meilleur ratio C/O estimée : 0.8199631143820346\n",
      "Valeur minimale de χ² estimée : 2.259853162758061\n",
      "pour raie CO 16430\n",
      "Meilleure abondance estimée : 8.072267881112236\n",
      "Meilleur ratio C/O estimée : 0.7920316023680395\n",
      "Valeur minimale de χ² estimée : 0.9221071037822729\n",
      "pour raie CO 17298\n",
      "Meilleure abondance estimée : 8.138668480962698\n",
      "Meilleur ratio C/O estimée : 0.6919094813652175\n",
      "Valeur minimale de χ² estimée : 0.23100331407361144\n"
     ]
    }
   ],
   "source": [
    "band_CO={\n",
    "15582: [15570.14, 15594.19],\n",
    "  15785:[15772.95, 15797.33],\n",
    "  16195:[16183.53, 16207.44],\n",
    "  16410:[16399.11, 16422.36],\n",
    "  16430:[16418.42, 16442.21],\n",
    "#   17085:[None, None],\n",
    "  17298:[17286.70, 17309.92],\n",
    "#   22935,\n",
    "#   22950,\n",
    "#   22970,\n",
    "#   23225,\n",
    "#   23250,\n",
    "#   23275 # zone très profonde/ pas forcément cohérente qu'est ce que ca peut être\n",
    "}\n",
    "\n",
    "O_ABU = [7.8,\n",
    "    7.9,\n",
    "    8.0,\n",
    "    8.1,\n",
    "    8.3, \n",
    "    8.2, \n",
    "    8.4, \n",
    "         8.5\n",
    "         ]\n",
    "RATIOC_O= [0.5, \n",
    "           0.6, \n",
    "           0.75, \n",
    "           0.8, \n",
    "           0.9\n",
    "           ]\n",
    "\n",
    "CO_final={}\n",
    "\n",
    "path_to_synth=\"/Users/margauxvandererven/Library/CloudStorage/OneDrive-UniversitéLibredeBruxelles/memoire/BD-221742/synth_margaux/\"\n",
    "\n",
    "for line in band_CO:\n",
    "    print(\"pour raie CO\", line)\n",
    "    synth={}\n",
    "    range=str(line-20)+\"-\"+str(line+20)\n",
    "    abundances = []  # Pour O_abu\n",
    "    ratio = []  # Pour ratio C/O\n",
    "    chi_squared_values = []\n",
    "    for O_abu in O_ABU:\n",
    "        for ratioC_O in RATIOC_O: \n",
    "            abundances.append(O_abu)\n",
    "            ratio.append(ratioC_O)\n",
    "            synth[\"4000g1.0z-0.50m1.0t02a+0.20c+0.346n+0.00o+0.20r+0.00s+0.00.mod_\"+range+\"_Oabu_\"+str(O_abu)+\"_ratioC_O_\"+str(ratioC_O)+\".conv\"]=\"C/O=\"+str(ratioC_O)+\", log O=\"+str(O_abu)\n",
    "    synth_plot=synth.copy()\n",
    "    synth_plot[\"../../syntspec/BD-221742b/sans_CO_mol\"]=\"sans CO\"\n",
    "    # zoom_lines({\"\":[line]}, path_to_synth,synth_plot, stardata, 20, lines_BD22)\n",
    "    chi_squared_values=chi_2(path_to_synth, synth, stardata, line, lines_BD22,CO_final, start=band_CO.get(line)[0],end=band_CO.get(line)[1])[\"chi_squared_values\"]\n",
    "\n",
    "    double_chi(abundances, ratio, chi_squared_values, size_police=15, save=\"ratioC_O_\"+str(line))"
   ]
  },
  {
   "cell_type": "code",
   "execution_count": 37,
   "metadata": {},
   "outputs": [
    {
     "data": {
      "text/plain": [
       "np.float64(8.5649387366083)"
      ]
     },
     "execution_count": 37,
     "metadata": {},
     "output_type": "execute_result"
    }
   ],
   "source": [
    "8.44  - np.log10(0.75)"
   ]
  },
  {
   "cell_type": "code",
   "execution_count": null,
   "metadata": {},
   "outputs": [],
   "source": [
    "raie_CO={}\n",
    "name_C=\"CO_/4000g1.0z-0.50m1.0t02a+0.20c+0.346n+0.00o+0.20r+0.00s+0.00.mod_14500-18500_BD-221742_2_\"\n",
    "name_C2 = \"CO_/4000g1.0z-0.50m1.0t02a+0.20c+0.346n+0.00o+0.20r+0.00s+0.00.mod_15500-18000_BD-221742_2_\""
   ]
  },
  {
   "cell_type": "code",
   "execution_count": null,
   "metadata": {},
   "outputs": [],
   "source": [
    "fausses_raies={\"x\":list(np.arange(14700,16500,20))}\n",
    "zoom_lines(fausses_raies, path, {\"CO_/4000g1.0z-0.50m1.0t02a+0.20c+0.346n+0.00o+0.20r+0.00s+0.00.mod_14500-18500_BD-221742_2_Cabu_8.44_ratio_90.conv\":\"C=8.44, ratio 90\",\n",
    "                                 \"CO_/4000g1.0z-0.50m1.0t02a+0.20c+0.346n+0.00o+0.20r+0.00s+0.00.mod_14500-18500_BD-221742_2_Cabu_8.44_ratio_4.conv\":\"C=8.44, ratio 4\"\n",
    "                                 },stardata,10,lines_BD22)"
   ]
  },
  {
   "cell_type": "code",
   "execution_count": null,
   "metadata": {},
   "outputs": [],
   "source": [
    "filename = name_C+\"Cabu_8.44_ratio_90\"+\".conv\" \n",
    "filename2 = name_C+\"Cabu_8.44_ratio_4\"+\".conv\"\n",
    "\n",
    "flux  = syntspec(path+filename)['flux'] # récupération du flux\n",
    "fluxb = syntspec(path+filename2)['flux']\n",
    "ratio = [1 - (flux[i] - fluxb[i]) for i in range(len(flux))][1500:125500] # différence entre les deux synthèses pour la bande H\n",
    "\n",
    "# flux2  = syntspec(path+filename+\"2\")['flux']\n",
    "# fluxb2 = syntspec(path+filename2+\"2\")['flux']\n",
    "# diff2 = [1 - (flux2[i] - fluxb2[i]) for i in range(len(flux2))][5000:-6500] # différence entre les deux synthèses pour la première partie de la bande K\n",
    "\n",
    "f = plt.figure(figsize=(15, 10), dpi = 600)\n",
    "gs = f.add_gridspec(2, hspace=0.2)\n",
    "(ax1, ax2) = gs.subplots(sharex=False, sharey=False)\n",
    "\n",
    "ax1.plot(redshift_wavelen(stardata.get(\"wavelen_h\"), stardata.get(\"v_h\")), stardata.get(\"flux_h\"), linewidth=0.5, color = 'lightgray')\n",
    "ax1.plot(syntspec(path+filename2)['wavelen'][1500:125500], diff, linewidth=0.5, color = 'mediumblue', label = \"C2\")\n",
    "\n",
    "ax2.plot(redshift_wavelen(stardata.get(\"wavelen_h\"), stardata.get(\"v_h\")), stardata.get(\"flux_h\"), linewidth=0.5, color = 'lightgray')\n",
    "ax2.plot(syntspec(path+filename2)['wavelen'][1500:125500], diff, linewidth=0.5, color = 'mediumblue', label = \"C2\")\n",
    "\n",
    "# ax2.plot(redshift_wavelen(stardata.get(\"wavelen_k\"), stardata.get(\"v_k\")), stardata.get(\"flux_k\"), linewidth=0.5, color = 'lightgray')\n",
    "# ax2.plot(syntspec(path+filename2+\"2\")['wavelen'][5000:-6500], diff2, linewidth=0.5, color = 'mediumblue', label = \"OH\")\n",
    "# ax2.plot(syntspec(path+filename2+\"3\")['wavelen'][:-130000], diff3, linewidth=0.5, color = 'mediumblue')\n",
    "\n",
    "# ax1.set_xlim(16300,16400)\n",
    "# ax1.set_xlim(16860,16915)\n",
    "# ax2.set_xlim(20510,20520)\n",
    "# ax2.set_xlim(19600,19650)\n",
    "# ax2.set_xlim(19000,19500)\n",
    "\n",
    "f.text(0.07, 0.50, 'Flux', va='center', rotation='vertical', fontsize=14)\n",
    "f.text(0.45, 0.04, \"Longueur d'onde (Å)\", va='center', fontsize=14)\n",
    "\n",
    "for ax in f.get_axes():\n",
    "    ax.legend(loc = 'upper right', frameon=False, fontsize = 15)\n",
    "    # ax.set(xlabel=\"Longueur d'onde (Å)\", ylabel=\"Flux\")\n",
    "    ax.set_ylim(0.0,1.4)\n",
    "    # ax.xaxis.set_major_locator(MultipleLocator(500))\n",
    "    # ax.xaxis.set_minor_locator(MultipleLocator(100))\n",
    "    # ax.xaxis.set_tick_params(direction = 'in', length = 10, which = 'major')\n",
    "    # ax.yaxis.set_tick_params(direction = 'in', length = 10, which = 'major')\n",
    "    # ax.xaxis.set_tick_params(direction = 'in', length = 5, which = 'minor')\n",
    "\n",
    "# plt.savefig(\"/Users/margauxvandererven/Library/CloudStorage/OneDrive-UniversitéLibredeBruxelles/memoire/output/molecules/\"+filename2, bbox_inches=\"tight\", pad_inches=0.1)\n",
    "\n",
    "# print(\"bande H : \",(1-min(diff))*100) # maximum d'absorption due à la présence de la molécule en pourcent dans la bande H\n",
    "# print(\"bande K : \",(1-min(diff2))*100) # maximum d'absorption due à la présence de la molécule en pourcent dans la bande K"
   ]
  },
  {
   "cell_type": "code",
   "execution_count": null,
   "metadata": {},
   "outputs": [],
   "source": [
    "fausses_raies={\"x\":list(np.arange(14700,16500,20))}\n",
    "zoom_lines(fausses_raies,path,{\"sans_CO_mol\":\"sans CO\",\n",
    "            name_C+\"Cabu_8.44_ratio_90\"+\".conv\":\"log $\\epsilon_C$ = 8.44 & $^{12}C$/ $^{13}C$ = 90\",\n",
    "            name_C+\"Cabu_8.44_ratio_4\"+\".conv\":\"log $\\epsilon_C$ = 8.44 & $^{12}C$/ $^{13}C$ = 4\"}, stardata, 10,lines_BD22)"
   ]
  },
  {
   "cell_type": "code",
   "execution_count": null,
   "metadata": {},
   "outputs": [],
   "source": [
    "fausses_raies={\"x\":list(np.arange(16500,18500,20))}\n",
    "zoom_lines(fausses_raies,path,{\"sans_CO_mol\":\"sans CO\",\n",
    "            name_C+\"Cabu_8.44_ratio_90\"+\".conv\":\"log $\\epsilon_C$ = 8.44 & $^{12}C$/ $^{13}C$ = 90\",\n",
    "            name_C+\"Cabu_8.44_ratio_4\"+\".conv\":\"log $\\epsilon_C$ = 8.44 & $^{12}C$/ $^{13}C$ = 4\"}, stardata, 10,lines_BD22)"
   ]
  },
  {
   "cell_type": "code",
   "execution_count": 26,
   "metadata": {},
   "outputs": [],
   "source": [
    "#12CO\n",
    "element=\"CO\"\n",
    "raie_element={}\n",
    "\n",
    "raie_H = {\n",
    "        # 15581.85 :[None, None],#no\n",
    "        15780.09 :[15779.55, 15780.7], #top\n",
    "        # 15582.6 : [None, None],#no\n",
    "        # 15586.5 : [None, None],#no\n",
    "        # 15600.8 : [None, None],#no\n",
    "        # 15802.5: [None, None],#no\n",
    "        # 15831.1 : [None, None],#no\n",
    "        # 15846.8: [15846.45, 15847.2],#bof\n",
    "        # 16049 : [16048.5, 16049.4], #no\n",
    "        # 16084 : [16083.6, 16084.45], #no\n",
    "        # 16401.6 : [None, None],#bof\n",
    "        # 16417.7 : [None, None],#bof\n",
    "        16237.9 : [16237.4,16238.4],\n",
    "        16314.39 : [16313.9, 16315],\n",
    "        17081.8 : [17081.35, 17082.35], #top\n",
    "        17026 : [17025.6, 17026.5],\n",
    "        17129.35 : [17128.8, 17129.9], #top\n",
    "        # 17566.4 : [None, None],\n",
    "\n",
    "}\n",
    "chi_final_CO={}"
   ]
  },
  {
   "cell_type": "code",
   "execution_count": 27,
   "metadata": {},
   "outputs": [
    {
     "name": "stderr",
     "output_type": "stream",
     "text": [
      "<>:5: SyntaxWarning: invalid escape sequence '\\e'\n",
      "<>:6: SyntaxWarning: invalid escape sequence '\\e'\n",
      "<>:7: SyntaxWarning: invalid escape sequence '\\e'\n",
      "<>:8: SyntaxWarning: invalid escape sequence '\\e'\n",
      "<>:9: SyntaxWarning: invalid escape sequence '\\e'\n",
      "<>:10: SyntaxWarning: invalid escape sequence '\\e'\n",
      "<>:11: SyntaxWarning: invalid escape sequence '\\e'\n",
      "<>:12: SyntaxWarning: invalid escape sequence '\\e'\n",
      "<>:18: SyntaxWarning: invalid escape sequence '\\e'\n",
      "<>:19: SyntaxWarning: invalid escape sequence '\\e'\n",
      "<>:20: SyntaxWarning: invalid escape sequence '\\e'\n",
      "<>:21: SyntaxWarning: invalid escape sequence '\\e'\n",
      "<>:22: SyntaxWarning: invalid escape sequence '\\e'\n",
      "<>:23: SyntaxWarning: invalid escape sequence '\\e'\n",
      "<>:24: SyntaxWarning: invalid escape sequence '\\e'\n",
      "<>:25: SyntaxWarning: invalid escape sequence '\\e'\n",
      "<>:5: SyntaxWarning: invalid escape sequence '\\e'\n",
      "<>:6: SyntaxWarning: invalid escape sequence '\\e'\n",
      "<>:7: SyntaxWarning: invalid escape sequence '\\e'\n",
      "<>:8: SyntaxWarning: invalid escape sequence '\\e'\n",
      "<>:9: SyntaxWarning: invalid escape sequence '\\e'\n",
      "<>:10: SyntaxWarning: invalid escape sequence '\\e'\n",
      "<>:11: SyntaxWarning: invalid escape sequence '\\e'\n",
      "<>:12: SyntaxWarning: invalid escape sequence '\\e'\n",
      "<>:18: SyntaxWarning: invalid escape sequence '\\e'\n",
      "<>:19: SyntaxWarning: invalid escape sequence '\\e'\n",
      "<>:20: SyntaxWarning: invalid escape sequence '\\e'\n",
      "<>:21: SyntaxWarning: invalid escape sequence '\\e'\n",
      "<>:22: SyntaxWarning: invalid escape sequence '\\e'\n",
      "<>:23: SyntaxWarning: invalid escape sequence '\\e'\n",
      "<>:24: SyntaxWarning: invalid escape sequence '\\e'\n",
      "<>:25: SyntaxWarning: invalid escape sequence '\\e'\n",
      "/var/folders/cr/jh08cm417bq6mz5b3j4kvmxm0000gn/T/ipykernel_81634/24436712.py:5: SyntaxWarning: invalid escape sequence '\\e'\n",
      "  nom+\"Cabu_7.85\"+\".conv\":\"log $\\epsilon_C$ = 7.85\",\n",
      "/var/folders/cr/jh08cm417bq6mz5b3j4kvmxm0000gn/T/ipykernel_81634/24436712.py:6: SyntaxWarning: invalid escape sequence '\\e'\n",
      "  nom+\"Cabu_7.9\"+\".conv\":\"log $\\epsilon_C$ = 7.9\",\n",
      "/var/folders/cr/jh08cm417bq6mz5b3j4kvmxm0000gn/T/ipykernel_81634/24436712.py:7: SyntaxWarning: invalid escape sequence '\\e'\n",
      "  nom+\"Cabu_7.95\"+\".conv\":\"log $\\epsilon_C$ = 7.95\",\n",
      "/var/folders/cr/jh08cm417bq6mz5b3j4kvmxm0000gn/T/ipykernel_81634/24436712.py:8: SyntaxWarning: invalid escape sequence '\\e'\n",
      "  nom+\"Cabu_8.0\"+\".conv\":\"log $\\epsilon_C$ = 8.0\",\n",
      "/var/folders/cr/jh08cm417bq6mz5b3j4kvmxm0000gn/T/ipykernel_81634/24436712.py:9: SyntaxWarning: invalid escape sequence '\\e'\n",
      "  nom+\"Cabu_8.1\"+\".conv\":\"log $\\epsilon_C$ = 8.1\",\n",
      "/var/folders/cr/jh08cm417bq6mz5b3j4kvmxm0000gn/T/ipykernel_81634/24436712.py:10: SyntaxWarning: invalid escape sequence '\\e'\n",
      "  nom+\"Cabu_7.7\"+\".conv\":\"log $\\epsilon_C$ = 7.7\",\n",
      "/var/folders/cr/jh08cm417bq6mz5b3j4kvmxm0000gn/T/ipykernel_81634/24436712.py:11: SyntaxWarning: invalid escape sequence '\\e'\n",
      "  nom+\"Cabu_7.8\"+\".conv\":\"log $\\epsilon_C$ = 7.8\",\n",
      "/var/folders/cr/jh08cm417bq6mz5b3j4kvmxm0000gn/T/ipykernel_81634/24436712.py:12: SyntaxWarning: invalid escape sequence '\\e'\n",
      "  nom+\"Cabu_7.65\"+\".conv\":\"log $\\epsilon_C$ = 7.65\",\n",
      "/var/folders/cr/jh08cm417bq6mz5b3j4kvmxm0000gn/T/ipykernel_81634/24436712.py:18: SyntaxWarning: invalid escape sequence '\\e'\n",
      "  nom+\"Cabu_7.85\"+\".conv\":\"log $\\epsilon_C$ = 7.85\",\n",
      "/var/folders/cr/jh08cm417bq6mz5b3j4kvmxm0000gn/T/ipykernel_81634/24436712.py:19: SyntaxWarning: invalid escape sequence '\\e'\n",
      "  nom+\"Cabu_7.9\"+\".conv\":\"log $\\epsilon_C$ = 7.9\",\n",
      "/var/folders/cr/jh08cm417bq6mz5b3j4kvmxm0000gn/T/ipykernel_81634/24436712.py:20: SyntaxWarning: invalid escape sequence '\\e'\n",
      "  nom+\"Cabu_7.95\"+\".conv\":\"log $\\epsilon_C$ = 7.95\",\n",
      "/var/folders/cr/jh08cm417bq6mz5b3j4kvmxm0000gn/T/ipykernel_81634/24436712.py:21: SyntaxWarning: invalid escape sequence '\\e'\n",
      "  nom+\"Cabu_8.0\"+\".conv\":\"log $\\epsilon_C$ = 8.0\",\n",
      "/var/folders/cr/jh08cm417bq6mz5b3j4kvmxm0000gn/T/ipykernel_81634/24436712.py:22: SyntaxWarning: invalid escape sequence '\\e'\n",
      "  nom+\"Cabu_8.1\"+\".conv\":\"log $\\epsilon_C$ = 8.1\",\n",
      "/var/folders/cr/jh08cm417bq6mz5b3j4kvmxm0000gn/T/ipykernel_81634/24436712.py:23: SyntaxWarning: invalid escape sequence '\\e'\n",
      "  nom+\"Cabu_7.7\"+\".conv\":\"log $\\epsilon_C$ = 7.7\",\n",
      "/var/folders/cr/jh08cm417bq6mz5b3j4kvmxm0000gn/T/ipykernel_81634/24436712.py:24: SyntaxWarning: invalid escape sequence '\\e'\n",
      "  nom+\"Cabu_7.8\"+\".conv\":\"log $\\epsilon_C$ = 7.8\",\n",
      "/var/folders/cr/jh08cm417bq6mz5b3j4kvmxm0000gn/T/ipykernel_81634/24436712.py:25: SyntaxWarning: invalid escape sequence '\\e'\n",
      "  nom+\"Cabu_7.65\"+\".conv\":\"log $\\epsilon_C$ = 7.65\",\n"
     ]
    }
   ],
   "source": [
    "\n",
    "\n",
    "nom=\"CO_/4000g1.0z-0.50m1.0t02a+0.20c+0.346n+0.00o+0.20r+0.00s+0.00.mod_14700-18000_BD-221742_\"\n",
    "ABU = [7.85, 7.9, 7.95, 8.0, 8.1,7.7, 7.8,7.65]\n",
    "\n",
    "synth_H = {  \n",
    "            nom+\"Cabu_7.85\"+\".conv\":\"log $\\epsilon_C$ = 7.85\",\n",
    "            nom+\"Cabu_7.9\"+\".conv\":\"log $\\epsilon_C$ = 7.9\",\n",
    "            nom+\"Cabu_7.95\"+\".conv\":\"log $\\epsilon_C$ = 7.95\",\n",
    "            nom+\"Cabu_8.0\"+\".conv\":\"log $\\epsilon_C$ = 8.0\",\n",
    "            nom+\"Cabu_8.1\"+\".conv\":\"log $\\epsilon_C$ = 8.1\",\n",
    "            nom+\"Cabu_7.7\"+\".conv\":\"log $\\epsilon_C$ = 7.7\",\n",
    "            nom+\"Cabu_7.8\"+\".conv\":\"log $\\epsilon_C$ = 7.8\",\n",
    "            nom+\"Cabu_7.65\"+\".conv\":\"log $\\epsilon_C$ = 7.65\",\n",
    "            # \"CO_/4000g1.0z-0.50m1.0t02a+0.20c+0.346n+0.00o+0.20r+0.00s+0.00.mod_14700-17700_BD-221742_Cabu_8.35_ratio_15.conv\":\"log $\\epsilon_C$ = 8.35 & ratio 15\",\n",
    "            # \"CO_/4000g1.0z-0.50m1.0t02a+0.20c+0.346n+0.00o+0.20r+0.00s+0.00.mod_17055-17155_BD-221742_Cabu_7.9_ratio_15.conv\":\"log $\\epsilon_C$ = 7.9 & ratio 15\"\n",
    "                }\n",
    "\n",
    "synth_plot_H = { \"sans_CO_mol\":\"sans CO\",\n",
    "            nom+\"Cabu_7.85\"+\".conv\":\"log $\\epsilon_C$ = 7.85\",\n",
    "            nom+\"Cabu_7.9\"+\".conv\":\"log $\\epsilon_C$ = 7.9\",\n",
    "            nom+\"Cabu_7.95\"+\".conv\":\"log $\\epsilon_C$ = 7.95\",\n",
    "            nom+\"Cabu_8.0\"+\".conv\":\"log $\\epsilon_C$ = 8.0\",\n",
    "            nom+\"Cabu_8.1\"+\".conv\":\"log $\\epsilon_C$ = 8.1\",\n",
    "            nom+\"Cabu_7.7\"+\".conv\":\"log $\\epsilon_C$ = 7.7\",\n",
    "            nom+\"Cabu_7.8\"+\".conv\":\"log $\\epsilon_C$ = 7.8\",\n",
    "            nom+\"Cabu_7.65\"+\".conv\":\"log $\\epsilon_C$ = 7.65\",\n",
    "            # \"CO_/4000g1.0z-0.50m1.0t02a+0.20c+0.346n+0.00o+0.20r+0.00s+0.00.mod_14700-17700_BD-221742_Cabu_8.35_ratio_15.conv\":\"log $\\epsilon_C$ = 8.35 & ratio 15\"\n",
    "                }\n",
    "\n",
    "for wavelength in raie_H:\n",
    "     chi_plot_ABU(\n",
    "            ABU, \n",
    "            chi_2(path, synth_H, stardata, wavelength, lines_BD22,chi_final_CO,\n",
    "                name=element,start=raie_H.get(wavelength)[0],end=raie_H.get(wavelength)[1])[\"chi_squared_values\"], \"C\",wavelength, element, raie_element)\n",
    "     \n",
    "    #  chi_2(path, synth_plot_H, stardata, wavelength, lines_BD22,\n",
    "    #             name=element,start=raie_H.get(wavelength)[0],end=raie_H.get(wavelength)[1],\n",
    "    #             plot=True, save=repertory_memoire+\"output/CO/first/raie_CO\"+str(wavelength)+\".png\")"
   ]
  },
  {
   "cell_type": "code",
   "execution_count": 28,
   "metadata": {},
   "outputs": [],
   "source": [
    "raie_K = {\n",
    "    #  23014.95 : [23013.84,23016], #trop profonde 0.4 abu trop grande\n",
    "        # 23023.528 : [23022.6,23024.6], #trop profonde 0.4 abu trop grande\n",
    "        # 23051.48 : [23050.35,23053.2], #trop profonde 0.4 abu trop grande\n",
    "        # 23072.12 : [23070.9, 23074.5], #trop profonde 0.4 abu trop grande\n",
    "        # 23062.9 : [23062.45,23063.85], \n",
    "        23073.9 : [23073.1, 23074.6], \n",
    "        # 23083.06 : [23081.8,23084.2], #trop profonde 0.4 abu trop grande\n",
    "        # 23097.1: [23096.1,23098.1],#no\n",
    "        23109.4 : [23108.5,23110.3], \n",
    "        # 23085.3 : [23084.3,23086.2] #blend\n",
    "        }"
   ]
  },
  {
   "cell_type": "code",
   "execution_count": 29,
   "metadata": {},
   "outputs": [
    {
     "name": "stderr",
     "output_type": "stream",
     "text": [
      "<>:5: SyntaxWarning: invalid escape sequence '\\e'\n",
      "<>:6: SyntaxWarning: invalid escape sequence '\\e'\n",
      "<>:7: SyntaxWarning: invalid escape sequence '\\e'\n",
      "<>:8: SyntaxWarning: invalid escape sequence '\\e'\n",
      "<>:9: SyntaxWarning: invalid escape sequence '\\e'\n",
      "<>:10: SyntaxWarning: invalid escape sequence '\\e'\n",
      "<>:11: SyntaxWarning: invalid escape sequence '\\e'\n",
      "<>:12: SyntaxWarning: invalid escape sequence '\\e'\n",
      "<>:13: SyntaxWarning: invalid escape sequence '\\e'\n",
      "<>:14: SyntaxWarning: invalid escape sequence '\\e'\n",
      "<>:15: SyntaxWarning: invalid escape sequence '\\e'\n",
      "<>:21: SyntaxWarning: invalid escape sequence '\\e'\n",
      "<>:22: SyntaxWarning: invalid escape sequence '\\e'\n",
      "<>:23: SyntaxWarning: invalid escape sequence '\\e'\n",
      "<>:24: SyntaxWarning: invalid escape sequence '\\e'\n",
      "<>:25: SyntaxWarning: invalid escape sequence '\\e'\n",
      "<>:26: SyntaxWarning: invalid escape sequence '\\e'\n",
      "<>:27: SyntaxWarning: invalid escape sequence '\\e'\n",
      "<>:28: SyntaxWarning: invalid escape sequence '\\e'\n",
      "<>:29: SyntaxWarning: invalid escape sequence '\\e'\n",
      "<>:30: SyntaxWarning: invalid escape sequence '\\e'\n",
      "<>:31: SyntaxWarning: invalid escape sequence '\\e'\n",
      "<>:5: SyntaxWarning: invalid escape sequence '\\e'\n",
      "<>:6: SyntaxWarning: invalid escape sequence '\\e'\n",
      "<>:7: SyntaxWarning: invalid escape sequence '\\e'\n",
      "<>:8: SyntaxWarning: invalid escape sequence '\\e'\n",
      "<>:9: SyntaxWarning: invalid escape sequence '\\e'\n",
      "<>:10: SyntaxWarning: invalid escape sequence '\\e'\n",
      "<>:11: SyntaxWarning: invalid escape sequence '\\e'\n",
      "<>:12: SyntaxWarning: invalid escape sequence '\\e'\n",
      "<>:13: SyntaxWarning: invalid escape sequence '\\e'\n",
      "<>:14: SyntaxWarning: invalid escape sequence '\\e'\n",
      "<>:15: SyntaxWarning: invalid escape sequence '\\e'\n",
      "<>:21: SyntaxWarning: invalid escape sequence '\\e'\n",
      "<>:22: SyntaxWarning: invalid escape sequence '\\e'\n",
      "<>:23: SyntaxWarning: invalid escape sequence '\\e'\n",
      "<>:24: SyntaxWarning: invalid escape sequence '\\e'\n",
      "<>:25: SyntaxWarning: invalid escape sequence '\\e'\n",
      "<>:26: SyntaxWarning: invalid escape sequence '\\e'\n",
      "<>:27: SyntaxWarning: invalid escape sequence '\\e'\n",
      "<>:28: SyntaxWarning: invalid escape sequence '\\e'\n",
      "<>:29: SyntaxWarning: invalid escape sequence '\\e'\n",
      "<>:30: SyntaxWarning: invalid escape sequence '\\e'\n",
      "<>:31: SyntaxWarning: invalid escape sequence '\\e'\n",
      "/var/folders/cr/jh08cm417bq6mz5b3j4kvmxm0000gn/T/ipykernel_81634/3086094789.py:5: SyntaxWarning: invalid escape sequence '\\e'\n",
      "  nom_K+\"Cabu_7.85\"+\"_ratio_40.conv\":\"log $\\epsilon_C$ = 7.85\",\n",
      "/var/folders/cr/jh08cm417bq6mz5b3j4kvmxm0000gn/T/ipykernel_81634/3086094789.py:6: SyntaxWarning: invalid escape sequence '\\e'\n",
      "  nom_K+\"Cabu_7.9\"+\"_ratio_40.conv\":\"log $\\epsilon_C$ = 7.9\",\n",
      "/var/folders/cr/jh08cm417bq6mz5b3j4kvmxm0000gn/T/ipykernel_81634/3086094789.py:7: SyntaxWarning: invalid escape sequence '\\e'\n",
      "  nom_K+\"Cabu_7.95\"+\"_ratio_40.conv\":\"log $\\epsilon_C$ = 7.95\",\n",
      "/var/folders/cr/jh08cm417bq6mz5b3j4kvmxm0000gn/T/ipykernel_81634/3086094789.py:8: SyntaxWarning: invalid escape sequence '\\e'\n",
      "  nom_K+\"Cabu_8.0\"+\"_ratio_40.conv\":\"log $\\epsilon_C$ = 8.0\",\n",
      "/var/folders/cr/jh08cm417bq6mz5b3j4kvmxm0000gn/T/ipykernel_81634/3086094789.py:9: SyntaxWarning: invalid escape sequence '\\e'\n",
      "  nom_K+\"Cabu_8.1\"+\"_ratio_40.conv\":\"log $\\epsilon_C$ = 8.1\",\n",
      "/var/folders/cr/jh08cm417bq6mz5b3j4kvmxm0000gn/T/ipykernel_81634/3086094789.py:10: SyntaxWarning: invalid escape sequence '\\e'\n",
      "  nom_K+\"Cabu_8.2\"+\"_ratio_40.conv\":\"log $\\epsilon_C$ = 8.2\",\n",
      "/var/folders/cr/jh08cm417bq6mz5b3j4kvmxm0000gn/T/ipykernel_81634/3086094789.py:11: SyntaxWarning: invalid escape sequence '\\e'\n",
      "  nom_K+\"Cabu_8.3\"+\"_ratio_40.conv\":\"log $\\epsilon_C$ = 8.3\",\n",
      "/var/folders/cr/jh08cm417bq6mz5b3j4kvmxm0000gn/T/ipykernel_81634/3086094789.py:12: SyntaxWarning: invalid escape sequence '\\e'\n",
      "  nom_K+\"Cabu_8.4\"+\"_ratio_40.conv\":\"log $\\epsilon_C$ = 8.4\",\n",
      "/var/folders/cr/jh08cm417bq6mz5b3j4kvmxm0000gn/T/ipykernel_81634/3086094789.py:13: SyntaxWarning: invalid escape sequence '\\e'\n",
      "  nom_K+\"Cabu_7.7\"+\"_ratio_40.conv\":\"log $\\epsilon_C$ = 7.7\",\n",
      "/var/folders/cr/jh08cm417bq6mz5b3j4kvmxm0000gn/T/ipykernel_81634/3086094789.py:14: SyntaxWarning: invalid escape sequence '\\e'\n",
      "  nom_K+\"Cabu_7.8\"+\"_ratio_40.conv\":\"log $\\epsilon_C$ = 7.8\",\n",
      "/var/folders/cr/jh08cm417bq6mz5b3j4kvmxm0000gn/T/ipykernel_81634/3086094789.py:15: SyntaxWarning: invalid escape sequence '\\e'\n",
      "  nom_K+\"Cabu_7.65\"+\"_ratio_40.conv\":\"log $\\epsilon_C$ = 7.65\",\n",
      "/var/folders/cr/jh08cm417bq6mz5b3j4kvmxm0000gn/T/ipykernel_81634/3086094789.py:21: SyntaxWarning: invalid escape sequence '\\e'\n",
      "  nom_K+\"Cabu_7.85\"+\"_ratio_40.conv\":\"log $\\epsilon_C$ = 7.85\",\n",
      "/var/folders/cr/jh08cm417bq6mz5b3j4kvmxm0000gn/T/ipykernel_81634/3086094789.py:22: SyntaxWarning: invalid escape sequence '\\e'\n",
      "  nom_K+\"Cabu_7.9\"+\"_ratio_40.conv\":\"log $\\epsilon_C$ = 7.9\",\n",
      "/var/folders/cr/jh08cm417bq6mz5b3j4kvmxm0000gn/T/ipykernel_81634/3086094789.py:23: SyntaxWarning: invalid escape sequence '\\e'\n",
      "  nom_K+\"Cabu_7.95\"+\"_ratio_40.conv\":\"log $\\epsilon_C$ = 7.95\",\n",
      "/var/folders/cr/jh08cm417bq6mz5b3j4kvmxm0000gn/T/ipykernel_81634/3086094789.py:24: SyntaxWarning: invalid escape sequence '\\e'\n",
      "  nom_K+\"Cabu_8.0\"+\"_ratio_40.conv\":\"log $\\epsilon_C$ = 8.0\",\n",
      "/var/folders/cr/jh08cm417bq6mz5b3j4kvmxm0000gn/T/ipykernel_81634/3086094789.py:25: SyntaxWarning: invalid escape sequence '\\e'\n",
      "  nom_K+\"Cabu_8.1\"+\"_ratio_40.conv\":\"log $\\epsilon_C$ = 8.1\",\n",
      "/var/folders/cr/jh08cm417bq6mz5b3j4kvmxm0000gn/T/ipykernel_81634/3086094789.py:26: SyntaxWarning: invalid escape sequence '\\e'\n",
      "  nom_K+\"Cabu_8.2\"+\"_ratio_40.conv\":\"log $\\epsilon_C$ = 8.2\",\n",
      "/var/folders/cr/jh08cm417bq6mz5b3j4kvmxm0000gn/T/ipykernel_81634/3086094789.py:27: SyntaxWarning: invalid escape sequence '\\e'\n",
      "  nom_K+\"Cabu_8.3\"+\"_ratio_40.conv\":\"log $\\epsilon_C$ = 8.3\",\n",
      "/var/folders/cr/jh08cm417bq6mz5b3j4kvmxm0000gn/T/ipykernel_81634/3086094789.py:28: SyntaxWarning: invalid escape sequence '\\e'\n",
      "  nom_K+\"Cabu_8.4\"+\"_ratio_40.conv\":\"log $\\epsilon_C$ = 8.4\",\n",
      "/var/folders/cr/jh08cm417bq6mz5b3j4kvmxm0000gn/T/ipykernel_81634/3086094789.py:29: SyntaxWarning: invalid escape sequence '\\e'\n",
      "  nom_K+\"Cabu_7.7\"+\"_ratio_40.conv\":\"log $\\epsilon_C$ = 7.7\",\n",
      "/var/folders/cr/jh08cm417bq6mz5b3j4kvmxm0000gn/T/ipykernel_81634/3086094789.py:30: SyntaxWarning: invalid escape sequence '\\e'\n",
      "  nom_K+\"Cabu_7.8\"+\"_ratio_40.conv\":\"log $\\epsilon_C$ = 7.8\",\n",
      "/var/folders/cr/jh08cm417bq6mz5b3j4kvmxm0000gn/T/ipykernel_81634/3086094789.py:31: SyntaxWarning: invalid escape sequence '\\e'\n",
      "  nom_K+\"Cabu_7.65\"+\"_ratio_40.conv\":\"log $\\epsilon_C$ = 7.65\",\n"
     ]
    }
   ],
   "source": [
    "nom_K=\"CO_/4000g1.0z-0.50m1.0t02a+0.20c+0.346n+0.00o+0.20r+0.00s+0.00.mod_22990-23140_BD-221742_\"\n",
    "ABU = [7.85, 7.9, 7.95, 8.0, 8.1,8.2, 8.3, 8.4, 7.7, 7.8,7.65]\n",
    "\n",
    "synth_K = {   # \"toutsans_OH\":\"sans\",\n",
    "            nom_K+\"Cabu_7.85\"+\"_ratio_40.conv\":\"log $\\epsilon_C$ = 7.85\",\n",
    "            nom_K+\"Cabu_7.9\"+\"_ratio_40.conv\":\"log $\\epsilon_C$ = 7.9\",\n",
    "            nom_K+\"Cabu_7.95\"+\"_ratio_40.conv\":\"log $\\epsilon_C$ = 7.95\",\n",
    "            nom_K+\"Cabu_8.0\"+\"_ratio_40.conv\":\"log $\\epsilon_C$ = 8.0\",\n",
    "            nom_K+\"Cabu_8.1\"+\"_ratio_40.conv\":\"log $\\epsilon_C$ = 8.1\",\n",
    "            nom_K+\"Cabu_8.2\"+\"_ratio_40.conv\":\"log $\\epsilon_C$ = 8.2\",\n",
    "            nom_K+\"Cabu_8.3\"+\"_ratio_40.conv\":\"log $\\epsilon_C$ = 8.3\",\n",
    "            nom_K+\"Cabu_8.4\"+\"_ratio_40.conv\":\"log $\\epsilon_C$ = 8.4\",\n",
    "            nom_K+\"Cabu_7.7\"+\"_ratio_40.conv\":\"log $\\epsilon_C$ = 7.7\",\n",
    "            nom_K+\"Cabu_7.8\"+\"_ratio_40.conv\":\"log $\\epsilon_C$ = 7.8\",\n",
    "            nom_K+\"Cabu_7.65\"+\"_ratio_40.conv\":\"log $\\epsilon_C$ = 7.65\",\n",
    "\n",
    "                }\n",
    "\n",
    "synth_plot_K = {   \n",
    "     \"sans_CO_mol2\":\"sans CO\",\n",
    "            nom_K+\"Cabu_7.85\"+\"_ratio_40.conv\":\"log $\\epsilon_C$ = 7.85\",\n",
    "            nom_K+\"Cabu_7.9\"+\"_ratio_40.conv\":\"log $\\epsilon_C$ = 7.9\",\n",
    "            nom_K+\"Cabu_7.95\"+\"_ratio_40.conv\":\"log $\\epsilon_C$ = 7.95\",\n",
    "            nom_K+\"Cabu_8.0\"+\"_ratio_40.conv\":\"log $\\epsilon_C$ = 8.0\",\n",
    "            nom_K+\"Cabu_8.1\"+\"_ratio_40.conv\":\"log $\\epsilon_C$ = 8.1\",\n",
    "            nom_K+\"Cabu_8.2\"+\"_ratio_40.conv\":\"log $\\epsilon_C$ = 8.2\",\n",
    "            nom_K+\"Cabu_8.3\"+\"_ratio_40.conv\":\"log $\\epsilon_C$ = 8.3\",\n",
    "            nom_K+\"Cabu_8.4\"+\"_ratio_40.conv\":\"log $\\epsilon_C$ = 8.4\",\n",
    "            nom_K+\"Cabu_7.7\"+\"_ratio_40.conv\":\"log $\\epsilon_C$ = 7.7\",\n",
    "            nom_K+\"Cabu_7.8\"+\"_ratio_40.conv\":\"log $\\epsilon_C$ = 7.8\",\n",
    "            nom_K+\"Cabu_7.65\"+\"_ratio_40.conv\":\"log $\\epsilon_C$ = 7.65\",\n",
    "            # \"CO_/4000g1.0z-0.50m1.0t02a+0.20c+0.346n+0.00o+0.20r+0.00s+0.00.mod_22990-23140_BD-221742_Cabu_8.44_ratio_4.conv\":\"log $\\epsilon_C$ = 8.44 & ratio = 4\",\n",
    "            # \"CO_/4000g1.0z-0.50m1.0t02a+0.20c+0.346n+0.00o+0.20r+0.00s+0.00.mod_22990-23140_BD-221742_Cabu_8.44_ratio_90.conv\":\"log $\\epsilon_C$ = 8.44 & ratio = 90\",\n",
    "                }\n",
    "\n",
    "\n",
    "for wavelength in raie_K:\n",
    "     chi_plot_ABU(\n",
    "            ABU, \n",
    "            chi_2(path, synth_K, stardata, wavelength, lines_BD22,chi_final_CO,\n",
    "                name=element,start=raie_K.get(wavelength)[0],end=raie_K.get(wavelength)[1])[\"chi_squared_values\"], \"C\",wavelength, element, raie_element)\n",
    "     \n",
    "#      chi_2(path, synth_plot_K, stardata, wavelength, lines_BD22,\n",
    "#                 name=element,start=raie_K.get(wavelength)[0],end=raie_K.get(wavelength)[1], \n",
    "#                 plot=True, save=repertory_memoire+\"output/CO/first/raie_CO\"+str(wavelength)+\".png\")\n",
    "     \n",
    "# abu_plot(raie_element,\"C\", save=repertory_memoire+\"output/CO/first/abu_C.png\")"
   ]
  },
  {
   "cell_type": "code",
   "execution_count": null,
   "metadata": {},
   "outputs": [
    {
     "name": "stdout",
     "output_type": "stream",
     "text": [
      "{15780.09: [15779.54131878334, 15780.625657081928],\n",
      " 16237.9: [16237.364438993967, 16238.293871821328],\n",
      " 16314.39: [16313.887741779976, 16314.89462734295],\n",
      " 17026: [17025.600929331227, 17026.452909422977],\n",
      " 17081.8: [17081.366898972854, 17082.296331800215],\n",
      " 17129.35: [17128.76797316824, 17129.852311466824],\n",
      " 23073.9: [23073.10783493559, 23074.492179990495],\n",
      " 23109.4: [23108.547068341242, 23110.208282407133]}\n",
      "\\begin{table}[h!]\n",
      "\\centering\n",
      "\\small\n",
      "\\begin{tabular}{ccc}\n",
      "\\hline\n",
      "\\hline\n",
      "$\\lambda_{\\mathrm{CO}}$ & $\\lambda_{\\mathrm{min}}$ & $\\lambda_{\\mathrm{max}}$ \\\\\n",
      "\\hline\n",
      "15780.09 & 15779.54 & 15780.63 \\\\\n",
      "16237.90 & 16237.36 & 16238.29 \\\\\n",
      "16314.39 & 16313.89 & 16314.89 \\\\\n",
      "17026.00 & 17025.60 & 17026.45 \\\\\n",
      "17081.80 & 17081.37 & 17082.30 \\\\\n",
      "17129.35 & 17128.77 & 17129.85 \\\\\n",
      "23073.90 & 23073.11 & 23074.49 \\\\\n",
      "23109.40 & 23108.55 & 23110.21 \\\\\n",
      "\\end{tabular}\n",
      "\\end{table}\n"
     ]
    }
   ],
   "source": [
    "pprint(chi_final_CO)\n",
    "latex_table(chi_final_CO, \"CO\")"
   ]
  },
  {
   "cell_type": "code",
   "execution_count": null,
   "metadata": {},
   "outputs": [
    {
     "data": {
      "text/plain": [
       "(7.89, 0.02)"
      ]
     },
     "metadata": {},
     "output_type": "display_data"
    }
   ],
   "source": [
    "raie_element_bis={}\n",
    "synth_H_bis={\n",
    "     \"CO_/4000g1.0z-0.50m1.0t02a+0.20c+0.346n+0.00o+0.20r+0.00s+0.00.mod_15750-17250_BD-221742_Cabu_7.8_bis.conv\":\"logC=7.8 & logO=8.3\",\n",
    "     \"CO_/4000g1.0z-0.50m1.0t02a+0.20c+0.346n+0.00o+0.20r+0.00s+0.00.mod_15750-17250_BD-221742_Cabu_7.85_bis.conv\":\"logC=7.85 & logO=8.3\",\n",
    "     \"CO_/4000g1.0z-0.50m1.0t02a+0.20c+0.346n+0.00o+0.20r+0.00s+0.00.mod_15750-17250_BD-221742_Cabu_7.9_bis.conv\":\"logC=7.9 & logO=8.3\",\n",
    "     \"CO_/4000g1.0z-0.50m1.0t02a+0.20c+0.346n+0.00o+0.20r+0.00s+0.00.mod_15750-17250_BD-221742_Cabu_7.7_bis.conv\":\"logC=7.7 & logO=8.3\",\n",
    "     \"CO_/4000g1.0z-0.50m1.0t02a+0.20c+0.346n+0.00o+0.20r+0.00s+0.00.mod_15750-17250_BD-221742_Cabu_8.0_bis.conv\":\"logC=8.0 & logO=8.3\",\n",
    "     \"CO_/4000g1.0z-0.50m1.0t02a+0.20c+0.346n+0.00o+0.20r+0.00s+0.00.mod_15750-17250_BD-221742_Cabu_8.1_bis.conv\":\"logC=8.1 & logO=8.3\",\n",
    "}\n",
    "ABU_bis=[7.8, 7.85, 7.9, 7.7, 8.0, 8.1]\n",
    "for wavelength in raie_H:\n",
    "     chi_plot_ABU(\n",
    "            ABU_bis, \n",
    "            chi_2(path, synth_H_bis, stardata, wavelength, lines_BD22,\n",
    "                name=element,start=raie_H.get(wavelength)[0],end=raie_H.get(wavelength)[1])[\"chi_squared_values\"], \"C\",wavelength, element, raie_element_bis)\n",
    "     \n",
    "     chi_2(path, synth_H_bis, stardata, wavelength, lines_BD22,\n",
    "                name=element,start=raie_H.get(wavelength)[0],end=raie_H.get(wavelength)[1], \n",
    "                plot=True, save=repertory_memoire+\"output/CO/bis/raie_CO\"+str(wavelength)+\".png\")\n",
    "abu_plot(raie_element_bis,\"C\", save=repertory_memoire+\"output/CO/bis/abu_C.png\")"
   ]
  },
  {
   "cell_type": "code",
   "execution_count": null,
   "metadata": {},
   "outputs": [],
   "source": [
    "raie_element_ter={}\n",
    "synth_H_ter={\n",
    "     \"CO_/4000g1.0z-0.50m1.0t02a+0.20c+0.346n+0.00o+0.20r+0.00s+0.00.mod_15750-17250_BD-221742_Cabu_7.9_ter.conv\":\"logC=7.9 & logO=8.33\",\n",
    "     \"CO_/4000g1.0z-0.50m1.0t02a+0.20c+0.346n+0.00o+0.20r+0.00s+0.00.mod_15750-17250_BD-221742_Cabu_7.95_ter.conv\":\"logC=7.95 & logO=8.33\",\n",
    "     \"CO_/4000g1.0z-0.50m1.0t02a+0.20c+0.346n+0.00o+0.20r+0.00s+0.00.mod_15750-17250_BD-221742_Cabu_8.0_ter.conv\":\"logC=8.0 & logO=8.33\",\n",
    "     \"CO_/4000g1.0z-0.50m1.0t02a+0.20c+0.346n+0.00o+0.20r+0.00s+0.00.mod_15750-17250_BD-221742_Cabu_7.75_ter.conv\":\"logC=7.75 & logO=8.33\",\n",
    "     \"CO_/4000g1.0z-0.50m1.0t02a+0.20c+0.346n+0.00o+0.20r+0.00s+0.00.mod_15750-17250_BD-221742_Cabu_7.8_ter.conv\":\"logC=7.8 & logO=8.33\",\n",
    "     \"CO_/4000g1.0z-0.50m1.0t02a+0.20c+0.346n+0.00o+0.20r+0.00s+0.00.mod_15750-17250_BD-221742_Cabu_7.85_ter.conv\":\"logC=7.85 & logO=8.33\",\n",
    "}\n",
    "ABU_ter=[7.9,7.95,8.0,7.75,7.8,7.85]\n",
    "for wavelength in raie_H:\n",
    "     chi_plot_ABU(\n",
    "            ABU_ter, \n",
    "            chi_2(path, synth_H_ter, stardata, wavelength, lines_BD22,\n",
    "                name=element,start=raie_H.get(wavelength)[0],end=raie_H.get(wavelength)[1])[\"chi_squared_values\"], \"C\",wavelength, element, raie_element_ter)\n",
    "     chi_2(path, synth_H_ter, stardata, wavelength, lines_BD22,\n",
    "                name=element,start=raie_H.get(wavelength)[0],end=raie_H.get(wavelength)[1], \n",
    "                plot=True, save=repertory_memoire+\"output/CO/ter/raie_CO\"+str(wavelength)+\".png\")\n",
    "      \n",
    "# abu_plot(raie_element_ter,\"C\", save=repertory_memoire+\"output/CO/ter/abu_C.png\")"
   ]
  },
  {
   "cell_type": "code",
   "execution_count": null,
   "metadata": {},
   "outputs": [
    {
     "data": {
      "text/plain": [
       "(7.86, 0.03)"
      ]
     },
     "metadata": {},
     "output_type": "display_data"
    }
   ],
   "source": [
    "synth_K_ter = {\n",
    "     \"CO_/4000g1.0z-0.50m1.0t02a+0.20c+0.346n+0.00o+0.20r+0.00s+0.00.mod_23050-23150_BD-221742_Cabu_7.9_ter.conv\":\"logC=7.9 & logO=8.33\",\n",
    "     \"CO_/4000g1.0z-0.50m1.0t02a+0.20c+0.346n+0.00o+0.20r+0.00s+0.00.mod_23050-23150_BD-221742_Cabu_7.95_ter.conv\":\"logC=7.95 & logO=8.33\",\n",
    "     \"CO_/4000g1.0z-0.50m1.0t02a+0.20c+0.346n+0.00o+0.20r+0.00s+0.00.mod_23050-23150_BD-221742_Cabu_8.0_ter.conv\":\"logC=8.0 & logO=8.33\",\n",
    "     \"CO_/4000g1.0z-0.50m1.0t02a+0.20c+0.346n+0.00o+0.20r+0.00s+0.00.mod_23050-23150_BD-221742_Cabu_7.75_ter.conv\":\"logC=7.75 & logO=8.33\",\n",
    "     \"CO_/4000g1.0z-0.50m1.0t02a+0.20c+0.346n+0.00o+0.20r+0.00s+0.00.mod_23050-23150_BD-221742_Cabu_7.8_ter.conv\":\"logC=7.8 & logO=8.33\",\n",
    "     \"CO_/4000g1.0z-0.50m1.0t02a+0.20c+0.346n+0.00o+0.20r+0.00s+0.00.mod_23050-23150_BD-221742_Cabu_7.85_ter.conv\":\"logC=7.85 & logO=8.33\",\n",
    "}\n",
    "\n",
    "for wavelength in raie_K:\n",
    "     chi_plot_ABU(\n",
    "            ABU_ter, \n",
    "            chi_2(path, synth_K_ter, stardata, wavelength, lines_BD22,\n",
    "                name=element,start=raie_K.get(wavelength)[0],end=raie_K.get(wavelength)[1])[\"chi_squared_values\"], \"C\",wavelength, element, raie_element_ter)\n",
    "     \n",
    "     chi_2(path, synth_K_ter, stardata, wavelength, lines_BD22,\n",
    "                name=element,start=raie_K.get(wavelength)[0],end=raie_K.get(wavelength)[1], \n",
    "                plot=True, save=repertory_memoire+\"output/CO/ter/raie_CO\"+str(wavelength)+\".png\")\n",
    "     \n",
    "abu_plot(raie_element_ter,\"C\", save=repertory_memoire+\"output/CO/ter/abu_C.png\")"
   ]
  },
  {
   "cell_type": "code",
   "execution_count": null,
   "metadata": {},
   "outputs": [],
   "source": [
    "raie_element_quater={}\n",
    "synth_H_quater={\n",
    "     \"CO_/4000g1.0z-0.50m1.0t02a+0.20c+0.346n+0.00o+0.20r+0.00s+0.00.mod_15750-17250_BD-221742_Cabu_7.9_ratioC_12_quater.conv\":\"logC=7.9 & logO=8.31 & log N = 7.82\",\n",
    "     \"CO_/4000g1.0z-0.50m1.0t02a+0.20c+0.346n+0.00o+0.20r+0.00s+0.00.mod_15750-17250_BD-221742_Cabu_7.85_ratioC_12_quater.conv\":\"logC=7.85 & logO=8.31 & log N = 7.82\",\n",
    "     \"CO_/4000g1.0z-0.50m1.0t02a+0.20c+0.346n+0.00o+0.20r+0.00s+0.00.mod_15750-17250_BD-221742_Cabu_7.8_ratioC_12_quater.conv\":\"logC=7.8 & logO=8.31 & log N = 7.82\",\n",
    "     \"CO_/4000g1.0z-0.50m1.0t02a+0.20c+0.346n+0.00o+0.20r+0.00s+0.00.mod_15750-17250_BD-221742_Cabu_7.75_ratioC_12_quater.conv\":\"logC=7.75 & logO=8.31 & log N = 7.82\",\n",
    "     \"CO_/4000g1.0z-0.50m1.0t02a+0.20c+0.346n+0.00o+0.20r+0.00s+0.00.mod_15750-17250_BD-221742_Cabu_8.1_ratioC_12_quater.conv\":\"logC=8.1 & logO=8.31 & log N = 7.82\",\n",
    "     \"CO_/4000g1.0z-0.50m1.0t02a+0.20c+0.346n+0.00o+0.20r+0.00s+0.00.mod_15750-17250_BD-221742_Cabu_8.0_ratioC_12_quater.conv\":\"logC=8.0 & logO=8.31 & log N = 7.82\",\n",
    "     \"CO_/4000g1.0z-0.50m1.0t02a+0.20c+0.346n+0.00o+0.20r+0.00s+0.00.mod_15750-17250_BD-221742_Cabu_7.7_ratioC_12_quater.conv\":\"logC=7.7 & logO=8.31 & log N = 7.82\",\n",
    "}\n",
    "ABU_quater=[7.9,7.85,7.8, 7.75, 8.1, 8.0,7.7]\n",
    "for wavelength in raie_H:\n",
    "     chi_plot_ABU(\n",
    "            ABU_quater, \n",
    "            chi_2(path, synth_H_quater, stardata, wavelength, lines_BD22,\n",
    "                name=element,start=raie_H.get(wavelength)[0],end=raie_H.get(wavelength)[1])[\"chi_squared_values\"], \"C\",wavelength, element, raie_element_quater)\n",
    "     chi_2(path, synth_H_quater, stardata, wavelength, lines_BD22,\n",
    "                name=element,start=raie_H.get(wavelength)[0],end=raie_H.get(wavelength)[1], \n",
    "                plot=True, save=repertory_memoire+\"output/CO/quater/raie_CO\"+str(wavelength)+\".png\")\n",
    "      \n",
    "# abu_plot(raie_element_quater,\"C\", save=repertory_memoire+\"output/CO/quater/abu_C.png\")"
   ]
  },
  {
   "cell_type": "code",
   "execution_count": null,
   "metadata": {},
   "outputs": [
    {
     "data": {
      "text/plain": [
       "(7.88, 0.03)"
      ]
     },
     "metadata": {},
     "output_type": "display_data"
    }
   ],
   "source": [
    "synth_K_quater={\n",
    "     \"CO_/4000g1.0z-0.50m1.0t02a+0.20c+0.346n+0.00o+0.20r+0.00s+0.00.mod_23050-23150_BD-221742_Cabu_7.9_ratioC_12_quater.conv\":\"logC=7.9 & logO=8.31 & log N = 7.82\",\n",
    "     \"CO_/4000g1.0z-0.50m1.0t02a+0.20c+0.346n+0.00o+0.20r+0.00s+0.00.mod_23050-23150_BD-221742_Cabu_7.85_ratioC_12_quater.conv\":\"logC=7.85 & logO=8.31 & log N = 7.82\",\n",
    "     \"CO_/4000g1.0z-0.50m1.0t02a+0.20c+0.346n+0.00o+0.20r+0.00s+0.00.mod_23050-23150_BD-221742_Cabu_7.8_ratioC_12_quater.conv\":\"logC=7.8 & logO=8.31 & log N = 7.82\",\n",
    "     \"CO_/4000g1.0z-0.50m1.0t02a+0.20c+0.346n+0.00o+0.20r+0.00s+0.00.mod_23050-23150_BD-221742_Cabu_7.75_ratioC_12_quater.conv\":\"logC=7.75 & logO=8.31 & log N = 7.82\",\n",
    "     \"CO_/4000g1.0z-0.50m1.0t02a+0.20c+0.346n+0.00o+0.20r+0.00s+0.00.mod_23050-23150_BD-221742_Cabu_8.1_ratioC_12_quater.conv\":\"logC=8.1 & logO=8.31 & log N = 7.82\",\n",
    "     \"CO_/4000g1.0z-0.50m1.0t02a+0.20c+0.346n+0.00o+0.20r+0.00s+0.00.mod_23050-23150_BD-221742_Cabu_8.0_ratioC_12_quater.conv\":\"logC=8.0 & logO=8.31 & log N = 7.82\",\n",
    "     \"CO_/4000g1.0z-0.50m1.0t02a+0.20c+0.346n+0.00o+0.20r+0.00s+0.00.mod_23050-23150_BD-221742_Cabu_7.7_ratioC_12_quater.conv\":\"logC=7.7 & logO=8.31 & log N = 7.82\",\n",
    "\n",
    "}\n",
    "ABU_quater=[7.9,7.85,7.8, 7.75, 8.1, 8.0,7.7]\n",
    "for wavelength in raie_K:\n",
    "     chi_plot_ABU(\n",
    "            ABU_quater, \n",
    "            chi_2(path, synth_K_quater, stardata, wavelength, lines_BD22,\n",
    "                name=element,start=raie_K.get(wavelength)[0],end=raie_K.get(wavelength)[1])[\"chi_squared_values\"], \"C\",wavelength, element, raie_element_quater)\n",
    "     chi_2(path, synth_K_quater, stardata, wavelength, lines_BD22,\n",
    "                name=element,start=raie_K.get(wavelength)[0],end=raie_K.get(wavelength)[1], \n",
    "                plot=True, save=repertory_memoire+\"output/CO/quater/raie_CO\"+str(wavelength)+\".png\")\n",
    "      \n",
    "abu_plot(raie_element_quater,\"C\", save=repertory_memoire+\"output/CO/quater/abu_C.png\")"
   ]
  },
  {
   "cell_type": "code",
   "execution_count": null,
   "metadata": {},
   "outputs": [],
   "source": [
    "raies={\"13C17O\" : [\n",
    "    14742, \n",
    "    14864.3, \n",
    "                #   14921.2,\n",
    "                # 14994,\n",
    "                # 15208,15229,15304,\n",
    "# 15442.3,\n",
    "# 15663\n",
    "\n",
    "# 14837,\n",
    "# 14854.5,\n",
    "14879.8,\n",
    "14884.2,\n",
    "14900,\n",
    "# 14995,\n",
    "]\n",
    "}\n",
    "zoom_lines(raies, path, {\n",
    "# \"13CO/4000g1.0z-0.50m1.0t02a+0.20c+0.346n+0.00o+0.20r+0.00s+0.00.mod_14720-14920_BD-221742_logg_90.conv\" : \"log C = 7.82 & ratio 90\",\n",
    "# \"13CO/4000g1.0z-0.50m1.0t02a+0.20c+0.346n+0.00o+0.20r+0.00s+0.00.mod_14720-14920_BD-221742_logg_40.conv\" : \"log C = 7.82 & ratio 40\",\n",
    "# \"13CO/4000g1.0z-0.50m1.0t02a+0.20c+0.346n+0.00o+0.20r+0.00s+0.00.mod_14720-14920_BD-221742_logg_30.conv\" : \"log C = 7.82 & ratio 30\",\n",
    "# \"13CO/4000g1.0z-0.50m1.0t02a+0.20c+0.346n+0.00o+0.20r+0.00s+0.00.mod_14720-14920_BD-221742_logg_20.conv\" : \"log C = 7.82 & ratio 20\",\n",
    "# \"13CO/4000g1.0z-0.50m1.0t02a+0.20c+0.346n+0.00o+0.20r+0.00s+0.00.mod_14720-14920_BD-221742_logg_10.conv\" : \"log C = 7.82 & ratio 10\",\n",
    "# \"13CO/4000g1.0z-0.50m1.0t02a+0.20c+0.346n+0.00o+0.20r+0.00s+0.00.mod_14720-14920_BD-221742_logg_4.conv\" : \"log C = 7.82 & ratio 4\",\n",
    "# \"13CO/4000g1.0z-0.50m1.0t02a+0.20c+0.346n+0.00o+0.20r+0.00s+0.00.mod_14720-14920_BD-221742_ratioC_40_ratioO_1000.conv\": \"ratioC= 40, ratio O=1000\",\n",
    "# \"13CO/4000g1.0z-0.50m1.0t02a+0.20c+0.346n+0.00o+0.20r+0.00s+0.00.mod_14720-14920_BD-221742_ratioC_40_ratioO_100.conv\": \"ratioC= 40, ratio O=100\",\n",
    "\"CO_/4000g1.0z-0.50m1.0t02a+0.20c+0.346n+0.00o+0.20r+0.00s+0.00.mod_14500-18500_BD-221742_ratioC_12.conv\":\"ratio 12, C=7.88, N=7.82, O=8.31\",\n",
    "\"CO_/4000g1.0z-0.50m1.0t02a+0.20c+0.346n+0.00o+0.20r+0.00s+0.00.mod_14500-18500_BD-221742_ratioC_90.conv\":\"ratio 90\",\n",
    "\"CO_/4000g1.0z-0.50m1.0t02a+0.20c+0.346n+0.00o+0.20r+0.00s+0.00.mod_14500-18500_BD-221742_ratioC_4.conv\":\"ratio 4\",\n",
    "}, stardata,5,lines_BD22)"
   ]
  },
  {
   "cell_type": "code",
   "execution_count": null,
   "metadata": {},
   "outputs": [],
   "source": []
  },
  {
   "cell_type": "markdown",
   "metadata": {},
   "source": [
    "### C test"
   ]
  },
  {
   "cell_type": "code",
   "execution_count": null,
   "metadata": {},
   "outputs": [],
   "source": [
    "zoom_lines(molecular_lines,path,{\"sans_CO_mol\":\"sans CO\",\n",
    "            name_C+\"Cabu_8.44_ratio_90\"+\".conv\":\"log $\\epsilon_C$ = 8.44 & $^{12}C$/$^{13}C$ = 90\",\n",
    "            name_C+\"Cabu_8.44_ratio_4\"+\".conv\":\"log $\\epsilon_C$ = 8.44 & $^{12}C$/$^{13}C$ = 4\",\n",
    "            name_C+\"Cabu_7.8_ratio_90\"+\".conv\":\"log $\\epsilon_C$ = 7.9 & $^{12}C$/$^{13}C$ = 90\",\n",
    "            name_C+\"Cabu_7.8_ratio_4\"+\".conv\":\"log $\\epsilon_C$ = 7.9 & $^{12}C$/$^{13}C$ = 4\",\n",
    "                }, stardata, 10, lines_BD22)"
   ]
  },
  {
   "cell_type": "code",
   "execution_count": null,
   "metadata": {},
   "outputs": [],
   "source": [
    "raie_propre = {\n",
    "    \"CO\":[\n",
    "        16187.8\n",
    "            ]\n",
    "}\n",
    "for raie in list(raie_propre.keys()):\n",
    "        for k in raie_propre.get(raie):\n",
    "            chi_plot_ABU(\n",
    "                  [\n",
    "                        # 8.44,8.35,7.00,7.30,7.50,7.80,\n",
    "                        8.00,\n",
    "                   7.60,7.70,7.40, 7.85,7.65,7.75],   \n",
    "                  chi_2(path, {\n",
    "                        \"sans_CO_mol\":\"sans CO\",\n",
    "                        # \"CO_mol/C_8.44\":\"log $\\epsilon_C$ = 8.44\",\n",
    "                        # \"CO_mol/C_8.35\":\"log $\\epsilon_C$ = 8.35\",\n",
    "                        # \"CO_mol/C_7.00\":\"log $\\epsilon_C$ = 7.00\",\n",
    "                        # \"CO_mol/C_7.30\":\"log $\\epsilon_C$ = 7.30\",\n",
    "                        # \"CO_mol/C_7.50\":\"log $\\epsilon_C$ = 7.50\",\n",
    "                        # \"CO_mol/C_7.80\":\"log $\\epsilon_C$ = 7.80\",\n",
    "                        # \"CO_mol/C_8.00\":\"log $\\epsilon_C$ = 8.00\",\n",
    "                        # \"CO_mol/C_7.60\":\"log $\\epsilon_C$ = 7.60\",\n",
    "                        # \"CO_mol/C_7.70\":\"log $\\epsilon_C$ = 7.70\",\n",
    "                        # \"CO_mol/C_7.40\":\"log $\\epsilon_C$ = 7.40\",\n",
    "                        # \"CO_mol/C_7.85\":\"log $\\epsilon_C$ = 7.85\",\n",
    "                        # \"CO_mol/C_7.65\":\"log $\\epsilon_C$ = 7.65\",\n",
    "                        \"CO_mol/C_7.75\":\"log $\\epsilon_C$ = 7.75\",\n",
    "\n",
    "                         }, stardata, k, lines_BD22,name=raie,start=16184, end=16194, plot=True)[\"chi_squared_values\"], \"C\",k,raie, raie_CO)"
   ]
  },
  {
   "cell_type": "code",
   "execution_count": null,
   "metadata": {},
   "outputs": [],
   "source": [
    "# de nutte nucleo in agb "
   ]
  },
  {
   "cell_type": "code",
   "execution_count": null,
   "metadata": {},
   "outputs": [],
   "source": [
    "raie_propre = {\n",
    "    \"CO\":[\n",
    "        16618\n",
    "            ]\n",
    "}\n",
    "for raie in list(raie_propre.keys()):\n",
    "        for k in raie_propre.get(raie):\n",
    "            chi_plot_ABU(\n",
    "                  [8.44,8.35,7.00,7.30,7.50,7.80,8.00,7.60,7.70,7.40],   \n",
    "                  chi_2(path, {\n",
    "                        \"sans_CO_mol\":\"sans CO\",\n",
    "                        # \"CO_mol/C_8.44\":\"log $\\epsilon_C$ = 8.44\",\n",
    "                        # \"CO_mol/C_8.35\":\"log $\\epsilon_C$ = 8.35\",\n",
    "                        # \"CO_mol/C_7.00\":\"log $\\epsilon_C$ = 7.00\",\n",
    "                        # \"CO_mol/C_7.30\":\"log $\\epsilon_C$ = 7.30\",\n",
    "                        # \"CO_mol/C_7.50\":\"log $\\epsilon_C$ = 7.50\",\n",
    "                        \"CO_mol/C_7.80\":\"log $\\epsilon_C$ = 7.80\",\n",
    "                        # \"CO_mol/C_8.00\":\"log $\\epsilon_C$ = 8.00\",\n",
    "                        # \"CO_mol/C_7.60\":\"log $\\epsilon_C$ = 7.60\",\n",
    "                        # \"CO_mol/C_7.70\":\"log $\\epsilon_C$ = 7.70\",\n",
    "                        # \"CO_mol/C_7.40\":\"log $\\epsilon_C$ = 7.40\",\n",
    "                        \"CO_mol/C_7.75\":\"log $\\epsilon_C$ = 7.75\",\n",
    "                         }, stardata, k, lines_BD22,name=raie,start=16612,end=16628, plot=True)[\"chi_squared_values\"], \"C\",k,raie, raie_CO)"
   ]
  },
  {
   "cell_type": "code",
   "execution_count": null,
   "metadata": {},
   "outputs": [],
   "source": [
    "raie_propre = {\n",
    "    \"CO\":[\n",
    "        16610.15\n",
    "            ]\n",
    "}\n",
    "for raie in list(raie_propre.keys()):\n",
    "        for k in raie_propre.get(raie):\n",
    "            chi_plot_ABU(\n",
    "                  [8.44,8.35,7.00,7.30,7.50,7.80,8.00,7.60,7.70,7.40],   \n",
    "                  chi_2(path, {\n",
    "                        \"sans_CO_mol\":\"sans CO\",\n",
    "                        # \"CO_mol/C_8.44\":\"log $\\epsilon_C$ = 8.44\",\n",
    "                        # \"CO_mol/C_8.35\":\"log $\\epsilon_C$ = 8.35\",\n",
    "                        # \"CO_mol/C_7.00\":\"log $\\epsilon_C$ = 7.00\",\n",
    "                        # \"CO_mol/C_7.30\":\"log $\\epsilon_C$ = 7.30\",\n",
    "                        # \"CO_mol/C_7.50\":\"log $\\epsilon_C$ = 7.50\",\n",
    "                        \"CO_mol/C_7.80\":\"log $\\epsilon_C$ = 7.80\",\n",
    "                        # \"CO_mol/C_8.00\":\"log $\\epsilon_C$ = 8.00\",\n",
    "                        # \"CO_mol/C_7.60\":\"log $\\epsilon_C$ = 7.60\",\n",
    "                        # \"CO_mol/C_7.70\":\"log $\\epsilon_C$ = 7.70\",\n",
    "                        \"CO_mol/C_7.75\":\"log $\\epsilon_C$ = 7.75\",\n",
    "                        # \"CO_mol/C_7.40\":\"log $\\epsilon_C$ = 7.40\",\n",
    "                         }, stardata, k, lines_BD22,name=raie,start=16609.7,end=16610.6, plot=True)[\"chi_squared_values\"], \"C\",k,raie, raie_CO)"
   ]
  },
  {
   "cell_type": "code",
   "execution_count": null,
   "metadata": {},
   "outputs": [],
   "source": [
    "raie_propre = {\n",
    "    \"CO\":[\n",
    "        16881.8\n",
    "            ]\n",
    "}\n",
    "for raie in list(raie_propre.keys()):\n",
    "        for k in raie_propre.get(raie):\n",
    "            chi_plot_ABU(\n",
    "                  [8.44,8.35,7.00,7.30,7.50,7.80,8.00,7.60,7.70,7.40],   \n",
    "                  chi_2(path, {\n",
    "                        \"sans_CO_mol\":\"sans CO\",\n",
    "                        # \"CO_mol/C_8.44\":\"log $\\epsilon_C$ = 8.44\",\n",
    "                        # \"CO_mol/C_8.35\":\"log $\\epsilon_C$ = 8.35\",\n",
    "                        # \"CO_mol/C_7.00\":\"log $\\epsilon_C$ = 7.00\",\n",
    "                        # \"CO_mol/C_7.30\":\"log $\\epsilon_C$ = 7.30\",\n",
    "                        # \"CO_mol/C_7.50\":\"log $\\epsilon_C$ = 7.50\",\n",
    "                        # \"CO_mol/C_7.80\":\"log $\\epsilon_C$ = 7.80\",\n",
    "                        # \"CO_mol/C_8.00\":\"log $\\epsilon_C$ = 8.00\",\n",
    "                        # \"CO_mol/C_7.60\":\"log $\\epsilon_C$ = 7.60\",\n",
    "                        # \"CO_mol/C_7.70\":\"log $\\epsilon_C$ = 7.70\",\n",
    "                        \"CO_mol/C_7.75\":\"log $\\epsilon_C$ = 7.75\",\n",
    "                        # \"CO_mol/C_7.40\":\"log $\\epsilon_C$ = 7.40\",\n",
    "                         }, stardata, k, lines_BD22,name=raie, plot=True)[\"chi_squared_values\"], \"C\",k,raie, raie_CO)"
   ]
  },
  {
   "cell_type": "code",
   "execution_count": null,
   "metadata": {},
   "outputs": [],
   "source": [
    "pprint(lines_BD22)"
   ]
  },
  {
   "cell_type": "code",
   "execution_count": null,
   "metadata": {},
   "outputs": [],
   "source": [
    "raie_propre = {\n",
    "    \"CO\":[\n",
    "        16915\n",
    "            ]\n",
    "}\n",
    "for raie in list(raie_propre.keys()):\n",
    "        for k in raie_propre.get(raie):\n",
    "            chi_plot_ABU(\n",
    "                  [8.44,8.35,7.00,7.30,7.50,7.80,8.00,7.60,7.70,7.40],   \n",
    "                  chi_2(path, {\n",
    "                        # \"sans_CO_mol\":\"sans CO\",\n",
    "                        \"CO_mol/C_8.44\":\"log $\\epsilon_C$ = 8.44\",\n",
    "                        \"CO_mol/C_8.35\":\"log $\\epsilon_C$ = 8.35\",\n",
    "                        \"CO_mol/C_7.00\":\"log $\\epsilon_C$ = 7.00\",\n",
    "                        \"CO_mol/C_7.30\":\"log $\\epsilon_C$ = 7.30\",\n",
    "                        \"CO_mol/C_7.50\":\"log $\\epsilon_C$ = 7.50\",\n",
    "                        \"CO_mol/C_7.80\":\"log $\\epsilon_C$ = 7.80\",\n",
    "                        \"CO_mol/C_8.00\":\"log $\\epsilon_C$ = 8.00\",\n",
    "                        \"CO_mol/C_7.60\":\"log $\\epsilon_C$ = 7.60\",\n",
    "                        \"CO_mol/C_7.70\":\"log $\\epsilon_C$ = 7.70\",\n",
    "                        \"CO_mol/C_7.40\":\"log $\\epsilon_C$ = 7.40\",\n",
    "                         }, stardata, k, lines_BD22,name=raie, plot=True)[\"chi_squared_values\"], \"C\",k,raie, raie_CO)"
   ]
  },
  {
   "cell_type": "markdown",
   "metadata": {},
   "source": [
    "## Azote"
   ]
  },
  {
   "cell_type": "code",
   "execution_count": null,
   "metadata": {},
   "outputs": [],
   "source": [
    "raie_CN = {}\n",
    "element=\"$^{12}$C$^{14}$N\"\n",
    "raie_propre_CN={\n",
    "    14833.25 :[14832.8,14833.8],\n",
    "    14744.25 : [14743.8, 14744.6],\n",
    "    14747.2 : [14746.7, 14747.78],\n",
    "    14757.561 : [14757.2, 14758],\n",
    "    14759.843 : [14759.4, 14760.5],\n",
    "    14763.5 : [14762.95, 14764.1],\n",
    "    15447.112 : [15446.6, 15447.65],\n",
    "    15192.1: [15191.7,15192.55],\n",
    "    16056.947 : [16056.4, 16057.5],\n",
    "}\n",
    "\n",
    "raie_13CN = {\n",
    "    14742.03 : [14741.7,14742.4],\n",
    "    14758.7 : [14758.3,14758.8],\n",
    "    14761.559 : [14761,14761.66],\n",
    "    14837.3 : [14836.8,14837.7],\n",
    "    15196.955 : [15196.6,15197.5]\n",
    "}\n"
   ]
  },
  {
   "cell_type": "code",
   "execution_count": null,
   "metadata": {},
   "outputs": [
    {
     "name": "stderr",
     "output_type": "stream",
     "text": [
      "/Users/margauxvandererven/Library/CloudStorage/OneDrive-UniversitéLibredeBruxelles/memoire/script/minimisation_chi_2.py:174: RuntimeWarning: More than 20 figures have been opened. Figures created through the pyplot interface (`matplotlib.pyplot.figure`) are retained until explicitly closed and may consume too much memory. (To control this warning, see the rcParam `figure.max_open_warning`). Consider using `matplotlib.pyplot.close()`.\n",
      "  f = plt.figure(figsize=(8, 6))\n"
     ]
    }
   ],
   "source": [
    "#default ratio C=20\n",
    "synth_CN={\n",
    "     \"tout_sans_CN\":\"sans CN\",\n",
    "    #  \"CN/4000g1.0z-0.50m1.0t02a+0.20c+0.346n+0.00o+0.20r+0.00s+0.00.mod_14720-16120_BD-221742_Nabu_7.38.conv\": \"logO=8.33, logC=7.86 & logN= 7.38\",\n",
    "     \"CN/4000g1.0z-0.50m1.0t02a+0.20c+0.346n+0.00o+0.20r+0.00s+0.00.mod_14720-16120_BD-221742_Nabu_7.5.conv\": \"logO=8.33, logC=7.86 & logN= 7.5\",\n",
    "     \"CN/4000g1.0z-0.50m1.0t02a+0.20c+0.346n+0.00o+0.20r+0.00s+0.00.mod_14720-16120_BD-221742_Nabu_8.0.conv\": \"logO=8.33, logC=7.86 & logN= 8.0\",\n",
    "     \"CN/4000g1.0z-0.50m1.0t02a+0.20c+0.346n+0.00o+0.20r+0.00s+0.00.mod_14720-16120_BD-221742_Nabu_7.9.conv\": \"logO=8.33, logC=7.86 & logN= 7.9\",\n",
    "     \"CN/4000g1.0z-0.50m1.0t02a+0.20c+0.346n+0.00o+0.20r+0.00s+0.00.mod_14720-16120_BD-221742_Nabu_8.1.conv\": \"logO=8.33, logC=7.86 & logN= 8.1\",\n",
    "     \"CN/4000g1.0z-0.50m1.0t02a+0.20c+0.346n+0.00o+0.20r+0.00s+0.00.mod_14720-16120_BD-221742_Nabu_7.8.conv\": \"logO=8.33, logC=7.86 & logN= 7.8\",\n",
    "    #  \"CN/4000g1.0z-0.50m1.0t02a+0.20c+0.346n+0.00o+0.20r+0.00s+0.00.mod_14720-16120_BD-221742_Nabu_7.7.conv\": \"logO=8.33, logC=7.86 & logN= 7.7\",\n",
    "}\n",
    "\n",
    "synth_CN_ = {key: synth_CN[key] for key in list(synth_CN.keys())[1:]}\n",
    "ABU_N=[7.5, 8.0, 7.9, 8.1, 7.8]\n",
    "for wavelength in raie_propre_CN:\n",
    "     chi_plot_ABU(\n",
    "            ABU_N, \n",
    "            chi_2(path, synth_CN_, stardata, wavelength, lines_BD22,chi_final_CN,\n",
    "                name=element,start=raie_propre_CN.get(wavelength)[0],end=raie_propre_CN.get(wavelength)[1])[\"chi_squared_values\"], \"N\",wavelength, element, raie_CN)\n",
    "     \n",
    "#      chi_2(path, synth_CN, stardata, wavelength, lines_BD22,\n",
    "#                 name=element,start=raie_propre_CN.get(wavelength)[0],end=raie_propre_CN.get(wavelength)[1], \n",
    "#                 plot=True,save=repertory_memoire+\"output/CN/first/raie_CN_\"+str(wavelength)+\".png\")\n",
    "     \n",
    "# abu_plot(raie_CN,\"N\",save=repertory_memoire+\"output/CN/first/abu_N.png\")\n",
    "\n"
   ]
  },
  {
   "cell_type": "code",
   "execution_count": null,
   "metadata": {},
   "outputs": [],
   "source": [
    "synth_CN_13 = {\n",
    "       \"CN/4000g1.0z-0.50m1.0t02a+0.20c+0.346n+0.00o+0.20r+0.00s+0.00.mod_14720-16120_BD-221742_Nabu_7.85_ratioC_4.conv\": \"logO=8.33, logC=7.86 & logN= 7.85 & ratioC=4\",\n",
    "     \"CN/4000g1.0z-0.50m1.0t02a+0.20c+0.346n+0.00o+0.20r+0.00s+0.00.mod_14720-16120_BD-221742_Nabu_7.85_ratioC_90.conv\": \"logO=8.33, logC=7.86 & logN= 7.85 & ratioC=90\",\n",
    "     \"CN/4000g1.0z-0.50m1.0t02a+0.20c+0.346n+0.00o+0.20r+0.00s+0.00.mod_14720-16120_BD-221742_Nabu_7.85_ratioC_20.conv\": \"logO=8.33, logC=7.86 & logN= 7.85 & ratioC=20\",\n",
    "     \"CN/4000g1.0z-0.50m1.0t02a+0.20c+0.346n+0.00o+0.20r+0.00s+0.00.mod_14720-16120_BD-221742_Nabu_7.85_ratioC_15.conv\": \"logO=8.33, logC=7.86 & logN= 7.85 & ratioC=15\",\n",
    "     \"CN/4000g1.0z-0.50m1.0t02a+0.20c+0.346n+0.00o+0.20r+0.00s+0.00.mod_14720-16120_BD-221742_Nabu_7.85_ratioC_12.conv\": \"logO=8.33, logC=7.86 & logN= 7.85 & ratioC=12\",\n",
    "     \"CN/4000g1.0z-0.50m1.0t02a+0.20c+0.346n+0.00o+0.20r+0.00s+0.00.mod_14720-16120_BD-221742_Nabu_7.85_ratioC_10.conv\": \"logO=8.33, logC=7.86 & logN= 7.85 & ratioC=10\",\n",
    "     \"CN/4000g1.0z-0.50m1.0t02a+0.20c+0.346n+0.00o+0.20r+0.00s+0.00.mod_14720-16120_BD-221742_Nabu_7.85_ratioC_9.conv\": \"logO=8.33, logC=7.86 & logN= 7.85 & ratioC=9\",\n",
    "}\n",
    "\n",
    "\n",
    "# ratioC=[4,90,20,15,12,10,9]\n",
    "for wavelength in raie_13CN:\n",
    "    #  chi_plot_ABU(\n",
    "    #         ratioC, \n",
    "    #         chi_2(path, synth_CN_, stardata, wavelength, lines_BD22,\n",
    "    #             name=element,start=raie_13CN.get(wavelength)[0],end=raie_13CN.get(wavelength)[1])[\"chi_squared_values\"], \"N\",wavelength, element, raie_CN)\n",
    "     \n",
    "     chi_2(path, synth_CN_13, stardata, wavelength, lines_BD22,\n",
    "                name=element,start=raie_13CN.get(wavelength)[0],end=raie_13CN.get(wavelength)[1], \n",
    "                plot=True, save=repertory_memoire+\"output/CN/ratio_C/raie_CN_\"+str(wavelength)+\".png\")\n",
    "     \n",
    "# abu_plot(raie_13CN,\"N\")"
   ]
  },
  {
   "cell_type": "code",
   "execution_count": null,
   "metadata": {},
   "outputs": [],
   "source": [
    "raie_CN_bis={}\n",
    "raie_propre_CN_bis = {\n",
    "    14833.25 :[14832.8,14833.8],\n",
    "    14744.25 : [14743.8, 14744.65],\n",
    "    14747.2 : [14746.7, 14747.78],\n",
    "    14757.561 : [14757.2, 14758],\n",
    "    14759.843 : [14759.4, 14760.5],\n",
    "    14763.5 : [14762.95, 14764.1],\n",
    "    15447.112 : [15446.6, 15447.65],\n",
    "    15192.1: [15191.7,15192.55],\n",
    "    16056.947 : [16056.4, 16057.5],\n",
    "    16167.23 : [16166.88, 16167.55],\n",
    "    16317.6 : [16317.14, 16318],\n",
    "    16358.15 : [16357.68, 16358.64],\n",
    "    16590.7 : [16590.39, 16591.08],\n",
    "    # 16778.8 : [16778.43, 16779.22],\n",
    "    # 16798.18 : [16797.81, 16798.6],\n",
    "    # 16917.29 : [None, None],\n",
    "    # 16966.8 : [None, None],\n",
    "}\n",
    "raie_propre_CN_bis_K = {\n",
    "    19833.59 : [19833, 19834.2],\n",
    "    19865.84 : [19865.1, 19866.5],\n",
    "    19906.49 : [19906, 19907.1],\n",
    "    19913.57 : [19912.9, 19914.25],\n",
    "    # 19956.37 : [None, None],\n",
    "    22220.20 : [22219.6, 22220.8],\n",
    "    22400.5 : [22399.9, 22401.15],\n",
    "    22593.83 : [22593.1, 22594.58],\n",
    "    22753.9 : [22753.2, 22754.77],\n",
    "    # 22817.67 : [None, None],\n",
    "    # 22848.26 : [22848, 22845],\n",
    "}\n",
    "chi_final_CN={}"
   ]
  },
  {
   "cell_type": "code",
   "execution_count": null,
   "metadata": {},
   "outputs": [],
   "source": [
    "synth_CN_bis={\n",
    "    \"tout_sans_CN\":\"sans CN\",\n",
    "   \"CN/4000g1.0z-0.50m1.0t02a+0.20c+0.346n+0.00o+0.20r+0.00s+0.00.mod_14500-18500_BD-221742_Nabu_7.8_bis.conv\" : \"logO=8.31, logC=7.88 & logN= 7.8\",\n",
    "   \"CN/4000g1.0z-0.50m1.0t02a+0.20c+0.346n+0.00o+0.20r+0.00s+0.00.mod_14500-18500_BD-221742_Nabu_7.9_bis.conv\" : \"logO=8.31, logC=7.88 & logN= 7.9\",\n",
    "   \"CN/4000g1.0z-0.50m1.0t02a+0.20c+0.346n+0.00o+0.20r+0.00s+0.00.mod_14500-18500_BD-221742_Nabu_7.85_bis.conv\" : \"logO=8.31, logC=7.88 & logN= 7.85\",\n",
    "   \"CN/4000g1.0z-0.50m1.0t02a+0.20c+0.346n+0.00o+0.20r+0.00s+0.00.mod_14500-18500_BD-221742_Nabu_7.75_bis.conv\" : \"logO=8.31, logC=7.88 & logN= 7.75\",\n",
    "   \"CN/4000g1.0z-0.50m1.0t02a+0.20c+0.346n+0.00o+0.20r+0.00s+0.00.mod_14500-18500_BD-221742_Nabu_7.95_bis.conv\" : \"logO=8.31, logC=7.88 & logN= 7.95\",\n",
    "   \"CN/4000g1.0z-0.50m1.0t02a+0.20c+0.346n+0.00o+0.20r+0.00s+0.00.mod_14500-18500_BD-221742_Nabu_8.1_bis.conv\" : \"logO=8.31, logC=7.88 & logN= 8.1\",\n",
    "}\n",
    "\n",
    "synth_CN_bis_ = {key: synth_CN_bis[key] for key in list(synth_CN_bis.keys())[1:]}\n",
    "ABU_N_bis=[7.8, 7.9, 7.85, 7.75, 7.95,8.1]\n",
    "for wavelength in raie_propre_CN_bis:\n",
    "     chi_plot_ABU(\n",
    "            ABU_N_bis, \n",
    "            chi_2(path, synth_CN_bis_, stardata, wavelength, lines_BD22,chi_final_CN,\n",
    "                name=element,start=raie_propre_CN_bis.get(wavelength)[0],end=raie_propre_CN_bis.get(wavelength)[1])[\"chi_squared_values\"], \"N\",wavelength, element, raie_CN_bis)\n",
    "     \n",
    "    #  chi_2(path, synth_CN_bis, stardata, wavelength, lines_BD22,\n",
    "    #             name=element,start=raie_propre_CN_bis.get(wavelength)[0],end=raie_propre_CN_bis.get(wavelength)[1], \n",
    "    #             plot=True, save=repertory_memoire+\"output/CN/bis/raie_CN_\"+str(wavelength)+\".png\")"
   ]
  },
  {
   "cell_type": "code",
   "execution_count": null,
   "metadata": {},
   "outputs": [
    {
     "name": "stdout",
     "output_type": "stream",
     "text": [
      "{14744.25: [14743.765885425748, 14744.540412781882],\n",
      " 14747.2: [14746.709089379057, 14747.715974942032],\n",
      " 14757.561: [14757.165208686862, 14757.939736042994],\n",
      " 14759.843: [14759.411338019649, 14760.418223582623],\n",
      " 14763.5: [14762.974163857865, 14764.058502156453],\n",
      " 14833.25: [14832.836531381123, 14833.68851147287],\n",
      " 15192.1: [15191.675055477865, 15192.449582833999],\n",
      " 15447.112: [15446.572008381465, 15447.57889394444],\n",
      " 16056.947: [16056.434848601137, 16057.441734164111],\n",
      " 16167.23: [16166.882449585803, 16167.50207147071],\n",
      " 16317.6: [16317.140756675739, 16317.915284031873],\n",
      " 16358.15: [16357.64853740153, 16358.577970228891],\n",
      " 16590.7: [16590.394007919705, 16591.013629804613]}\n"
     ]
    }
   ],
   "source": [
    "pprint(chi_final_CN)"
   ]
  },
  {
   "cell_type": "code",
   "execution_count": null,
   "metadata": {},
   "outputs": [
    {
     "name": "stderr",
     "output_type": "stream",
     "text": [
      "/Users/margauxvandererven/Library/CloudStorage/OneDrive-UniversitéLibredeBruxelles/memoire/script/minimisation_chi_2.py:174: RuntimeWarning: More than 20 figures have been opened. Figures created through the pyplot interface (`matplotlib.pyplot.figure`) are retained until explicitly closed and may consume too much memory. (To control this warning, see the rcParam `figure.max_open_warning`). Consider using `matplotlib.pyplot.close()`.\n",
      "  f = plt.figure(figsize=(8, 6))\n"
     ]
    }
   ],
   "source": [
    "synth_CN_bis_K={\n",
    "    \"tout_sans_CN2\":\"sans CN\",\n",
    "   \"CN/4000g1.0z-0.50m1.0t02a+0.20c+0.346n+0.00o+0.20r+0.00s+0.00.mod_19800-23800_BD-221742_Nabu_7.8_bis.conv\" : \"logO=8.31, logC=7.88 & logN= 7.8\",\n",
    "   \"CN/4000g1.0z-0.50m1.0t02a+0.20c+0.346n+0.00o+0.20r+0.00s+0.00.mod_19800-23800_BD-221742_Nabu_7.9_bis.conv\" : \"logO=8.31, logC=7.88 & logN= 7.9\",\n",
    "   \"CN/4000g1.0z-0.50m1.0t02a+0.20c+0.346n+0.00o+0.20r+0.00s+0.00.mod_19800-23800_BD-221742_Nabu_7.85_bis.conv\" : \"logO=8.31, logC=7.88 & logN= 7.85\",\n",
    "   \"CN/4000g1.0z-0.50m1.0t02a+0.20c+0.346n+0.00o+0.20r+0.00s+0.00.mod_19800-23800_BD-221742_Nabu_7.75_bis.conv\" : \"logO=8.31, logC=7.88 & logN= 7.75\",\n",
    "   \"CN/4000g1.0z-0.50m1.0t02a+0.20c+0.346n+0.00o+0.20r+0.00s+0.00.mod_19800-23800_BD-221742_Nabu_7.95_bis.conv\" : \"logO=8.31, logC=7.88 & logN= 7.95\",\n",
    "   \"CN/4000g1.0z-0.50m1.0t02a+0.20c+0.346n+0.00o+0.20r+0.00s+0.00.mod_19800-23800_BD-221742_Nabu_8.1_bis.conv\" : \"logO=8.31, logC=7.88 & logN= 8.1\",\n",
    "}\n",
    "\n",
    "synth_CN_bis__K = {key: synth_CN_bis_K[key] for key in list(synth_CN_bis_K.keys())[1:]}\n",
    "ABU_N_bis=[7.8, 7.9, 7.85, 7.75, 7.95,8.1]\n",
    "for wavelength in raie_propre_CN_bis_K:\n",
    "     chi_plot_ABU(\n",
    "            ABU_N_bis, \n",
    "            chi_2(path, synth_CN_bis__K, stardata, wavelength, lines_BD22,chi_final_CN,\n",
    "                name=element,start=raie_propre_CN_bis_K.get(wavelength)[0],end=raie_propre_CN_bis_K.get(wavelength)[1])[\"chi_squared_values\"], \"N\",wavelength, element, raie_CN_bis)\n",
    "     \n",
    "    #  chi_2(path, synth_CN_bis_K, stardata, wavelength, lines_BD22,\n",
    "    #             name=element,start=raie_propre_CN_bis_K.get(wavelength)[0],end=raie_propre_CN_bis_K.get(wavelength)[1], \n",
    "    #             plot=True, save=repertory_memoire+\"output/CN/bis/raie_CN_\"+str(wavelength)+\".png\")"
   ]
  },
  {
   "cell_type": "code",
   "execution_count": null,
   "metadata": {},
   "outputs": [
    {
     "name": "stdout",
     "output_type": "stream",
     "text": [
      "{14744.25: [14743.765885425748, 14744.540412781882],\n",
      " 14747.2: [14746.709089379057, 14747.715974942032],\n",
      " 14757.561: [14757.165208686862, 14757.939736042994],\n",
      " 14759.843: [14759.411338019649, 14760.418223582623],\n",
      " 14763.5: [14762.974163857865, 14764.058502156453],\n",
      " 14833.25: [14832.836531381123, 14833.68851147287],\n",
      " 15192.1: [15191.675055477865, 15192.449582833999],\n",
      " 15447.112: [15446.572008381465, 15447.57889394444],\n",
      " 16056.947: [16056.434848601137, 16057.441734164111],\n",
      " 16167.23: [16166.882449585803, 16167.50207147071],\n",
      " 16317.6: [16317.140756675739, 16317.915284031873],\n",
      " 16358.15: [16357.64853740153, 16358.577970228891],\n",
      " 16590.7: [16590.394007919705, 16591.013629804613],\n",
      " 19833.59: [19833.048233922556, 19834.017275460992],\n",
      " 19865.84: [19865.165039196432, 19866.41094974585],\n",
      " 19906.49: [19906.003218316226, 19906.972259854665],\n",
      " 19913.57: [19912.92494359077, 19914.170854140186],\n",
      " 22220.2: [22219.65910858458, 22220.628150123015],\n",
      " 22400.5: [22399.90083473365, 22401.00831077757],\n",
      " 22593.83: [22593.155404398854, 22594.40131494827],\n",
      " 22753.9: [22753.185692746265, 22754.57003780117]}\n",
      "\\begin{table}[h!]\n",
      "\\centering\n",
      "\\small\n",
      "\\begin{tabular}{ccc}\n",
      "\\hline\n",
      "\\hline\n",
      "$\\lambda_{\\mathrm{CN}}$ & $\\lambda_{\\mathrm{min}}$ & $\\lambda_{\\mathrm{max}}$ \\\\\n",
      "\\hline\n",
      "14744.25 & 14743.77 & 14744.54 \\\\\n",
      "14747.20 & 14746.71 & 14747.72 \\\\\n",
      "14757.56 & 14757.17 & 14757.94 \\\\\n",
      "14759.84 & 14759.41 & 14760.42 \\\\\n",
      "14763.50 & 14762.97 & 14764.06 \\\\\n",
      "14833.25 & 14832.84 & 14833.69 \\\\\n",
      "15192.10 & 15191.68 & 15192.45 \\\\\n",
      "15447.11 & 15446.57 & 15447.58 \\\\\n",
      "16056.95 & 16056.43 & 16057.44 \\\\\n",
      "16167.23 & 16166.88 & 16167.50 \\\\\n",
      "16317.60 & 16317.14 & 16317.92 \\\\\n",
      "16358.15 & 16357.65 & 16358.58 \\\\\n",
      "16590.70 & 16590.39 & 16591.01 \\\\\n",
      "19833.59 & 19833.05 & 19834.02 \\\\\n",
      "19865.84 & 19865.17 & 19866.41 \\\\\n",
      "19906.49 & 19906.00 & 19906.97 \\\\\n",
      "19913.57 & 19912.92 & 19914.17 \\\\\n",
      "22220.20 & 22219.66 & 22220.63 \\\\\n",
      "22400.50 & 22399.90 & 22401.01 \\\\\n",
      "22593.83 & 22593.16 & 22594.40 \\\\\n",
      "22753.90 & 22753.19 & 22754.57 \\\\\n",
      "\\end{tabular}\n",
      "\\end{table}\n"
     ]
    }
   ],
   "source": [
    "pprint(chi_final_CN)\n",
    "latex_table(chi_final_CN, \"CN\")"
   ]
  },
  {
   "cell_type": "code",
   "execution_count": null,
   "metadata": {},
   "outputs": [
    {
     "data": {
      "text/plain": [
       "(7.84, 0.04)"
      ]
     },
     "metadata": {},
     "output_type": "display_data"
    }
   ],
   "source": [
    "abu_plot(raie_CN_bis,\"N\", save=repertory_memoire+\"output/CN/bis/abu_N.png\")"
   ]
  }
 ],
 "metadata": {
  "kernelspec": {
   "display_name": "mon_env",
   "language": "python",
   "name": "python3"
  },
  "language_info": {
   "codemirror_mode": {
    "name": "ipython",
    "version": 3
   },
   "file_extension": ".py",
   "mimetype": "text/x-python",
   "name": "python",
   "nbconvert_exporter": "python",
   "pygments_lexer": "ipython3",
   "version": "3.13.0"
  }
 },
 "nbformat": 4,
 "nbformat_minor": 2
}
